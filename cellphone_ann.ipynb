{
 "cells": [
  {
   "cell_type": "code",
   "execution_count": 133,
   "metadata": {},
   "outputs": [
    {
     "name": "stdout",
     "output_type": "stream",
     "text": [
      "./data/cellphones ratings.csv\n",
      "./data/cellphones data.csv\n",
      "./data/cellphones users.csv\n"
     ]
    }
   ],
   "source": [
    "import numpy as np # linear algebra\n",
    "import pandas as pd # data processing, CSV file I/O (e.g. pd.read_csv)\n",
    "import matplotlib.pyplot as plt # for data visualization\n",
    "import seaborn as sns # for statistical data visualization\n",
    "%matplotlib inline\n",
    "\n",
    "#print file path that includes in certain directory\n",
    "import os\n",
    "for dirname, _, filenames in os.walk('./data'):\n",
    "    for filename in filenames:\n",
    "        print(os.path.join(dirname, filename))\n",
    "        \n",
    "import warnings\n",
    "warnings.filterwarnings('ignore')"
   ]
  },
  {
   "cell_type": "code",
   "execution_count": 134,
   "metadata": {},
   "outputs": [],
   "source": [
    "ratings = pd.read_csv('./data/cellphones ratings.csv')"
   ]
  },
  {
   "cell_type": "code",
   "execution_count": 135,
   "metadata": {},
   "outputs": [],
   "source": [
    "data = pd.read_csv('./data/cellphones data.csv')"
   ]
  },
  {
   "cell_type": "code",
   "execution_count": 136,
   "metadata": {},
   "outputs": [],
   "source": [
    "users = pd.read_csv('./data/cellphones users.csv')"
   ]
  },
  {
   "cell_type": "code",
   "execution_count": 137,
   "metadata": {},
   "outputs": [
    {
     "data": {
      "text/html": [
       "<div>\n",
       "<style scoped>\n",
       "    .dataframe tbody tr th:only-of-type {\n",
       "        vertical-align: middle;\n",
       "    }\n",
       "\n",
       "    .dataframe tbody tr th {\n",
       "        vertical-align: top;\n",
       "    }\n",
       "\n",
       "    .dataframe thead th {\n",
       "        text-align: right;\n",
       "    }\n",
       "</style>\n",
       "<table border=\"1\" class=\"dataframe\">\n",
       "  <thead>\n",
       "    <tr style=\"text-align: right;\">\n",
       "      <th></th>\n",
       "      <th>user_id</th>\n",
       "      <th>cellphone_id</th>\n",
       "      <th>rating</th>\n",
       "    </tr>\n",
       "  </thead>\n",
       "  <tbody>\n",
       "    <tr>\n",
       "      <th>0</th>\n",
       "      <td>0</td>\n",
       "      <td>30</td>\n",
       "      <td>1</td>\n",
       "    </tr>\n",
       "    <tr>\n",
       "      <th>1</th>\n",
       "      <td>0</td>\n",
       "      <td>5</td>\n",
       "      <td>3</td>\n",
       "    </tr>\n",
       "    <tr>\n",
       "      <th>2</th>\n",
       "      <td>0</td>\n",
       "      <td>10</td>\n",
       "      <td>9</td>\n",
       "    </tr>\n",
       "    <tr>\n",
       "      <th>3</th>\n",
       "      <td>0</td>\n",
       "      <td>9</td>\n",
       "      <td>3</td>\n",
       "    </tr>\n",
       "    <tr>\n",
       "      <th>4</th>\n",
       "      <td>0</td>\n",
       "      <td>23</td>\n",
       "      <td>2</td>\n",
       "    </tr>\n",
       "  </tbody>\n",
       "</table>\n",
       "</div>"
      ],
      "text/plain": [
       "   user_id  cellphone_id  rating\n",
       "0        0            30       1\n",
       "1        0             5       3\n",
       "2        0            10       9\n",
       "3        0             9       3\n",
       "4        0            23       2"
      ]
     },
     "execution_count": 137,
     "metadata": {},
     "output_type": "execute_result"
    }
   ],
   "source": [
    "ratings.head()"
   ]
  },
  {
   "cell_type": "code",
   "execution_count": 138,
   "metadata": {},
   "outputs": [
    {
     "data": {
      "text/html": [
       "<div>\n",
       "<style scoped>\n",
       "    .dataframe tbody tr th:only-of-type {\n",
       "        vertical-align: middle;\n",
       "    }\n",
       "\n",
       "    .dataframe tbody tr th {\n",
       "        vertical-align: top;\n",
       "    }\n",
       "\n",
       "    .dataframe thead th {\n",
       "        text-align: right;\n",
       "    }\n",
       "</style>\n",
       "<table border=\"1\" class=\"dataframe\">\n",
       "  <thead>\n",
       "    <tr style=\"text-align: right;\">\n",
       "      <th></th>\n",
       "      <th>cellphone_id</th>\n",
       "      <th>brand</th>\n",
       "      <th>model</th>\n",
       "      <th>operating system</th>\n",
       "      <th>internal memory</th>\n",
       "      <th>RAM</th>\n",
       "      <th>performance</th>\n",
       "      <th>main camera</th>\n",
       "      <th>selfie camera</th>\n",
       "      <th>battery size</th>\n",
       "      <th>screen size</th>\n",
       "      <th>weight</th>\n",
       "      <th>price</th>\n",
       "      <th>release date</th>\n",
       "    </tr>\n",
       "  </thead>\n",
       "  <tbody>\n",
       "    <tr>\n",
       "      <th>0</th>\n",
       "      <td>0</td>\n",
       "      <td>Apple</td>\n",
       "      <td>iPhone SE (2022)</td>\n",
       "      <td>iOS</td>\n",
       "      <td>128</td>\n",
       "      <td>4</td>\n",
       "      <td>7.23</td>\n",
       "      <td>12</td>\n",
       "      <td>7</td>\n",
       "      <td>2018</td>\n",
       "      <td>4.7</td>\n",
       "      <td>144</td>\n",
       "      <td>429</td>\n",
       "      <td>18/03/2022</td>\n",
       "    </tr>\n",
       "    <tr>\n",
       "      <th>1</th>\n",
       "      <td>1</td>\n",
       "      <td>Apple</td>\n",
       "      <td>iPhone 13 Mini</td>\n",
       "      <td>iOS</td>\n",
       "      <td>128</td>\n",
       "      <td>4</td>\n",
       "      <td>7.72</td>\n",
       "      <td>12</td>\n",
       "      <td>12</td>\n",
       "      <td>2438</td>\n",
       "      <td>5.4</td>\n",
       "      <td>141</td>\n",
       "      <td>699</td>\n",
       "      <td>24/09/2021</td>\n",
       "    </tr>\n",
       "    <tr>\n",
       "      <th>2</th>\n",
       "      <td>2</td>\n",
       "      <td>Apple</td>\n",
       "      <td>iPhone 13</td>\n",
       "      <td>iOS</td>\n",
       "      <td>128</td>\n",
       "      <td>4</td>\n",
       "      <td>7.75</td>\n",
       "      <td>12</td>\n",
       "      <td>12</td>\n",
       "      <td>3240</td>\n",
       "      <td>6.1</td>\n",
       "      <td>174</td>\n",
       "      <td>699</td>\n",
       "      <td>24/09/2021</td>\n",
       "    </tr>\n",
       "    <tr>\n",
       "      <th>3</th>\n",
       "      <td>3</td>\n",
       "      <td>Apple</td>\n",
       "      <td>iPhone 13 Pro</td>\n",
       "      <td>iOS</td>\n",
       "      <td>256</td>\n",
       "      <td>6</td>\n",
       "      <td>7.94</td>\n",
       "      <td>12</td>\n",
       "      <td>12</td>\n",
       "      <td>3065</td>\n",
       "      <td>6.1</td>\n",
       "      <td>204</td>\n",
       "      <td>999</td>\n",
       "      <td>24/09/2021</td>\n",
       "    </tr>\n",
       "    <tr>\n",
       "      <th>4</th>\n",
       "      <td>4</td>\n",
       "      <td>Apple</td>\n",
       "      <td>iPhone 13 Pro Max</td>\n",
       "      <td>iOS</td>\n",
       "      <td>256</td>\n",
       "      <td>6</td>\n",
       "      <td>8.01</td>\n",
       "      <td>12</td>\n",
       "      <td>12</td>\n",
       "      <td>4352</td>\n",
       "      <td>6.7</td>\n",
       "      <td>240</td>\n",
       "      <td>1199</td>\n",
       "      <td>24/09/2021</td>\n",
       "    </tr>\n",
       "  </tbody>\n",
       "</table>\n",
       "</div>"
      ],
      "text/plain": [
       "   cellphone_id  brand              model operating system  internal memory  \\\n",
       "0             0  Apple   iPhone SE (2022)              iOS              128   \n",
       "1             1  Apple     iPhone 13 Mini              iOS              128   \n",
       "2             2  Apple          iPhone 13              iOS              128   \n",
       "3             3  Apple      iPhone 13 Pro              iOS              256   \n",
       "4             4  Apple  iPhone 13 Pro Max              iOS              256   \n",
       "\n",
       "   RAM  performance  main camera  selfie camera  battery size  screen size  \\\n",
       "0    4         7.23           12              7          2018          4.7   \n",
       "1    4         7.72           12             12          2438          5.4   \n",
       "2    4         7.75           12             12          3240          6.1   \n",
       "3    6         7.94           12             12          3065          6.1   \n",
       "4    6         8.01           12             12          4352          6.7   \n",
       "\n",
       "   weight  price release date  \n",
       "0     144    429   18/03/2022  \n",
       "1     141    699   24/09/2021  \n",
       "2     174    699   24/09/2021  \n",
       "3     204    999   24/09/2021  \n",
       "4     240   1199   24/09/2021  "
      ]
     },
     "execution_count": 138,
     "metadata": {},
     "output_type": "execute_result"
    }
   ],
   "source": [
    "data.head()"
   ]
  },
  {
   "cell_type": "code",
   "execution_count": 139,
   "metadata": {},
   "outputs": [
    {
     "data": {
      "text/html": [
       "<div>\n",
       "<style scoped>\n",
       "    .dataframe tbody tr th:only-of-type {\n",
       "        vertical-align: middle;\n",
       "    }\n",
       "\n",
       "    .dataframe tbody tr th {\n",
       "        vertical-align: top;\n",
       "    }\n",
       "\n",
       "    .dataframe thead th {\n",
       "        text-align: right;\n",
       "    }\n",
       "</style>\n",
       "<table border=\"1\" class=\"dataframe\">\n",
       "  <thead>\n",
       "    <tr style=\"text-align: right;\">\n",
       "      <th></th>\n",
       "      <th>user_id</th>\n",
       "      <th>age</th>\n",
       "      <th>gender</th>\n",
       "      <th>occupation</th>\n",
       "    </tr>\n",
       "  </thead>\n",
       "  <tbody>\n",
       "    <tr>\n",
       "      <th>0</th>\n",
       "      <td>0</td>\n",
       "      <td>38</td>\n",
       "      <td>Female</td>\n",
       "      <td>Data analyst</td>\n",
       "    </tr>\n",
       "    <tr>\n",
       "      <th>1</th>\n",
       "      <td>1</td>\n",
       "      <td>40</td>\n",
       "      <td>Female</td>\n",
       "      <td>team worker in it</td>\n",
       "    </tr>\n",
       "    <tr>\n",
       "      <th>2</th>\n",
       "      <td>6</td>\n",
       "      <td>55</td>\n",
       "      <td>Female</td>\n",
       "      <td>IT</td>\n",
       "    </tr>\n",
       "    <tr>\n",
       "      <th>3</th>\n",
       "      <td>8</td>\n",
       "      <td>25</td>\n",
       "      <td>Female</td>\n",
       "      <td>Manager</td>\n",
       "    </tr>\n",
       "    <tr>\n",
       "      <th>4</th>\n",
       "      <td>10</td>\n",
       "      <td>23</td>\n",
       "      <td>Male</td>\n",
       "      <td>worker</td>\n",
       "    </tr>\n",
       "  </tbody>\n",
       "</table>\n",
       "</div>"
      ],
      "text/plain": [
       "   user_id  age  gender         occupation\n",
       "0        0   38  Female       Data analyst\n",
       "1        1   40  Female  team worker in it\n",
       "2        6   55  Female                 IT\n",
       "3        8   25  Female            Manager\n",
       "4       10   23    Male             worker"
      ]
     },
     "execution_count": 139,
     "metadata": {},
     "output_type": "execute_result"
    }
   ],
   "source": [
    "users.head()"
   ]
  },
  {
   "cell_type": "code",
   "execution_count": 140,
   "metadata": {},
   "outputs": [
    {
     "data": {
      "text/plain": [
       "((990, 3), (33, 14), (99, 4))"
      ]
     },
     "execution_count": 140,
     "metadata": {},
     "output_type": "execute_result"
    }
   ],
   "source": [
    "ratings.shape, data.shape, users.shape"
   ]
  },
  {
   "cell_type": "code",
   "execution_count": 141,
   "metadata": {},
   "outputs": [],
   "source": [
    "## JOINING THE THREE DATAFRAMES\n",
    "\n",
    "ratings = ratings.set_index('cellphone_id').join(data)"
   ]
  },
  {
   "cell_type": "code",
   "execution_count": 142,
   "metadata": {},
   "outputs": [
    {
     "data": {
      "text/html": [
       "<div>\n",
       "<style scoped>\n",
       "    .dataframe tbody tr th:only-of-type {\n",
       "        vertical-align: middle;\n",
       "    }\n",
       "\n",
       "    .dataframe tbody tr th {\n",
       "        vertical-align: top;\n",
       "    }\n",
       "\n",
       "    .dataframe thead th {\n",
       "        text-align: right;\n",
       "    }\n",
       "</style>\n",
       "<table border=\"1\" class=\"dataframe\">\n",
       "  <thead>\n",
       "    <tr style=\"text-align: right;\">\n",
       "      <th></th>\n",
       "      <th>user_id</th>\n",
       "      <th>rating</th>\n",
       "      <th>cellphone_id</th>\n",
       "      <th>brand</th>\n",
       "      <th>model</th>\n",
       "      <th>operating system</th>\n",
       "      <th>internal memory</th>\n",
       "      <th>RAM</th>\n",
       "      <th>performance</th>\n",
       "      <th>main camera</th>\n",
       "      <th>selfie camera</th>\n",
       "      <th>battery size</th>\n",
       "      <th>screen size</th>\n",
       "      <th>weight</th>\n",
       "      <th>price</th>\n",
       "      <th>release date</th>\n",
       "    </tr>\n",
       "  </thead>\n",
       "  <tbody>\n",
       "    <tr>\n",
       "      <th>0</th>\n",
       "      <td>8</td>\n",
       "      <td>5</td>\n",
       "      <td>0</td>\n",
       "      <td>Apple</td>\n",
       "      <td>iPhone SE (2022)</td>\n",
       "      <td>iOS</td>\n",
       "      <td>128</td>\n",
       "      <td>4</td>\n",
       "      <td>7.23</td>\n",
       "      <td>12</td>\n",
       "      <td>7</td>\n",
       "      <td>2018</td>\n",
       "      <td>4.7</td>\n",
       "      <td>144</td>\n",
       "      <td>429</td>\n",
       "      <td>18/03/2022</td>\n",
       "    </tr>\n",
       "    <tr>\n",
       "      <th>0</th>\n",
       "      <td>16</td>\n",
       "      <td>1</td>\n",
       "      <td>0</td>\n",
       "      <td>Apple</td>\n",
       "      <td>iPhone SE (2022)</td>\n",
       "      <td>iOS</td>\n",
       "      <td>128</td>\n",
       "      <td>4</td>\n",
       "      <td>7.23</td>\n",
       "      <td>12</td>\n",
       "      <td>7</td>\n",
       "      <td>2018</td>\n",
       "      <td>4.7</td>\n",
       "      <td>144</td>\n",
       "      <td>429</td>\n",
       "      <td>18/03/2022</td>\n",
       "    </tr>\n",
       "    <tr>\n",
       "      <th>0</th>\n",
       "      <td>30</td>\n",
       "      <td>4</td>\n",
       "      <td>0</td>\n",
       "      <td>Apple</td>\n",
       "      <td>iPhone SE (2022)</td>\n",
       "      <td>iOS</td>\n",
       "      <td>128</td>\n",
       "      <td>4</td>\n",
       "      <td>7.23</td>\n",
       "      <td>12</td>\n",
       "      <td>7</td>\n",
       "      <td>2018</td>\n",
       "      <td>4.7</td>\n",
       "      <td>144</td>\n",
       "      <td>429</td>\n",
       "      <td>18/03/2022</td>\n",
       "    </tr>\n",
       "    <tr>\n",
       "      <th>0</th>\n",
       "      <td>35</td>\n",
       "      <td>6</td>\n",
       "      <td>0</td>\n",
       "      <td>Apple</td>\n",
       "      <td>iPhone SE (2022)</td>\n",
       "      <td>iOS</td>\n",
       "      <td>128</td>\n",
       "      <td>4</td>\n",
       "      <td>7.23</td>\n",
       "      <td>12</td>\n",
       "      <td>7</td>\n",
       "      <td>2018</td>\n",
       "      <td>4.7</td>\n",
       "      <td>144</td>\n",
       "      <td>429</td>\n",
       "      <td>18/03/2022</td>\n",
       "    </tr>\n",
       "    <tr>\n",
       "      <th>0</th>\n",
       "      <td>52</td>\n",
       "      <td>5</td>\n",
       "      <td>0</td>\n",
       "      <td>Apple</td>\n",
       "      <td>iPhone SE (2022)</td>\n",
       "      <td>iOS</td>\n",
       "      <td>128</td>\n",
       "      <td>4</td>\n",
       "      <td>7.23</td>\n",
       "      <td>12</td>\n",
       "      <td>7</td>\n",
       "      <td>2018</td>\n",
       "      <td>4.7</td>\n",
       "      <td>144</td>\n",
       "      <td>429</td>\n",
       "      <td>18/03/2022</td>\n",
       "    </tr>\n",
       "  </tbody>\n",
       "</table>\n",
       "</div>"
      ],
      "text/plain": [
       "   user_id  rating  cellphone_id  brand             model operating system  \\\n",
       "0        8       5             0  Apple  iPhone SE (2022)              iOS   \n",
       "0       16       1             0  Apple  iPhone SE (2022)              iOS   \n",
       "0       30       4             0  Apple  iPhone SE (2022)              iOS   \n",
       "0       35       6             0  Apple  iPhone SE (2022)              iOS   \n",
       "0       52       5             0  Apple  iPhone SE (2022)              iOS   \n",
       "\n",
       "   internal memory  RAM  performance  main camera  selfie camera  \\\n",
       "0              128    4         7.23           12              7   \n",
       "0              128    4         7.23           12              7   \n",
       "0              128    4         7.23           12              7   \n",
       "0              128    4         7.23           12              7   \n",
       "0              128    4         7.23           12              7   \n",
       "\n",
       "   battery size  screen size  weight  price release date  \n",
       "0          2018          4.7     144    429   18/03/2022  \n",
       "0          2018          4.7     144    429   18/03/2022  \n",
       "0          2018          4.7     144    429   18/03/2022  \n",
       "0          2018          4.7     144    429   18/03/2022  \n",
       "0          2018          4.7     144    429   18/03/2022  "
      ]
     },
     "execution_count": 142,
     "metadata": {},
     "output_type": "execute_result"
    }
   ],
   "source": [
    "ratings.head()"
   ]
  },
  {
   "cell_type": "code",
   "execution_count": 143,
   "metadata": {},
   "outputs": [
    {
     "data": {
      "text/plain": [
       "(990, 16)"
      ]
     },
     "execution_count": 143,
     "metadata": {},
     "output_type": "execute_result"
    }
   ],
   "source": [
    "# Now the column is changed to 16\n",
    "ratings.shape"
   ]
  },
  {
   "cell_type": "code",
   "execution_count": 144,
   "metadata": {},
   "outputs": [],
   "source": [
    "ratings = ratings.set_index('user_id').join(users)"
   ]
  },
  {
   "cell_type": "code",
   "execution_count": 145,
   "metadata": {},
   "outputs": [
    {
     "data": {
      "text/html": [
       "<div>\n",
       "<style scoped>\n",
       "    .dataframe tbody tr th:only-of-type {\n",
       "        vertical-align: middle;\n",
       "    }\n",
       "\n",
       "    .dataframe tbody tr th {\n",
       "        vertical-align: top;\n",
       "    }\n",
       "\n",
       "    .dataframe thead th {\n",
       "        text-align: right;\n",
       "    }\n",
       "</style>\n",
       "<table border=\"1\" class=\"dataframe\">\n",
       "  <thead>\n",
       "    <tr style=\"text-align: right;\">\n",
       "      <th></th>\n",
       "      <th>rating</th>\n",
       "      <th>cellphone_id</th>\n",
       "      <th>brand</th>\n",
       "      <th>model</th>\n",
       "      <th>operating system</th>\n",
       "      <th>internal memory</th>\n",
       "      <th>RAM</th>\n",
       "      <th>performance</th>\n",
       "      <th>main camera</th>\n",
       "      <th>selfie camera</th>\n",
       "      <th>battery size</th>\n",
       "      <th>screen size</th>\n",
       "      <th>weight</th>\n",
       "      <th>price</th>\n",
       "      <th>release date</th>\n",
       "      <th>user_id</th>\n",
       "      <th>age</th>\n",
       "      <th>gender</th>\n",
       "      <th>occupation</th>\n",
       "    </tr>\n",
       "  </thead>\n",
       "  <tbody>\n",
       "    <tr>\n",
       "      <th>0</th>\n",
       "      <td>10</td>\n",
       "      <td>3</td>\n",
       "      <td>Apple</td>\n",
       "      <td>iPhone 13 Pro</td>\n",
       "      <td>iOS</td>\n",
       "      <td>256</td>\n",
       "      <td>6</td>\n",
       "      <td>7.94</td>\n",
       "      <td>12</td>\n",
       "      <td>12</td>\n",
       "      <td>3065</td>\n",
       "      <td>6.1</td>\n",
       "      <td>204</td>\n",
       "      <td>999</td>\n",
       "      <td>24/09/2021</td>\n",
       "      <td>0.0</td>\n",
       "      <td>38.0</td>\n",
       "      <td>Female</td>\n",
       "      <td>Data analyst</td>\n",
       "    </tr>\n",
       "    <tr>\n",
       "      <th>0</th>\n",
       "      <td>3</td>\n",
       "      <td>5</td>\n",
       "      <td>Apple</td>\n",
       "      <td>iPhone XR</td>\n",
       "      <td>iOS</td>\n",
       "      <td>64</td>\n",
       "      <td>3</td>\n",
       "      <td>4.22</td>\n",
       "      <td>12</td>\n",
       "      <td>7</td>\n",
       "      <td>2942</td>\n",
       "      <td>6.1</td>\n",
       "      <td>194</td>\n",
       "      <td>236</td>\n",
       "      <td>26/10/2018</td>\n",
       "      <td>0.0</td>\n",
       "      <td>38.0</td>\n",
       "      <td>Female</td>\n",
       "      <td>Data analyst</td>\n",
       "    </tr>\n",
       "    <tr>\n",
       "      <th>0</th>\n",
       "      <td>2</td>\n",
       "      <td>8</td>\n",
       "      <td>Samsung</td>\n",
       "      <td>Galaxy A32</td>\n",
       "      <td>Android</td>\n",
       "      <td>64</td>\n",
       "      <td>4</td>\n",
       "      <td>2.20</td>\n",
       "      <td>48</td>\n",
       "      <td>13</td>\n",
       "      <td>5000</td>\n",
       "      <td>6.5</td>\n",
       "      <td>205</td>\n",
       "      <td>199</td>\n",
       "      <td>22/01/2021</td>\n",
       "      <td>0.0</td>\n",
       "      <td>38.0</td>\n",
       "      <td>Female</td>\n",
       "      <td>Data analyst</td>\n",
       "    </tr>\n",
       "    <tr>\n",
       "      <th>0</th>\n",
       "      <td>3</td>\n",
       "      <td>9</td>\n",
       "      <td>Samsung</td>\n",
       "      <td>Galaxy A53</td>\n",
       "      <td>Android</td>\n",
       "      <td>128</td>\n",
       "      <td>6</td>\n",
       "      <td>3.79</td>\n",
       "      <td>64</td>\n",
       "      <td>32</td>\n",
       "      <td>5000</td>\n",
       "      <td>6.5</td>\n",
       "      <td>189</td>\n",
       "      <td>312</td>\n",
       "      <td>24/03/2022</td>\n",
       "      <td>0.0</td>\n",
       "      <td>38.0</td>\n",
       "      <td>Female</td>\n",
       "      <td>Data analyst</td>\n",
       "    </tr>\n",
       "    <tr>\n",
       "      <th>0</th>\n",
       "      <td>9</td>\n",
       "      <td>10</td>\n",
       "      <td>Samsung</td>\n",
       "      <td>Galaxy S22</td>\n",
       "      <td>Android</td>\n",
       "      <td>128</td>\n",
       "      <td>8</td>\n",
       "      <td>8.81</td>\n",
       "      <td>50</td>\n",
       "      <td>10</td>\n",
       "      <td>3700</td>\n",
       "      <td>6.1</td>\n",
       "      <td>167</td>\n",
       "      <td>528</td>\n",
       "      <td>25/02/2022</td>\n",
       "      <td>0.0</td>\n",
       "      <td>38.0</td>\n",
       "      <td>Female</td>\n",
       "      <td>Data analyst</td>\n",
       "    </tr>\n",
       "  </tbody>\n",
       "</table>\n",
       "</div>"
      ],
      "text/plain": [
       "   rating  cellphone_id    brand          model operating system  \\\n",
       "0      10             3    Apple  iPhone 13 Pro              iOS   \n",
       "0       3             5    Apple      iPhone XR              iOS   \n",
       "0       2             8  Samsung     Galaxy A32          Android   \n",
       "0       3             9  Samsung     Galaxy A53          Android   \n",
       "0       9            10  Samsung     Galaxy S22          Android   \n",
       "\n",
       "   internal memory  RAM  performance  main camera  selfie camera  \\\n",
       "0              256    6         7.94           12             12   \n",
       "0               64    3         4.22           12              7   \n",
       "0               64    4         2.20           48             13   \n",
       "0              128    6         3.79           64             32   \n",
       "0              128    8         8.81           50             10   \n",
       "\n",
       "   battery size  screen size  weight  price release date  user_id   age  \\\n",
       "0          3065          6.1     204    999   24/09/2021      0.0  38.0   \n",
       "0          2942          6.1     194    236   26/10/2018      0.0  38.0   \n",
       "0          5000          6.5     205    199   22/01/2021      0.0  38.0   \n",
       "0          5000          6.5     189    312   24/03/2022      0.0  38.0   \n",
       "0          3700          6.1     167    528   25/02/2022      0.0  38.0   \n",
       "\n",
       "   gender    occupation  \n",
       "0  Female  Data analyst  \n",
       "0  Female  Data analyst  \n",
       "0  Female  Data analyst  \n",
       "0  Female  Data analyst  \n",
       "0  Female  Data analyst  "
      ]
     },
     "execution_count": 145,
     "metadata": {},
     "output_type": "execute_result"
    }
   ],
   "source": [
    "ratings.head()"
   ]
  },
  {
   "cell_type": "code",
   "execution_count": 146,
   "metadata": {},
   "outputs": [
    {
     "data": {
      "text/plain": [
       "(990, 19)"
      ]
     },
     "execution_count": 146,
     "metadata": {},
     "output_type": "execute_result"
    }
   ],
   "source": [
    "## The columns is changed to 19 (added 3 columns from users dataframe)\n",
    "ratings.shape"
   ]
  },
  {
   "cell_type": "code",
   "execution_count": 147,
   "metadata": {},
   "outputs": [],
   "source": [
    "from collections import Counter"
   ]
  },
  {
   "cell_type": "code",
   "execution_count": 148,
   "metadata": {},
   "outputs": [
    {
     "data": {
      "text/plain": [
       "<bound method NDFrame.describe of      rating  cellphone_id     brand                 model operating system  \\\n",
       "0        10             3     Apple         iPhone 13 Pro              iOS   \n",
       "0         3             5     Apple             iPhone XR              iOS   \n",
       "0         2             8   Samsung            Galaxy A32          Android   \n",
       "0         3             9   Samsung            Galaxy A53          Android   \n",
       "0         9            10   Samsung            Galaxy S22          Android   \n",
       "..      ...           ...       ...                   ...              ...   \n",
       "258       6            24    Xiaomi         Redmi Note 11          Android   \n",
       "258       7            26    Xiaomi                12 Pro          Android   \n",
       "258       8            27    Xiaomi               Poco F4          Android   \n",
       "258       6            29  Motorola  Moto G Stylus (2022)          Android   \n",
       "258       5            31  Motorola           Moto G Pure          Android   \n",
       "\n",
       "     internal memory  RAM  performance  main camera  selfie camera  \\\n",
       "0                256    6         7.94           12             12   \n",
       "0                 64    3         4.22           12              7   \n",
       "0                 64    4         2.20           48             13   \n",
       "0                128    6         3.79           64             32   \n",
       "0                128    8         8.81           50             10   \n",
       "..               ...  ...          ...          ...            ...   \n",
       "258              128    4         2.44           50             13   \n",
       "258              128    8         9.85           50             32   \n",
       "258              128    8         6.98           64             20   \n",
       "258              128    6         2.30           50             16   \n",
       "258               32    3         1.02           13              5   \n",
       "\n",
       "     battery size  screen size  weight  price release date  user_id   age  \\\n",
       "0            3065          6.1     204    999   24/09/2021      0.0  38.0   \n",
       "0            2942          6.1     194    236   26/10/2018      0.0  38.0   \n",
       "0            5000          6.5     205    199   22/01/2021      0.0  38.0   \n",
       "0            5000          6.5     189    312   24/03/2022      0.0  38.0   \n",
       "0            3700          6.1     167    528   25/02/2022      0.0  38.0   \n",
       "..            ...          ...     ...    ...          ...      ...   ...   \n",
       "258          5000          6.4     179    174   09/02/2022      NaN   NaN   \n",
       "258          4600          6.7     204    618   31/12/2021      NaN   NaN   \n",
       "258          4500          6.6     195    428   27/07/2022      NaN   NaN   \n",
       "258          5000          6.8     215    500   27/04/2022      NaN   NaN   \n",
       "258          4000          6.5     188    129   14/10/2021      NaN   NaN   \n",
       "\n",
       "     gender    occupation  \n",
       "0    Female  Data analyst  \n",
       "0    Female  Data analyst  \n",
       "0    Female  Data analyst  \n",
       "0    Female  Data analyst  \n",
       "0    Female  Data analyst  \n",
       "..      ...           ...  \n",
       "258     NaN           NaN  \n",
       "258     NaN           NaN  \n",
       "258     NaN           NaN  \n",
       "258     NaN           NaN  \n",
       "258     NaN           NaN  \n",
       "\n",
       "[990 rows x 19 columns]>"
      ]
     },
     "execution_count": 148,
     "metadata": {},
     "output_type": "execute_result"
    }
   ],
   "source": [
    "ratings.describe"
   ]
  },
  {
   "cell_type": "code",
   "execution_count": 149,
   "metadata": {},
   "outputs": [
    {
     "data": {
      "text/plain": [
       "rating                int64\n",
       "cellphone_id          int64\n",
       "brand                object\n",
       "model                object\n",
       "operating system     object\n",
       "internal memory       int64\n",
       "RAM                   int64\n",
       "performance         float64\n",
       "main camera           int64\n",
       "selfie camera         int64\n",
       "battery size          int64\n",
       "screen size         float64\n",
       "weight                int64\n",
       "price                 int64\n",
       "release date         object\n",
       "user_id             float64\n",
       "age                 float64\n",
       "gender               object\n",
       "occupation           object\n",
       "dtype: object"
      ]
     },
     "execution_count": 149,
     "metadata": {},
     "output_type": "execute_result"
    }
   ],
   "source": [
    "ratings.dtypes"
   ]
  },
  {
   "cell_type": "code",
   "execution_count": 150,
   "metadata": {},
   "outputs": [
    {
     "data": {
      "text/plain": [
       "Counter({'Apple': 165,\n",
       "         'Samsung': 237,\n",
       "         'Google': 99,\n",
       "         'OnePlus': 112,\n",
       "         'Oppo': 30,\n",
       "         'Vivo': 24,\n",
       "         'Motorola': 132,\n",
       "         'Sony': 26,\n",
       "         'Xiaomi': 135,\n",
       "         'Asus': 30})"
      ]
     },
     "execution_count": 150,
     "metadata": {},
     "output_type": "execute_result"
    }
   ],
   "source": [
    "Counter(ratings.brand)"
   ]
  },
  {
   "cell_type": "code",
   "execution_count": 151,
   "metadata": {},
   "outputs": [
    {
     "data": {
      "text/plain": [
       "Counter({'iPhone 13 Pro': 29,\n",
       "         'iPhone XR': 31,\n",
       "         'Galaxy A32': 39,\n",
       "         'Galaxy A53': 29,\n",
       "         'Galaxy S22': 27,\n",
       "         'Pixel 6a': 31,\n",
       "         'Nord 2T': 31,\n",
       "         'Find X5 Pro': 30,\n",
       "         'X80 Pro': 24,\n",
       "         'Moto G Play (2021)': 41,\n",
       "         'iPhone 13 Pro Max': 34,\n",
       "         'Galaxy A13': 29,\n",
       "         'Pixel 6 \\xa0': 38,\n",
       "         'Nord N20': 31,\n",
       "         'Xperia Pro': 26,\n",
       "         'Moto G Pure': 31,\n",
       "         'Moto G Power (2022)': 35,\n",
       "         'iPhone 13 Mini': 24,\n",
       "         'Galaxy Z Flip 3': 32,\n",
       "         'Poco F4': 34,\n",
       "         'iPhone SE (2022)': 20,\n",
       "         'Galaxy S22 Plus': 22,\n",
       "         'Pixel 6 Pro\\xa0': 30,\n",
       "         '10 Pro': 30,\n",
       "         '10T': 20,\n",
       "         '11T Pro': 38,\n",
       "         'Moto G Stylus (2022)': 25,\n",
       "         'Zenfone 8': 30,\n",
       "         'Galaxy S22 Ultra': 32,\n",
       "         'Galaxy Z Fold 3': 27,\n",
       "         'Redmi Note 11': 35,\n",
       "         '12 Pro': 28,\n",
       "         'iPhone 13': 27})"
      ]
     },
     "execution_count": 151,
     "metadata": {},
     "output_type": "execute_result"
    }
   ],
   "source": [
    "Counter(ratings.model)"
   ]
  },
  {
   "cell_type": "code",
   "execution_count": 152,
   "metadata": {},
   "outputs": [
    {
     "data": {
      "text/plain": [
       "Counter({'Female': 140, 'Male': 180, nan: 670})"
      ]
     },
     "execution_count": 152,
     "metadata": {},
     "output_type": "execute_result"
    }
   ],
   "source": [
    "Counter(ratings.gender)"
   ]
  },
  {
   "cell_type": "code",
   "execution_count": 153,
   "metadata": {},
   "outputs": [],
   "source": [
    "### Separating the target value of prediction\n",
    "ratings_pred = ratings['cellphone_id']\n",
    "ratings = ratings.drop(['cellphone_id'], axis=1)"
   ]
  },
  {
   "cell_type": "code",
   "execution_count": 154,
   "metadata": {},
   "outputs": [],
   "source": [
    "from sklearn.feature_extraction.text import CountVectorizer"
   ]
  },
  {
   "cell_type": "code",
   "execution_count": 155,
   "metadata": {},
   "outputs": [],
   "source": [
    "vectorizer = CountVectorizer()"
   ]
  },
  {
   "cell_type": "code",
   "execution_count": 156,
   "metadata": {},
   "outputs": [
    {
     "data": {
      "text/html": [
       "<div>\n",
       "<style scoped>\n",
       "    .dataframe tbody tr th:only-of-type {\n",
       "        vertical-align: middle;\n",
       "    }\n",
       "\n",
       "    .dataframe tbody tr th {\n",
       "        vertical-align: top;\n",
       "    }\n",
       "\n",
       "    .dataframe thead th {\n",
       "        text-align: right;\n",
       "    }\n",
       "</style>\n",
       "<table border=\"1\" class=\"dataframe\">\n",
       "  <thead>\n",
       "    <tr style=\"text-align: right;\">\n",
       "      <th></th>\n",
       "      <th>rating</th>\n",
       "      <th>brand</th>\n",
       "      <th>model</th>\n",
       "      <th>operating system</th>\n",
       "      <th>internal memory</th>\n",
       "      <th>RAM</th>\n",
       "      <th>performance</th>\n",
       "      <th>main camera</th>\n",
       "      <th>selfie camera</th>\n",
       "      <th>battery size</th>\n",
       "      <th>screen size</th>\n",
       "      <th>weight</th>\n",
       "      <th>price</th>\n",
       "      <th>release date</th>\n",
       "      <th>user_id</th>\n",
       "      <th>age</th>\n",
       "      <th>gender</th>\n",
       "      <th>occupation</th>\n",
       "    </tr>\n",
       "  </thead>\n",
       "  <tbody>\n",
       "    <tr>\n",
       "      <th>0</th>\n",
       "      <td>10</td>\n",
       "      <td>Apple</td>\n",
       "      <td>iPhone 13 Pro</td>\n",
       "      <td>iOS</td>\n",
       "      <td>256</td>\n",
       "      <td>6</td>\n",
       "      <td>7.94</td>\n",
       "      <td>12</td>\n",
       "      <td>12</td>\n",
       "      <td>3065</td>\n",
       "      <td>6.1</td>\n",
       "      <td>204</td>\n",
       "      <td>999</td>\n",
       "      <td>24/09/2021</td>\n",
       "      <td>0.0</td>\n",
       "      <td>38.0</td>\n",
       "      <td>Female</td>\n",
       "      <td>Data analyst</td>\n",
       "    </tr>\n",
       "    <tr>\n",
       "      <th>0</th>\n",
       "      <td>3</td>\n",
       "      <td>Apple</td>\n",
       "      <td>iPhone XR</td>\n",
       "      <td>iOS</td>\n",
       "      <td>64</td>\n",
       "      <td>3</td>\n",
       "      <td>4.22</td>\n",
       "      <td>12</td>\n",
       "      <td>7</td>\n",
       "      <td>2942</td>\n",
       "      <td>6.1</td>\n",
       "      <td>194</td>\n",
       "      <td>236</td>\n",
       "      <td>26/10/2018</td>\n",
       "      <td>0.0</td>\n",
       "      <td>38.0</td>\n",
       "      <td>Female</td>\n",
       "      <td>Data analyst</td>\n",
       "    </tr>\n",
       "    <tr>\n",
       "      <th>0</th>\n",
       "      <td>2</td>\n",
       "      <td>Samsung</td>\n",
       "      <td>Galaxy A32</td>\n",
       "      <td>Android</td>\n",
       "      <td>64</td>\n",
       "      <td>4</td>\n",
       "      <td>2.20</td>\n",
       "      <td>48</td>\n",
       "      <td>13</td>\n",
       "      <td>5000</td>\n",
       "      <td>6.5</td>\n",
       "      <td>205</td>\n",
       "      <td>199</td>\n",
       "      <td>22/01/2021</td>\n",
       "      <td>0.0</td>\n",
       "      <td>38.0</td>\n",
       "      <td>Female</td>\n",
       "      <td>Data analyst</td>\n",
       "    </tr>\n",
       "    <tr>\n",
       "      <th>0</th>\n",
       "      <td>3</td>\n",
       "      <td>Samsung</td>\n",
       "      <td>Galaxy A53</td>\n",
       "      <td>Android</td>\n",
       "      <td>128</td>\n",
       "      <td>6</td>\n",
       "      <td>3.79</td>\n",
       "      <td>64</td>\n",
       "      <td>32</td>\n",
       "      <td>5000</td>\n",
       "      <td>6.5</td>\n",
       "      <td>189</td>\n",
       "      <td>312</td>\n",
       "      <td>24/03/2022</td>\n",
       "      <td>0.0</td>\n",
       "      <td>38.0</td>\n",
       "      <td>Female</td>\n",
       "      <td>Data analyst</td>\n",
       "    </tr>\n",
       "    <tr>\n",
       "      <th>0</th>\n",
       "      <td>9</td>\n",
       "      <td>Samsung</td>\n",
       "      <td>Galaxy S22</td>\n",
       "      <td>Android</td>\n",
       "      <td>128</td>\n",
       "      <td>8</td>\n",
       "      <td>8.81</td>\n",
       "      <td>50</td>\n",
       "      <td>10</td>\n",
       "      <td>3700</td>\n",
       "      <td>6.1</td>\n",
       "      <td>167</td>\n",
       "      <td>528</td>\n",
       "      <td>25/02/2022</td>\n",
       "      <td>0.0</td>\n",
       "      <td>38.0</td>\n",
       "      <td>Female</td>\n",
       "      <td>Data analyst</td>\n",
       "    </tr>\n",
       "  </tbody>\n",
       "</table>\n",
       "</div>"
      ],
      "text/plain": [
       "   rating    brand          model operating system  internal memory  RAM  \\\n",
       "0      10    Apple  iPhone 13 Pro              iOS              256    6   \n",
       "0       3    Apple      iPhone XR              iOS               64    3   \n",
       "0       2  Samsung     Galaxy A32          Android               64    4   \n",
       "0       3  Samsung     Galaxy A53          Android              128    6   \n",
       "0       9  Samsung     Galaxy S22          Android              128    8   \n",
       "\n",
       "   performance  main camera  selfie camera  battery size  screen size  weight  \\\n",
       "0         7.94           12             12          3065          6.1     204   \n",
       "0         4.22           12              7          2942          6.1     194   \n",
       "0         2.20           48             13          5000          6.5     205   \n",
       "0         3.79           64             32          5000          6.5     189   \n",
       "0         8.81           50             10          3700          6.1     167   \n",
       "\n",
       "   price release date  user_id   age  gender    occupation  \n",
       "0    999   24/09/2021      0.0  38.0  Female  Data analyst  \n",
       "0    236   26/10/2018      0.0  38.0  Female  Data analyst  \n",
       "0    199   22/01/2021      0.0  38.0  Female  Data analyst  \n",
       "0    312   24/03/2022      0.0  38.0  Female  Data analyst  \n",
       "0    528   25/02/2022      0.0  38.0  Female  Data analyst  "
      ]
     },
     "execution_count": 156,
     "metadata": {},
     "output_type": "execute_result"
    }
   ],
   "source": [
    "ratings.head()"
   ]
  },
  {
   "cell_type": "code",
   "execution_count": 157,
   "metadata": {},
   "outputs": [
    {
     "data": {
      "text/plain": [
       "rating                0\n",
       "brand                 0\n",
       "model                 0\n",
       "operating system      0\n",
       "internal memory       0\n",
       "RAM                   0\n",
       "performance           0\n",
       "main camera           0\n",
       "selfie camera         0\n",
       "battery size          0\n",
       "screen size           0\n",
       "weight                0\n",
       "price                 0\n",
       "release date          0\n",
       "user_id             670\n",
       "age                 670\n",
       "gender              670\n",
       "occupation          670\n",
       "dtype: int64"
      ]
     },
     "execution_count": 157,
     "metadata": {},
     "output_type": "execute_result"
    }
   ],
   "source": [
    "ratings.isnull().sum()"
   ]
  },
  {
   "cell_type": "code",
   "execution_count": 158,
   "metadata": {},
   "outputs": [],
   "source": [
    "## Need to check whether one row only contains one brand or not\n",
    "\n",
    "universe = vectorizer.fit_transform(ratings['brand'].values)"
   ]
  },
  {
   "cell_type": "code",
   "execution_count": 159,
   "metadata": {},
   "outputs": [
    {
     "data": {
      "text/plain": [
       "array([[1, 0, 0, ..., 0, 0, 0],\n",
       "       [1, 0, 0, ..., 0, 0, 0],\n",
       "       [0, 0, 0, ..., 0, 0, 0],\n",
       "       ...,\n",
       "       [0, 0, 0, ..., 0, 0, 1],\n",
       "       [0, 0, 0, ..., 0, 0, 0],\n",
       "       [0, 0, 0, ..., 0, 0, 0]])"
      ]
     },
     "execution_count": 159,
     "metadata": {},
     "output_type": "execute_result"
    }
   ],
   "source": [
    "universe.toarray()"
   ]
  },
  {
   "cell_type": "code",
   "execution_count": 160,
   "metadata": {},
   "outputs": [
    {
     "data": {
      "text/plain": [
       "Index(['rating', 'brand', 'model', 'operating system', 'internal memory',\n",
       "       'RAM', 'performance', 'main camera', 'selfie camera', 'battery size',\n",
       "       'screen size', 'weight', 'price', 'release date', 'user_id', 'age',\n",
       "       'gender', 'occupation'],\n",
       "      dtype='object')"
      ]
     },
     "execution_count": 160,
     "metadata": {},
     "output_type": "execute_result"
    }
   ],
   "source": [
    "ratings.columns"
   ]
  },
  {
   "cell_type": "code",
   "execution_count": 161,
   "metadata": {},
   "outputs": [],
   "source": [
    "## Dropping the identifier atrrbutes and unrelated ones\n",
    "\n",
    "ratings = ratings.drop(['release date', 'user_id', 'brand', 'model', 'internal memory', 'RAM', 'performance', 'main camera', 'selfie camera', 'battery size', 'screen size', 'weight'],axis=1)"
   ]
  },
  {
   "cell_type": "code",
   "execution_count": 162,
   "metadata": {},
   "outputs": [],
   "source": [
    "###Dropping the matched data column\n",
    "\n",
    "data = data.drop(['operating system', 'price'], axis = 1)"
   ]
  },
  {
   "cell_type": "code",
   "execution_count": 163,
   "metadata": {},
   "outputs": [
    {
     "data": {
      "text/html": [
       "<div>\n",
       "<style scoped>\n",
       "    .dataframe tbody tr th:only-of-type {\n",
       "        vertical-align: middle;\n",
       "    }\n",
       "\n",
       "    .dataframe tbody tr th {\n",
       "        vertical-align: top;\n",
       "    }\n",
       "\n",
       "    .dataframe thead th {\n",
       "        text-align: right;\n",
       "    }\n",
       "</style>\n",
       "<table border=\"1\" class=\"dataframe\">\n",
       "  <thead>\n",
       "    <tr style=\"text-align: right;\">\n",
       "      <th></th>\n",
       "      <th>rating</th>\n",
       "      <th>operating system</th>\n",
       "      <th>price</th>\n",
       "      <th>age</th>\n",
       "      <th>gender</th>\n",
       "      <th>occupation</th>\n",
       "    </tr>\n",
       "  </thead>\n",
       "  <tbody>\n",
       "    <tr>\n",
       "      <th>0</th>\n",
       "      <td>10</td>\n",
       "      <td>iOS</td>\n",
       "      <td>999</td>\n",
       "      <td>38.0</td>\n",
       "      <td>Female</td>\n",
       "      <td>Data analyst</td>\n",
       "    </tr>\n",
       "    <tr>\n",
       "      <th>0</th>\n",
       "      <td>3</td>\n",
       "      <td>iOS</td>\n",
       "      <td>236</td>\n",
       "      <td>38.0</td>\n",
       "      <td>Female</td>\n",
       "      <td>Data analyst</td>\n",
       "    </tr>\n",
       "    <tr>\n",
       "      <th>0</th>\n",
       "      <td>2</td>\n",
       "      <td>Android</td>\n",
       "      <td>199</td>\n",
       "      <td>38.0</td>\n",
       "      <td>Female</td>\n",
       "      <td>Data analyst</td>\n",
       "    </tr>\n",
       "    <tr>\n",
       "      <th>0</th>\n",
       "      <td>3</td>\n",
       "      <td>Android</td>\n",
       "      <td>312</td>\n",
       "      <td>38.0</td>\n",
       "      <td>Female</td>\n",
       "      <td>Data analyst</td>\n",
       "    </tr>\n",
       "    <tr>\n",
       "      <th>0</th>\n",
       "      <td>9</td>\n",
       "      <td>Android</td>\n",
       "      <td>528</td>\n",
       "      <td>38.0</td>\n",
       "      <td>Female</td>\n",
       "      <td>Data analyst</td>\n",
       "    </tr>\n",
       "  </tbody>\n",
       "</table>\n",
       "</div>"
      ],
      "text/plain": [
       "   rating operating system  price   age  gender    occupation\n",
       "0      10              iOS    999  38.0  Female  Data analyst\n",
       "0       3              iOS    236  38.0  Female  Data analyst\n",
       "0       2          Android    199  38.0  Female  Data analyst\n",
       "0       3          Android    312  38.0  Female  Data analyst\n",
       "0       9          Android    528  38.0  Female  Data analyst"
      ]
     },
     "execution_count": 163,
     "metadata": {},
     "output_type": "execute_result"
    }
   ],
   "source": [
    "ratings.head()"
   ]
  },
  {
   "cell_type": "code",
   "execution_count": 164,
   "metadata": {},
   "outputs": [],
   "source": [
    "def gender_null(gender_clear):\n",
    "    try:\n",
    "        if str(gender_clear).lower() == 'female' :\n",
    "            return 0\n",
    "        elif str(gender_clear).lower() == 'male' :\n",
    "            return 1\n",
    "    except:\n",
    "        return 2"
   ]
  },
  {
   "cell_type": "code",
   "execution_count": 165,
   "metadata": {},
   "outputs": [],
   "source": [
    "ratings['gender'] = ratings['gender'].apply(gender_null)"
   ]
  },
  {
   "cell_type": "code",
   "execution_count": 166,
   "metadata": {},
   "outputs": [],
   "source": [
    "ratings['gender'] = ratings['gender'].fillna(2)"
   ]
  },
  {
   "cell_type": "code",
   "execution_count": 167,
   "metadata": {},
   "outputs": [
    {
     "data": {
      "text/plain": [
       "Counter({0.0: 140, 1.0: 180, 2.0: 670})"
      ]
     },
     "execution_count": 167,
     "metadata": {},
     "output_type": "execute_result"
    }
   ],
   "source": [
    "Counter(ratings['gender'])"
   ]
  },
  {
   "cell_type": "code",
   "execution_count": 168,
   "metadata": {},
   "outputs": [],
   "source": [
    "ratings['occupation'] = ratings['occupation'].fillna('jobless')"
   ]
  },
  {
   "cell_type": "code",
   "execution_count": 169,
   "metadata": {},
   "outputs": [
    {
     "data": {
      "text/plain": [
       "rating                int64\n",
       "operating system     object\n",
       "price                 int64\n",
       "age                 float64\n",
       "gender              float64\n",
       "occupation           object\n",
       "dtype: object"
      ]
     },
     "execution_count": 169,
     "metadata": {},
     "output_type": "execute_result"
    }
   ],
   "source": [
    "ratings.dtypes"
   ]
  },
  {
   "cell_type": "code",
   "execution_count": 170,
   "metadata": {},
   "outputs": [],
   "source": [
    "## Changing the object type to integer\n",
    "### There are 3 attributes that happened to be object, which are brand, model, operating system, and occupation\n",
    "\n",
    "object_data = ['operating system', 'occupation']"
   ]
  },
  {
   "cell_type": "code",
   "execution_count": 171,
   "metadata": {},
   "outputs": [],
   "source": [
    "\n",
    "all_objects = []\n",
    "for rows in ratings[object_data].fillna(\" \").values.tolist():\n",
    "    for phrases in rows:\n",
    "        all_objects.append(phrases)"
   ]
  },
  {
   "cell_type": "code",
   "execution_count": 172,
   "metadata": {},
   "outputs": [],
   "source": [
    "all_objects = list(set(all_objects))"
   ]
  },
  {
   "cell_type": "code",
   "execution_count": 173,
   "metadata": {},
   "outputs": [
    {
     "data": {
      "text/plain": [
       "30"
      ]
     },
     "execution_count": 173,
     "metadata": {},
     "output_type": "execute_result"
    }
   ],
   "source": [
    "## Calculating how many null values in object data type\n",
    "len(all_objects)"
   ]
  },
  {
   "cell_type": "code",
   "execution_count": 174,
   "metadata": {},
   "outputs": [
    {
     "data": {
      "text/plain": [
       "rating                0\n",
       "operating system      0\n",
       "price                 0\n",
       "age                 670\n",
       "gender                0\n",
       "occupation            0\n",
       "dtype: int64"
      ]
     },
     "execution_count": 174,
     "metadata": {},
     "output_type": "execute_result"
    }
   ],
   "source": [
    "ratings.isnull().sum()"
   ]
  },
  {
   "cell_type": "code",
   "execution_count": 175,
   "metadata": {},
   "outputs": [],
   "source": [
    "### Seting the null age with mean age column\n",
    "\n",
    "ratings['age'] = ratings['age'].fillna(ratings['age'].mean())"
   ]
  },
  {
   "cell_type": "code",
   "execution_count": 176,
   "metadata": {},
   "outputs": [
    {
     "data": {
      "text/html": [
       "<div>\n",
       "<style scoped>\n",
       "    .dataframe tbody tr th:only-of-type {\n",
       "        vertical-align: middle;\n",
       "    }\n",
       "\n",
       "    .dataframe tbody tr th {\n",
       "        vertical-align: top;\n",
       "    }\n",
       "\n",
       "    .dataframe thead th {\n",
       "        text-align: right;\n",
       "    }\n",
       "</style>\n",
       "<table border=\"1\" class=\"dataframe\">\n",
       "  <thead>\n",
       "    <tr style=\"text-align: right;\">\n",
       "      <th></th>\n",
       "      <th>rating</th>\n",
       "      <th>operating system</th>\n",
       "      <th>price</th>\n",
       "      <th>age</th>\n",
       "      <th>gender</th>\n",
       "      <th>occupation</th>\n",
       "    </tr>\n",
       "  </thead>\n",
       "  <tbody>\n",
       "    <tr>\n",
       "      <th>0</th>\n",
       "      <td>10</td>\n",
       "      <td>iOS</td>\n",
       "      <td>999</td>\n",
       "      <td>38.0</td>\n",
       "      <td>0.0</td>\n",
       "      <td>Data analyst</td>\n",
       "    </tr>\n",
       "    <tr>\n",
       "      <th>0</th>\n",
       "      <td>3</td>\n",
       "      <td>iOS</td>\n",
       "      <td>236</td>\n",
       "      <td>38.0</td>\n",
       "      <td>0.0</td>\n",
       "      <td>Data analyst</td>\n",
       "    </tr>\n",
       "    <tr>\n",
       "      <th>0</th>\n",
       "      <td>2</td>\n",
       "      <td>Android</td>\n",
       "      <td>199</td>\n",
       "      <td>38.0</td>\n",
       "      <td>0.0</td>\n",
       "      <td>Data analyst</td>\n",
       "    </tr>\n",
       "    <tr>\n",
       "      <th>0</th>\n",
       "      <td>3</td>\n",
       "      <td>Android</td>\n",
       "      <td>312</td>\n",
       "      <td>38.0</td>\n",
       "      <td>0.0</td>\n",
       "      <td>Data analyst</td>\n",
       "    </tr>\n",
       "    <tr>\n",
       "      <th>0</th>\n",
       "      <td>9</td>\n",
       "      <td>Android</td>\n",
       "      <td>528</td>\n",
       "      <td>38.0</td>\n",
       "      <td>0.0</td>\n",
       "      <td>Data analyst</td>\n",
       "    </tr>\n",
       "  </tbody>\n",
       "</table>\n",
       "</div>"
      ],
      "text/plain": [
       "   rating operating system  price   age  gender    occupation\n",
       "0      10              iOS    999  38.0     0.0  Data analyst\n",
       "0       3              iOS    236  38.0     0.0  Data analyst\n",
       "0       2          Android    199  38.0     0.0  Data analyst\n",
       "0       3          Android    312  38.0     0.0  Data analyst\n",
       "0       9          Android    528  38.0     0.0  Data analyst"
      ]
     },
     "execution_count": 176,
     "metadata": {},
     "output_type": "execute_result"
    }
   ],
   "source": [
    "ratings.head()"
   ]
  },
  {
   "cell_type": "code",
   "execution_count": 177,
   "metadata": {},
   "outputs": [
    {
     "data": {
      "text/plain": [
       "(990, 6)"
      ]
     },
     "execution_count": 177,
     "metadata": {},
     "output_type": "execute_result"
    }
   ],
   "source": [
    "ratings.shape"
   ]
  },
  {
   "cell_type": "code",
   "execution_count": 178,
   "metadata": {},
   "outputs": [],
   "source": [
    "def alphabet_to_number(x):\n",
    "    try:\n",
    "        return all_objects.index(x)\n",
    "    except:\n",
    "        return 404 # error not found"
   ]
  },
  {
   "cell_type": "code",
   "execution_count": 179,
   "metadata": {},
   "outputs": [],
   "source": [
    "ratings['occupation'] = ratings['occupation'].apply(alphabet_to_number)"
   ]
  },
  {
   "cell_type": "code",
   "execution_count": 180,
   "metadata": {},
   "outputs": [
    {
     "data": {
      "text/html": [
       "<div>\n",
       "<style scoped>\n",
       "    .dataframe tbody tr th:only-of-type {\n",
       "        vertical-align: middle;\n",
       "    }\n",
       "\n",
       "    .dataframe tbody tr th {\n",
       "        vertical-align: top;\n",
       "    }\n",
       "\n",
       "    .dataframe thead th {\n",
       "        text-align: right;\n",
       "    }\n",
       "</style>\n",
       "<table border=\"1\" class=\"dataframe\">\n",
       "  <thead>\n",
       "    <tr style=\"text-align: right;\">\n",
       "      <th></th>\n",
       "      <th>rating</th>\n",
       "      <th>operating system</th>\n",
       "      <th>price</th>\n",
       "      <th>age</th>\n",
       "      <th>gender</th>\n",
       "      <th>occupation</th>\n",
       "    </tr>\n",
       "  </thead>\n",
       "  <tbody>\n",
       "    <tr>\n",
       "      <th>0</th>\n",
       "      <td>10</td>\n",
       "      <td>iOS</td>\n",
       "      <td>999</td>\n",
       "      <td>38.0</td>\n",
       "      <td>0.0</td>\n",
       "      <td>3</td>\n",
       "    </tr>\n",
       "    <tr>\n",
       "      <th>0</th>\n",
       "      <td>3</td>\n",
       "      <td>iOS</td>\n",
       "      <td>236</td>\n",
       "      <td>38.0</td>\n",
       "      <td>0.0</td>\n",
       "      <td>3</td>\n",
       "    </tr>\n",
       "    <tr>\n",
       "      <th>0</th>\n",
       "      <td>2</td>\n",
       "      <td>Android</td>\n",
       "      <td>199</td>\n",
       "      <td>38.0</td>\n",
       "      <td>0.0</td>\n",
       "      <td>3</td>\n",
       "    </tr>\n",
       "    <tr>\n",
       "      <th>0</th>\n",
       "      <td>3</td>\n",
       "      <td>Android</td>\n",
       "      <td>312</td>\n",
       "      <td>38.0</td>\n",
       "      <td>0.0</td>\n",
       "      <td>3</td>\n",
       "    </tr>\n",
       "    <tr>\n",
       "      <th>0</th>\n",
       "      <td>9</td>\n",
       "      <td>Android</td>\n",
       "      <td>528</td>\n",
       "      <td>38.0</td>\n",
       "      <td>0.0</td>\n",
       "      <td>3</td>\n",
       "    </tr>\n",
       "  </tbody>\n",
       "</table>\n",
       "</div>"
      ],
      "text/plain": [
       "   rating operating system  price   age  gender  occupation\n",
       "0      10              iOS    999  38.0     0.0           3\n",
       "0       3              iOS    236  38.0     0.0           3\n",
       "0       2          Android    199  38.0     0.0           3\n",
       "0       3          Android    312  38.0     0.0           3\n",
       "0       9          Android    528  38.0     0.0           3"
      ]
     },
     "execution_count": 180,
     "metadata": {},
     "output_type": "execute_result"
    }
   ],
   "source": [
    "ratings.head()"
   ]
  },
  {
   "cell_type": "code",
   "execution_count": 181,
   "metadata": {},
   "outputs": [],
   "source": [
    "ratings['operating system'] = ratings['operating system'].apply(alphabet_to_number)"
   ]
  },
  {
   "cell_type": "code",
   "execution_count": 182,
   "metadata": {},
   "outputs": [
    {
     "data": {
      "text/plain": [
       "rating                int64\n",
       "operating system      int64\n",
       "price                 int64\n",
       "age                 float64\n",
       "gender              float64\n",
       "occupation            int64\n",
       "dtype: object"
      ]
     },
     "execution_count": 182,
     "metadata": {},
     "output_type": "execute_result"
    }
   ],
   "source": [
    "ratings.dtypes"
   ]
  },
  {
   "cell_type": "code",
   "execution_count": 183,
   "metadata": {},
   "outputs": [
    {
     "data": {
      "text/html": [
       "<div>\n",
       "<style scoped>\n",
       "    .dataframe tbody tr th:only-of-type {\n",
       "        vertical-align: middle;\n",
       "    }\n",
       "\n",
       "    .dataframe tbody tr th {\n",
       "        vertical-align: top;\n",
       "    }\n",
       "\n",
       "    .dataframe thead th {\n",
       "        text-align: right;\n",
       "    }\n",
       "</style>\n",
       "<table border=\"1\" class=\"dataframe\">\n",
       "  <thead>\n",
       "    <tr style=\"text-align: right;\">\n",
       "      <th></th>\n",
       "      <th>rating</th>\n",
       "      <th>operating system</th>\n",
       "      <th>price</th>\n",
       "      <th>age</th>\n",
       "      <th>gender</th>\n",
       "      <th>occupation</th>\n",
       "    </tr>\n",
       "  </thead>\n",
       "  <tbody>\n",
       "    <tr>\n",
       "      <th>0</th>\n",
       "      <td>10</td>\n",
       "      <td>23</td>\n",
       "      <td>999</td>\n",
       "      <td>38.0</td>\n",
       "      <td>0.0</td>\n",
       "      <td>3</td>\n",
       "    </tr>\n",
       "    <tr>\n",
       "      <th>0</th>\n",
       "      <td>3</td>\n",
       "      <td>23</td>\n",
       "      <td>236</td>\n",
       "      <td>38.0</td>\n",
       "      <td>0.0</td>\n",
       "      <td>3</td>\n",
       "    </tr>\n",
       "    <tr>\n",
       "      <th>0</th>\n",
       "      <td>2</td>\n",
       "      <td>22</td>\n",
       "      <td>199</td>\n",
       "      <td>38.0</td>\n",
       "      <td>0.0</td>\n",
       "      <td>3</td>\n",
       "    </tr>\n",
       "    <tr>\n",
       "      <th>0</th>\n",
       "      <td>3</td>\n",
       "      <td>22</td>\n",
       "      <td>312</td>\n",
       "      <td>38.0</td>\n",
       "      <td>0.0</td>\n",
       "      <td>3</td>\n",
       "    </tr>\n",
       "    <tr>\n",
       "      <th>0</th>\n",
       "      <td>9</td>\n",
       "      <td>22</td>\n",
       "      <td>528</td>\n",
       "      <td>38.0</td>\n",
       "      <td>0.0</td>\n",
       "      <td>3</td>\n",
       "    </tr>\n",
       "  </tbody>\n",
       "</table>\n",
       "</div>"
      ],
      "text/plain": [
       "   rating  operating system  price   age  gender  occupation\n",
       "0      10                23    999  38.0     0.0           3\n",
       "0       3                23    236  38.0     0.0           3\n",
       "0       2                22    199  38.0     0.0           3\n",
       "0       3                22    312  38.0     0.0           3\n",
       "0       9                22    528  38.0     0.0           3"
      ]
     },
     "execution_count": 183,
     "metadata": {},
     "output_type": "execute_result"
    }
   ],
   "source": [
    "ratings.head()"
   ]
  },
  {
   "cell_type": "code",
   "execution_count": 184,
   "metadata": {},
   "outputs": [],
   "source": [
    "ratings = ratings.astype(np.float32)"
   ]
  },
  {
   "cell_type": "code",
   "execution_count": 185,
   "metadata": {},
   "outputs": [
    {
     "data": {
      "text/plain": [
       "rating              float32\n",
       "operating system    float32\n",
       "price               float32\n",
       "age                 float32\n",
       "gender              float32\n",
       "occupation          float32\n",
       "dtype: object"
      ]
     },
     "execution_count": 185,
     "metadata": {},
     "output_type": "execute_result"
    }
   ],
   "source": [
    "ratings.dtypes"
   ]
  },
  {
   "cell_type": "code",
   "execution_count": 186,
   "metadata": {},
   "outputs": [],
   "source": [
    "import seaborn as sns\n",
    "import matplotlib.pyplot as plt"
   ]
  },
  {
   "cell_type": "code",
   "execution_count": 187,
   "metadata": {},
   "outputs": [
    {
     "data": {
      "text/plain": [
       "<AxesSubplot:>"
      ]
     },
     "execution_count": 187,
     "metadata": {},
     "output_type": "execute_result"
    },
    {
     "data": {
      "image/png": "[encoded data removed]",
      "text/plain": [
       "<Figure size 1440x1080 with 2 Axes>"
      ]
     },
     "metadata": {
      "needs_background": "light"
     },
     "output_type": "display_data"
    }
   ],
   "source": [
    "plt.figure(figsize=(20,15))\n",
    "sns.heatmap(ratings.corr(), annot=True)"
   ]
  },
  {
   "cell_type": "code",
   "execution_count": 188,
   "metadata": {},
   "outputs": [
    {
     "data": {
      "text/plain": [
       "<seaborn.matrix.ClusterGrid at 0x7f99a6b93ca0>"
      ]
     },
     "execution_count": 188,
     "metadata": {},
     "output_type": "execute_result"
    },
    {
     "data": {
      "image/png": "[encoded data removed]",
      "text/plain": [
       "<Figure size 720x720 with 4 Axes>"
      ]
     },
     "metadata": {
      "needs_background": "light"
     },
     "output_type": "display_data"
    }
   ],
   "source": [
    "sns.clustermap(ratings)"
   ]
  },
  {
   "cell_type": "code",
   "execution_count": 189,
   "metadata": {},
   "outputs": [],
   "source": [
    "## Splitting the data into test and training data\n",
    "from sklearn.model_selection import train_test_split\n",
    "X_train, X_test, y_train, y_test = train_test_split(ratings, ratings_pred, test_size=0.33, random_state=42)"
   ]
  },
  {
   "cell_type": "code",
   "execution_count": 190,
   "metadata": {},
   "outputs": [],
   "source": [
    "import tensorflow as tf\n",
    "from tensorflow import keras\n",
    "from keras.models import Sequential\n",
    "from keras.layers import Dense"
   ]
  },
  {
   "cell_type": "code",
   "execution_count": 191,
   "metadata": {},
   "outputs": [],
   "source": [
    "#Initialize the ANN\n",
    "\n",
    "classifier = Sequential()"
   ]
  },
  {
   "cell_type": "code",
   "execution_count": 192,
   "metadata": {},
   "outputs": [],
   "source": [
    "classifier.add(Dense(6, activation='relu', kernel_initializer='glorot_uniform',input_shape=(X_train.shape[1],)))"
   ]
  },
  {
   "cell_type": "code",
   "execution_count": 193,
   "metadata": {},
   "outputs": [],
   "source": [
    "classifier.add(Dense(6, activation='relu', kernel_initializer='glorot_uniform'))"
   ]
  },
  {
   "cell_type": "code",
   "execution_count": 194,
   "metadata": {},
   "outputs": [],
   "source": [
    "classifier.add(Dense(1, kernel_initializer='glorot_uniform', activation = 'sigmoid'))"
   ]
  },
  {
   "cell_type": "code",
   "execution_count": 195,
   "metadata": {},
   "outputs": [],
   "source": [
    "classifier.compile(optimizer = 'adam', loss = 'binary_crossentropy', metrics = ['accuracy'])"
   ]
  },
  {
   "cell_type": "code",
   "execution_count": 196,
   "metadata": {},
   "outputs": [
    {
     "name": "stdout",
     "output_type": "stream",
     "text": [
      "Epoch 1/100\n",
      "67/67 [==============================] - 3s 5ms/step - loss: 381.4819 - accuracy: 0.0166\n",
      "Epoch 2/100\n",
      "67/67 [==============================] - 0s 6ms/step - loss: 28.4993 - accuracy: 0.0211\n",
      "Epoch 3/100\n",
      "67/67 [==============================] - 1s 8ms/step - loss: -1.7178 - accuracy: 0.0287\n",
      "Epoch 4/100\n",
      "67/67 [==============================] - 1s 8ms/step - loss: -2.8715 - accuracy: 0.0287\n",
      "Epoch 5/100\n",
      "67/67 [==============================] - 0s 7ms/step - loss: -3.9244 - accuracy: 0.0287\n",
      "Epoch 6/100\n",
      "67/67 [==============================] - 0s 6ms/step - loss: -4.9622 - accuracy: 0.0287\n",
      "Epoch 7/100\n",
      "67/67 [==============================] - 0s 5ms/step - loss: -5.9938 - accuracy: 0.0287\n",
      "Epoch 8/100\n",
      "67/67 [==============================] - 1s 8ms/step - loss: -7.0192 - accuracy: 0.0287\n",
      "Epoch 9/100\n",
      "67/67 [==============================] - 0s 7ms/step - loss: -8.0402 - accuracy: 0.0287\n",
      "Epoch 10/100\n",
      "67/67 [==============================] - 0s 5ms/step - loss: -9.0654 - accuracy: 0.0287\n",
      "Epoch 11/100\n",
      "67/67 [==============================] - 0s 5ms/step - loss: -10.0877 - accuracy: 0.0287\n",
      "Epoch 12/100\n",
      "67/67 [==============================] - 1s 8ms/step - loss: -11.1086 - accuracy: 0.0287\n",
      "Epoch 13/100\n",
      "67/67 [==============================] - 0s 6ms/step - loss: -12.1263 - accuracy: 0.0287\n",
      "Epoch 14/100\n",
      "67/67 [==============================] - 0s 5ms/step - loss: -13.1533 - accuracy: 0.0287\n",
      "Epoch 15/100\n",
      "67/67 [==============================] - 1s 8ms/step - loss: -14.1774 - accuracy: 0.0287\n",
      "Epoch 16/100\n",
      "67/67 [==============================] - 0s 5ms/step - loss: -15.1999 - accuracy: 0.0287\n",
      "Epoch 17/100\n",
      "67/67 [==============================] - 0s 6ms/step - loss: -16.2138 - accuracy: 0.0287\n",
      "Epoch 18/100\n",
      "67/67 [==============================] - 0s 7ms/step - loss: -17.2299 - accuracy: 0.0287\n",
      "Epoch 19/100\n",
      "67/67 [==============================] - 0s 7ms/step - loss: -18.2450 - accuracy: 0.0287\n",
      "Epoch 20/100\n",
      "67/67 [==============================] - 0s 5ms/step - loss: -19.2622 - accuracy: 0.0287\n",
      "Epoch 21/100\n",
      "67/67 [==============================] - 0s 5ms/step - loss: -20.2772 - accuracy: 0.0287\n",
      "Epoch 22/100\n",
      "67/67 [==============================] - 0s 5ms/step - loss: -21.2932 - accuracy: 0.0287\n",
      "Epoch 23/100\n",
      "67/67 [==============================] - 0s 6ms/step - loss: -22.3065 - accuracy: 0.0287\n",
      "Epoch 24/100\n",
      "67/67 [==============================] - 0s 5ms/step - loss: -23.3158 - accuracy: 0.0287\n",
      "Epoch 25/100\n",
      "67/67 [==============================] - 0s 4ms/step - loss: -24.3277 - accuracy: 0.0287\n",
      "Epoch 26/100\n",
      "67/67 [==============================] - 0s 6ms/step - loss: -25.3359 - accuracy: 0.0287\n",
      "Epoch 27/100\n",
      "67/67 [==============================] - 0s 6ms/step - loss: -26.3445 - accuracy: 0.0287\n",
      "Epoch 28/100\n",
      "67/67 [==============================] - 0s 5ms/step - loss: -27.3502 - accuracy: 0.0287\n",
      "Epoch 29/100\n",
      "67/67 [==============================] - 0s 4ms/step - loss: -28.3611 - accuracy: 0.0287\n",
      "Epoch 30/100\n",
      "67/67 [==============================] - 0s 4ms/step - loss: -29.3720 - accuracy: 0.0287\n",
      "Epoch 31/100\n",
      "67/67 [==============================] - 0s 5ms/step - loss: -30.3894 - accuracy: 0.0287\n",
      "Epoch 32/100\n",
      "67/67 [==============================] - 0s 5ms/step - loss: -31.3982 - accuracy: 0.0287\n",
      "Epoch 33/100\n",
      "67/67 [==============================] - 0s 5ms/step - loss: -32.4098 - accuracy: 0.0287\n",
      "Epoch 34/100\n",
      "67/67 [==============================] - 0s 4ms/step - loss: -33.4155 - accuracy: 0.0287\n",
      "Epoch 35/100\n",
      "67/67 [==============================] - 0s 5ms/step - loss: -34.4211 - accuracy: 0.0287\n",
      "Epoch 36/100\n",
      "67/67 [==============================] - 0s 4ms/step - loss: -35.4252 - accuracy: 0.0287\n",
      "Epoch 37/100\n",
      "67/67 [==============================] - 0s 4ms/step - loss: -36.4341 - accuracy: 0.0287\n",
      "Epoch 38/100\n",
      "67/67 [==============================] - 0s 3ms/step - loss: -37.4400 - accuracy: 0.0287\n",
      "Epoch 39/100\n",
      "67/67 [==============================] - 0s 4ms/step - loss: -38.4454 - accuracy: 0.0287\n",
      "Epoch 40/100\n",
      "67/67 [==============================] - 0s 5ms/step - loss: -39.4512 - accuracy: 0.0287\n",
      "Epoch 41/100\n",
      "67/67 [==============================] - 0s 5ms/step - loss: -40.4631 - accuracy: 0.0287\n",
      "Epoch 42/100\n",
      "67/67 [==============================] - 0s 4ms/step - loss: -41.4609 - accuracy: 0.0287\n",
      "Epoch 43/100\n",
      "67/67 [==============================] - 0s 4ms/step - loss: -42.4689 - accuracy: 0.0287\n",
      "Epoch 44/100\n",
      "67/67 [==============================] - 0s 6ms/step - loss: -43.4774 - accuracy: 0.0287\n",
      "Epoch 45/100\n",
      "67/67 [==============================] - 0s 4ms/step - loss: -44.4824 - accuracy: 0.0287\n",
      "Epoch 46/100\n",
      "67/67 [==============================] - 0s 3ms/step - loss: -45.4908 - accuracy: 0.0287\n",
      "Epoch 47/100\n",
      "67/67 [==============================] - 0s 4ms/step - loss: -46.5010 - accuracy: 0.0287\n",
      "Epoch 48/100\n",
      "67/67 [==============================] - 0s 3ms/step - loss: -47.5028 - accuracy: 0.0287\n",
      "Epoch 49/100\n",
      "67/67 [==============================] - 0s 4ms/step - loss: -48.5095 - accuracy: 0.0287\n",
      "Epoch 50/100\n",
      "67/67 [==============================] - 0s 3ms/step - loss: -49.5114 - accuracy: 0.0287\n",
      "Epoch 51/100\n",
      "67/67 [==============================] - 0s 5ms/step - loss: -50.5106 - accuracy: 0.0287\n",
      "Epoch 52/100\n",
      "67/67 [==============================] - 0s 4ms/step - loss: -51.5131 - accuracy: 0.0287\n",
      "Epoch 53/100\n",
      "67/67 [==============================] - 0s 4ms/step - loss: -52.5150 - accuracy: 0.0287\n",
      "Epoch 54/100\n",
      "67/67 [==============================] - 0s 4ms/step - loss: -53.5163 - accuracy: 0.0287\n",
      "Epoch 55/100\n",
      "67/67 [==============================] - 0s 5ms/step - loss: -54.5174 - accuracy: 0.0287\n",
      "Epoch 56/100\n",
      "67/67 [==============================] - 0s 5ms/step - loss: -55.5232 - accuracy: 0.0287\n",
      "Epoch 57/100\n",
      "67/67 [==============================] - 0s 4ms/step - loss: -56.5288 - accuracy: 0.0287\n",
      "Epoch 58/100\n",
      "67/67 [==============================] - 0s 4ms/step - loss: -57.5338 - accuracy: 0.0287\n",
      "Epoch 59/100\n",
      "67/67 [==============================] - 0s 4ms/step - loss: -58.5341 - accuracy: 0.0287\n",
      "Epoch 60/100\n",
      "67/67 [==============================] - 0s 4ms/step - loss: -59.5436 - accuracy: 0.0287\n",
      "Epoch 61/100\n",
      "67/67 [==============================] - 0s 6ms/step - loss: -60.5463 - accuracy: 0.0287\n",
      "Epoch 62/100\n",
      "67/67 [==============================] - 0s 4ms/step - loss: -61.5527 - accuracy: 0.0287\n",
      "Epoch 63/100\n",
      "67/67 [==============================] - 0s 5ms/step - loss: -62.5564 - accuracy: 0.0287\n",
      "Epoch 64/100\n",
      "67/67 [==============================] - 0s 4ms/step - loss: -63.5580 - accuracy: 0.0287\n",
      "Epoch 65/100\n",
      "67/67 [==============================] - 0s 5ms/step - loss: -64.5713 - accuracy: 0.0287\n",
      "Epoch 66/100\n",
      "67/67 [==============================] - 0s 5ms/step - loss: -65.5716 - accuracy: 0.0287\n",
      "Epoch 67/100\n",
      "67/67 [==============================] - 0s 4ms/step - loss: -66.5761 - accuracy: 0.0287\n",
      "Epoch 68/100\n",
      "67/67 [==============================] - 0s 4ms/step - loss: -67.5824 - accuracy: 0.0287\n",
      "Epoch 69/100\n",
      "67/67 [==============================] - 0s 5ms/step - loss: -68.5864 - accuracy: 0.0287\n",
      "Epoch 70/100\n",
      "67/67 [==============================] - 0s 3ms/step - loss: -69.5989 - accuracy: 0.0287\n",
      "Epoch 71/100\n",
      "67/67 [==============================] - 0s 5ms/step - loss: -70.6083 - accuracy: 0.0287\n",
      "Epoch 72/100\n",
      "67/67 [==============================] - 0s 5ms/step - loss: -71.6169 - accuracy: 0.0287\n",
      "Epoch 73/100\n",
      "67/67 [==============================] - 0s 3ms/step - loss: -72.6261 - accuracy: 0.0287\n",
      "Epoch 74/100\n",
      "67/67 [==============================] - 0s 5ms/step - loss: -73.6303 - accuracy: 0.0287\n",
      "Epoch 75/100\n",
      "67/67 [==============================] - 0s 5ms/step - loss: -74.6330 - accuracy: 0.0287\n",
      "Epoch 76/100\n",
      "67/67 [==============================] - 0s 5ms/step - loss: -75.6390 - accuracy: 0.0287\n",
      "Epoch 77/100\n",
      "67/67 [==============================] - 0s 4ms/step - loss: -76.6428 - accuracy: 0.0287\n",
      "Epoch 78/100\n",
      "67/67 [==============================] - 0s 4ms/step - loss: -77.6532 - accuracy: 0.0287\n",
      "Epoch 79/100\n",
      "67/67 [==============================] - 0s 4ms/step - loss: -78.6634 - accuracy: 0.0287\n",
      "Epoch 80/100\n",
      "67/67 [==============================] - 0s 6ms/step - loss: -79.6778 - accuracy: 0.0287\n",
      "Epoch 81/100\n",
      "67/67 [==============================] - 0s 4ms/step - loss: -80.6859 - accuracy: 0.0287\n",
      "Epoch 82/100\n",
      "67/67 [==============================] - 0s 3ms/step - loss: -81.6904 - accuracy: 0.0287\n",
      "Epoch 83/100\n",
      "67/67 [==============================] - 0s 4ms/step - loss: -82.7006 - accuracy: 0.0287\n",
      "Epoch 84/100\n",
      "67/67 [==============================] - 0s 4ms/step - loss: -83.7051 - accuracy: 0.0287\n",
      "Epoch 85/100\n",
      "67/67 [==============================] - 0s 4ms/step - loss: -84.7114 - accuracy: 0.0287\n",
      "Epoch 86/100\n",
      "67/67 [==============================] - 0s 4ms/step - loss: -85.7149 - accuracy: 0.0287\n",
      "Epoch 87/100\n",
      "67/67 [==============================] - 0s 4ms/step - loss: -86.7190 - accuracy: 0.0287\n",
      "Epoch 88/100\n",
      "67/67 [==============================] - 0s 5ms/step - loss: -87.7265 - accuracy: 0.0287\n",
      "Epoch 89/100\n",
      "67/67 [==============================] - 0s 4ms/step - loss: -88.7328 - accuracy: 0.0287\n",
      "Epoch 90/100\n",
      "67/67 [==============================] - 0s 5ms/step - loss: -89.7360 - accuracy: 0.0287\n",
      "Epoch 91/100\n",
      "67/67 [==============================] - 0s 4ms/step - loss: -90.7437 - accuracy: 0.0287\n",
      "Epoch 92/100\n",
      "67/67 [==============================] - 0s 4ms/step - loss: -91.7511 - accuracy: 0.0287\n",
      "Epoch 93/100\n",
      "67/67 [==============================] - 0s 4ms/step - loss: -92.7618 - accuracy: 0.0287\n",
      "Epoch 94/100\n",
      "67/67 [==============================] - 0s 4ms/step - loss: -93.7724 - accuracy: 0.0287\n",
      "Epoch 95/100\n",
      "67/67 [==============================] - 0s 4ms/step - loss: -94.7836 - accuracy: 0.0287\n",
      "Epoch 96/100\n",
      "67/67 [==============================] - 0s 5ms/step - loss: -95.7914 - accuracy: 0.0287\n",
      "Epoch 97/100\n",
      "67/67 [==============================] - 0s 4ms/step - loss: -96.8027 - accuracy: 0.0287\n",
      "Epoch 98/100\n",
      "67/67 [==============================] - 0s 4ms/step - loss: -97.8079 - accuracy: 0.0287\n",
      "Epoch 99/100\n",
      "67/67 [==============================] - 0s 5ms/step - loss: -98.8161 - accuracy: 0.0287\n",
      "Epoch 100/100\n",
      "67/67 [==============================] - 0s 5ms/step - loss: -99.8256 - accuracy: 0.0287\n"
     ]
    },
    {
     "data": {
      "text/plain": [
       "<keras.callbacks.History at 0x7f99a7c058b0>"
      ]
     },
     "execution_count": 196,
     "metadata": {},
     "output_type": "execute_result"
    }
   ],
   "source": [
    "train_data = tf.data.Dataset.from_tensor_slices((X_train, y_train))\n",
    "valid_data = tf.data.Dataset.from_tensor_slices((X_test, y_test))\n",
    "classifier.fit(X_train, y_train, batch_size = 10, epochs = 100)"
   ]
  },
  {
   "cell_type": "code",
   "execution_count": 197,
   "metadata": {},
   "outputs": [
    {
     "name": "stdout",
     "output_type": "stream",
     "text": [
      "11/11 [==============================] - 0s 4ms/step\n"
     ]
    }
   ],
   "source": [
    "y_pred = classifier.predict(X_test)"
   ]
  },
  {
   "cell_type": "code",
   "execution_count": 198,
   "metadata": {},
   "outputs": [],
   "source": [
    "X_test['cellphone_id'] = y_pred"
   ]
  },
  {
   "cell_type": "code",
   "execution_count": 199,
   "metadata": {},
   "outputs": [],
   "source": [
    "## JOINING THE DATA\n",
    "\n",
    "X_test = X_test.set_index('cellphone_id').join(data)"
   ]
  },
  {
   "cell_type": "code",
   "execution_count": 200,
   "metadata": {},
   "outputs": [
    {
     "data": {
      "text/html": [
       "<div>\n",
       "<style scoped>\n",
       "    .dataframe tbody tr th:only-of-type {\n",
       "        vertical-align: middle;\n",
       "    }\n",
       "\n",
       "    .dataframe tbody tr th {\n",
       "        vertical-align: top;\n",
       "    }\n",
       "\n",
       "    .dataframe thead th {\n",
       "        text-align: right;\n",
       "    }\n",
       "</style>\n",
       "<table border=\"1\" class=\"dataframe\">\n",
       "  <thead>\n",
       "    <tr style=\"text-align: right;\">\n",
       "      <th></th>\n",
       "      <th>rating</th>\n",
       "      <th>operating system</th>\n",
       "      <th>price</th>\n",
       "      <th>age</th>\n",
       "      <th>gender</th>\n",
       "      <th>occupation</th>\n",
       "      <th>cellphone_id</th>\n",
       "      <th>brand</th>\n",
       "      <th>model</th>\n",
       "      <th>internal memory</th>\n",
       "      <th>RAM</th>\n",
       "      <th>performance</th>\n",
       "      <th>main camera</th>\n",
       "      <th>selfie camera</th>\n",
       "      <th>battery size</th>\n",
       "      <th>screen size</th>\n",
       "      <th>weight</th>\n",
       "      <th>release date</th>\n",
       "    </tr>\n",
       "  </thead>\n",
       "  <tbody>\n",
       "    <tr>\n",
       "      <th>0.998573</th>\n",
       "      <td>8.0</td>\n",
       "      <td>22.0</td>\n",
       "      <td>312.0</td>\n",
       "      <td>32.00000</td>\n",
       "      <td>1.0</td>\n",
       "      <td>19.0</td>\n",
       "      <td>NaN</td>\n",
       "      <td>NaN</td>\n",
       "      <td>NaN</td>\n",
       "      <td>NaN</td>\n",
       "      <td>NaN</td>\n",
       "      <td>NaN</td>\n",
       "      <td>NaN</td>\n",
       "      <td>NaN</td>\n",
       "      <td>NaN</td>\n",
       "      <td>NaN</td>\n",
       "      <td>NaN</td>\n",
       "      <td>NaN</td>\n",
       "    </tr>\n",
       "    <tr>\n",
       "      <th>0.998573</th>\n",
       "      <td>10.0</td>\n",
       "      <td>22.0</td>\n",
       "      <td>199.0</td>\n",
       "      <td>32.84375</td>\n",
       "      <td>2.0</td>\n",
       "      <td>8.0</td>\n",
       "      <td>NaN</td>\n",
       "      <td>NaN</td>\n",
       "      <td>NaN</td>\n",
       "      <td>NaN</td>\n",
       "      <td>NaN</td>\n",
       "      <td>NaN</td>\n",
       "      <td>NaN</td>\n",
       "      <td>NaN</td>\n",
       "      <td>NaN</td>\n",
       "      <td>NaN</td>\n",
       "      <td>NaN</td>\n",
       "      <td>NaN</td>\n",
       "    </tr>\n",
       "    <tr>\n",
       "      <th>0.998573</th>\n",
       "      <td>8.0</td>\n",
       "      <td>23.0</td>\n",
       "      <td>1199.0</td>\n",
       "      <td>32.84375</td>\n",
       "      <td>2.0</td>\n",
       "      <td>8.0</td>\n",
       "      <td>NaN</td>\n",
       "      <td>NaN</td>\n",
       "      <td>NaN</td>\n",
       "      <td>NaN</td>\n",
       "      <td>NaN</td>\n",
       "      <td>NaN</td>\n",
       "      <td>NaN</td>\n",
       "      <td>NaN</td>\n",
       "      <td>NaN</td>\n",
       "      <td>NaN</td>\n",
       "      <td>NaN</td>\n",
       "      <td>NaN</td>\n",
       "    </tr>\n",
       "    <tr>\n",
       "      <th>0.998573</th>\n",
       "      <td>4.0</td>\n",
       "      <td>22.0</td>\n",
       "      <td>189.0</td>\n",
       "      <td>25.00000</td>\n",
       "      <td>1.0</td>\n",
       "      <td>10.0</td>\n",
       "      <td>NaN</td>\n",
       "      <td>NaN</td>\n",
       "      <td>NaN</td>\n",
       "      <td>NaN</td>\n",
       "      <td>NaN</td>\n",
       "      <td>NaN</td>\n",
       "      <td>NaN</td>\n",
       "      <td>NaN</td>\n",
       "      <td>NaN</td>\n",
       "      <td>NaN</td>\n",
       "      <td>NaN</td>\n",
       "      <td>NaN</td>\n",
       "    </tr>\n",
       "    <tr>\n",
       "      <th>0.998573</th>\n",
       "      <td>5.0</td>\n",
       "      <td>22.0</td>\n",
       "      <td>159.0</td>\n",
       "      <td>25.00000</td>\n",
       "      <td>1.0</td>\n",
       "      <td>17.0</td>\n",
       "      <td>NaN</td>\n",
       "      <td>NaN</td>\n",
       "      <td>NaN</td>\n",
       "      <td>NaN</td>\n",
       "      <td>NaN</td>\n",
       "      <td>NaN</td>\n",
       "      <td>NaN</td>\n",
       "      <td>NaN</td>\n",
       "      <td>NaN</td>\n",
       "      <td>NaN</td>\n",
       "      <td>NaN</td>\n",
       "      <td>NaN</td>\n",
       "    </tr>\n",
       "    <tr>\n",
       "      <th>...</th>\n",
       "      <td>...</td>\n",
       "      <td>...</td>\n",
       "      <td>...</td>\n",
       "      <td>...</td>\n",
       "      <td>...</td>\n",
       "      <td>...</td>\n",
       "      <td>...</td>\n",
       "      <td>...</td>\n",
       "      <td>...</td>\n",
       "      <td>...</td>\n",
       "      <td>...</td>\n",
       "      <td>...</td>\n",
       "      <td>...</td>\n",
       "      <td>...</td>\n",
       "      <td>...</td>\n",
       "      <td>...</td>\n",
       "      <td>...</td>\n",
       "      <td>...</td>\n",
       "    </tr>\n",
       "    <tr>\n",
       "      <th>0.998573</th>\n",
       "      <td>8.0</td>\n",
       "      <td>22.0</td>\n",
       "      <td>312.0</td>\n",
       "      <td>32.84375</td>\n",
       "      <td>2.0</td>\n",
       "      <td>8.0</td>\n",
       "      <td>NaN</td>\n",
       "      <td>NaN</td>\n",
       "      <td>NaN</td>\n",
       "      <td>NaN</td>\n",
       "      <td>NaN</td>\n",
       "      <td>NaN</td>\n",
       "      <td>NaN</td>\n",
       "      <td>NaN</td>\n",
       "      <td>NaN</td>\n",
       "      <td>NaN</td>\n",
       "      <td>NaN</td>\n",
       "      <td>NaN</td>\n",
       "    </tr>\n",
       "    <tr>\n",
       "      <th>0.998573</th>\n",
       "      <td>5.0</td>\n",
       "      <td>22.0</td>\n",
       "      <td>159.0</td>\n",
       "      <td>32.84375</td>\n",
       "      <td>2.0</td>\n",
       "      <td>8.0</td>\n",
       "      <td>NaN</td>\n",
       "      <td>NaN</td>\n",
       "      <td>NaN</td>\n",
       "      <td>NaN</td>\n",
       "      <td>NaN</td>\n",
       "      <td>NaN</td>\n",
       "      <td>NaN</td>\n",
       "      <td>NaN</td>\n",
       "      <td>NaN</td>\n",
       "      <td>NaN</td>\n",
       "      <td>NaN</td>\n",
       "      <td>NaN</td>\n",
       "    </tr>\n",
       "    <tr>\n",
       "      <th>0.998573</th>\n",
       "      <td>10.0</td>\n",
       "      <td>23.0</td>\n",
       "      <td>999.0</td>\n",
       "      <td>38.00000</td>\n",
       "      <td>0.0</td>\n",
       "      <td>3.0</td>\n",
       "      <td>NaN</td>\n",
       "      <td>NaN</td>\n",
       "      <td>NaN</td>\n",
       "      <td>NaN</td>\n",
       "      <td>NaN</td>\n",
       "      <td>NaN</td>\n",
       "      <td>NaN</td>\n",
       "      <td>NaN</td>\n",
       "      <td>NaN</td>\n",
       "      <td>NaN</td>\n",
       "      <td>NaN</td>\n",
       "      <td>NaN</td>\n",
       "    </tr>\n",
       "    <tr>\n",
       "      <th>0.998573</th>\n",
       "      <td>9.0</td>\n",
       "      <td>22.0</td>\n",
       "      <td>840.0</td>\n",
       "      <td>25.00000</td>\n",
       "      <td>1.0</td>\n",
       "      <td>28.0</td>\n",
       "      <td>NaN</td>\n",
       "      <td>NaN</td>\n",
       "      <td>NaN</td>\n",
       "      <td>NaN</td>\n",
       "      <td>NaN</td>\n",
       "      <td>NaN</td>\n",
       "      <td>NaN</td>\n",
       "      <td>NaN</td>\n",
       "      <td>NaN</td>\n",
       "      <td>NaN</td>\n",
       "      <td>NaN</td>\n",
       "      <td>NaN</td>\n",
       "    </tr>\n",
       "    <tr>\n",
       "      <th>0.998573</th>\n",
       "      <td>9.0</td>\n",
       "      <td>22.0</td>\n",
       "      <td>987.0</td>\n",
       "      <td>32.84375</td>\n",
       "      <td>2.0</td>\n",
       "      <td>8.0</td>\n",
       "      <td>NaN</td>\n",
       "      <td>NaN</td>\n",
       "      <td>NaN</td>\n",
       "      <td>NaN</td>\n",
       "      <td>NaN</td>\n",
       "      <td>NaN</td>\n",
       "      <td>NaN</td>\n",
       "      <td>NaN</td>\n",
       "      <td>NaN</td>\n",
       "      <td>NaN</td>\n",
       "      <td>NaN</td>\n",
       "      <td>NaN</td>\n",
       "    </tr>\n",
       "  </tbody>\n",
       "</table>\n",
       "<p>327 rows × 18 columns</p>\n",
       "</div>"
      ],
      "text/plain": [
       "          rating  operating system   price       age  gender  occupation  \\\n",
       "0.998573     8.0              22.0   312.0  32.00000     1.0        19.0   \n",
       "0.998573    10.0              22.0   199.0  32.84375     2.0         8.0   \n",
       "0.998573     8.0              23.0  1199.0  32.84375     2.0         8.0   \n",
       "0.998573     4.0              22.0   189.0  25.00000     1.0        10.0   \n",
       "0.998573     5.0              22.0   159.0  25.00000     1.0        17.0   \n",
       "...          ...               ...     ...       ...     ...         ...   \n",
       "0.998573     8.0              22.0   312.0  32.84375     2.0         8.0   \n",
       "0.998573     5.0              22.0   159.0  32.84375     2.0         8.0   \n",
       "0.998573    10.0              23.0   999.0  38.00000     0.0         3.0   \n",
       "0.998573     9.0              22.0   840.0  25.00000     1.0        28.0   \n",
       "0.998573     9.0              22.0   987.0  32.84375     2.0         8.0   \n",
       "\n",
       "          cellphone_id brand model  internal memory  RAM  performance  \\\n",
       "0.998573           NaN   NaN   NaN              NaN  NaN          NaN   \n",
       "0.998573           NaN   NaN   NaN              NaN  NaN          NaN   \n",
       "0.998573           NaN   NaN   NaN              NaN  NaN          NaN   \n",
       "0.998573           NaN   NaN   NaN              NaN  NaN          NaN   \n",
       "0.998573           NaN   NaN   NaN              NaN  NaN          NaN   \n",
       "...                ...   ...   ...              ...  ...          ...   \n",
       "0.998573           NaN   NaN   NaN              NaN  NaN          NaN   \n",
       "0.998573           NaN   NaN   NaN              NaN  NaN          NaN   \n",
       "0.998573           NaN   NaN   NaN              NaN  NaN          NaN   \n",
       "0.998573           NaN   NaN   NaN              NaN  NaN          NaN   \n",
       "0.998573           NaN   NaN   NaN              NaN  NaN          NaN   \n",
       "\n",
       "          main camera  selfie camera  battery size  screen size  weight  \\\n",
       "0.998573          NaN            NaN           NaN          NaN     NaN   \n",
       "0.998573          NaN            NaN           NaN          NaN     NaN   \n",
       "0.998573          NaN            NaN           NaN          NaN     NaN   \n",
       "0.998573          NaN            NaN           NaN          NaN     NaN   \n",
       "0.998573          NaN            NaN           NaN          NaN     NaN   \n",
       "...               ...            ...           ...          ...     ...   \n",
       "0.998573          NaN            NaN           NaN          NaN     NaN   \n",
       "0.998573          NaN            NaN           NaN          NaN     NaN   \n",
       "0.998573          NaN            NaN           NaN          NaN     NaN   \n",
       "0.998573          NaN            NaN           NaN          NaN     NaN   \n",
       "0.998573          NaN            NaN           NaN          NaN     NaN   \n",
       "\n",
       "         release date  \n",
       "0.998573          NaN  \n",
       "0.998573          NaN  \n",
       "0.998573          NaN  \n",
       "0.998573          NaN  \n",
       "0.998573          NaN  \n",
       "...               ...  \n",
       "0.998573          NaN  \n",
       "0.998573          NaN  \n",
       "0.998573          NaN  \n",
       "0.998573          NaN  \n",
       "0.998573          NaN  \n",
       "\n",
       "[327 rows x 18 columns]"
      ]
     },
     "execution_count": 200,
     "metadata": {},
     "output_type": "execute_result"
    }
   ],
   "source": [
    "X_test"
   ]
  },
  {
   "cell_type": "code",
   "execution_count": 201,
   "metadata": {},
   "outputs": [],
   "source": [
    "df = pd.DataFrame(columns=['rating','operating system', 'price', 'age', 'gender', 'occupation'])\n",
    "parts = int(input(\"Enter the number of cellphones:\"))\n",
    "\n",
    "for _ in range(parts):\n",
    "    rate = int(input(\"Enter your dream phone's rating (1-10) : \"))\n",
    "    os = input(\"Enter your operating system :\")\n",
    "    bd = float(input(\"Enter your budget (in USD) :\"))\n",
    "    ag = int(input(\"Enter your age :\"))\n",
    "    gd = input(\"Enter your gender:\")\n",
    "    oc = input(\"Enter your occupation\")\n",
    "    df1 = pd.DataFrame(data=[[rate,os,bd,ag,gd,oc]],columns=['rating','operating system', 'price', 'age', 'gender', 'occupation'])\n",
    "    df = pd.concat([df,df1], axis=0)\n",
    "\n",
    "df.index = range(len(df.index))"
   ]
  },
  {
   "cell_type": "code",
   "execution_count": 202,
   "metadata": {},
   "outputs": [
    {
     "data": {
      "text/html": [
       "<div>\n",
       "<style scoped>\n",
       "    .dataframe tbody tr th:only-of-type {\n",
       "        vertical-align: middle;\n",
       "    }\n",
       "\n",
       "    .dataframe tbody tr th {\n",
       "        vertical-align: top;\n",
       "    }\n",
       "\n",
       "    .dataframe thead th {\n",
       "        text-align: right;\n",
       "    }\n",
       "</style>\n",
       "<table border=\"1\" class=\"dataframe\">\n",
       "  <thead>\n",
       "    <tr style=\"text-align: right;\">\n",
       "      <th></th>\n",
       "      <th>rating</th>\n",
       "      <th>operating system</th>\n",
       "      <th>price</th>\n",
       "      <th>age</th>\n",
       "      <th>gender</th>\n",
       "      <th>occupation</th>\n",
       "    </tr>\n",
       "  </thead>\n",
       "  <tbody>\n",
       "    <tr>\n",
       "      <th>0</th>\n",
       "      <td>7</td>\n",
       "      <td>iOS</td>\n",
       "      <td>690.0</td>\n",
       "      <td>20</td>\n",
       "      <td>male</td>\n",
       "      <td>IT</td>\n",
       "    </tr>\n",
       "  </tbody>\n",
       "</table>\n",
       "</div>"
      ],
      "text/plain": [
       "  rating operating system  price age gender occupation\n",
       "0      7              iOS  690.0  20   male         IT"
      ]
     },
     "execution_count": 202,
     "metadata": {},
     "output_type": "execute_result"
    }
   ],
   "source": [
    "df"
   ]
  },
  {
   "cell_type": "code",
   "execution_count": 203,
   "metadata": {},
   "outputs": [
    {
     "data": {
      "text/plain": [
       "rating               object\n",
       "operating system     object\n",
       "price               float64\n",
       "age                  object\n",
       "gender               object\n",
       "occupation           object\n",
       "dtype: object"
      ]
     },
     "execution_count": 203,
     "metadata": {},
     "output_type": "execute_result"
    }
   ],
   "source": [
    "df.dtypes"
   ]
  },
  {
   "cell_type": "code",
   "execution_count": 204,
   "metadata": {},
   "outputs": [],
   "source": [
    "df['occupation'] = df['occupation'].fillna('jobless')\n",
    "df['operating system'] = df['operating system'].fillna('Android')\n",
    "df['gender'] = df['gender'].fillna(2)\n",
    "df['rating'] = df['rating'].fillna(10)\n",
    "df['age'] = df['age'].fillna(ratings['age'].mean())\n",
    "df['price'] = df['price'].fillna(ratings['price'].mean())"
   ]
  },
  {
   "cell_type": "code",
   "execution_count": 205,
   "metadata": {},
   "outputs": [],
   "source": [
    "df['operating system'] = df['operating system'].apply(alphabet_to_number)"
   ]
  },
  {
   "cell_type": "code",
   "execution_count": 206,
   "metadata": {},
   "outputs": [],
   "source": [
    "df['occupation'] = df['occupation'].apply(alphabet_to_number)"
   ]
  },
  {
   "cell_type": "code",
   "execution_count": 207,
   "metadata": {},
   "outputs": [],
   "source": [
    "df['gender'] = df['gender'].apply(gender_null)"
   ]
  },
  {
   "cell_type": "code",
   "execution_count": 208,
   "metadata": {},
   "outputs": [],
   "source": [
    "object_data = ['operating system', 'occupation']\n",
    "all_objects = []\n",
    "for rows in ratings[object_data].fillna(\" \").values.tolist():\n",
    "    for phrases in rows:\n",
    "        all_objects.append(phrases)\n",
    "all_objects = list(set(all_objects))"
   ]
  },
  {
   "cell_type": "code",
   "execution_count": 209,
   "metadata": {},
   "outputs": [
    {
     "data": {
      "text/html": [
       "<div>\n",
       "<style scoped>\n",
       "    .dataframe tbody tr th:only-of-type {\n",
       "        vertical-align: middle;\n",
       "    }\n",
       "\n",
       "    .dataframe tbody tr th {\n",
       "        vertical-align: top;\n",
       "    }\n",
       "\n",
       "    .dataframe thead th {\n",
       "        text-align: right;\n",
       "    }\n",
       "</style>\n",
       "<table border=\"1\" class=\"dataframe\">\n",
       "  <thead>\n",
       "    <tr style=\"text-align: right;\">\n",
       "      <th></th>\n",
       "      <th>rating</th>\n",
       "      <th>operating system</th>\n",
       "      <th>price</th>\n",
       "      <th>age</th>\n",
       "      <th>gender</th>\n",
       "      <th>occupation</th>\n",
       "    </tr>\n",
       "  </thead>\n",
       "  <tbody>\n",
       "    <tr>\n",
       "      <th>0</th>\n",
       "      <td>7</td>\n",
       "      <td>23</td>\n",
       "      <td>690.0</td>\n",
       "      <td>20</td>\n",
       "      <td>1</td>\n",
       "      <td>9</td>\n",
       "    </tr>\n",
       "  </tbody>\n",
       "</table>\n",
       "</div>"
      ],
      "text/plain": [
       "   rating  operating system  price  age  gender  occupation\n",
       "0       7                23  690.0   20       1           9"
      ]
     },
     "execution_count": 209,
     "metadata": {},
     "output_type": "execute_result"
    }
   ],
   "source": [
    "df"
   ]
  },
  {
   "cell_type": "code",
   "execution_count": 210,
   "metadata": {},
   "outputs": [],
   "source": [
    "df = df.astype(np.float32)"
   ]
  },
  {
   "cell_type": "code",
   "execution_count": 211,
   "metadata": {},
   "outputs": [
    {
     "name": "stdout",
     "output_type": "stream",
     "text": [
      "1/1 [==============================] - 0s 54ms/step\n"
     ]
    }
   ],
   "source": [
    "df_pred = classifier.predict(df)"
   ]
  },
  {
   "cell_type": "code",
   "execution_count": 212,
   "metadata": {},
   "outputs": [],
   "source": [
    "df['cellphone_id'] = df_pred"
   ]
  },
  {
   "cell_type": "code",
   "execution_count": 213,
   "metadata": {},
   "outputs": [],
   "source": [
    "## JOINING THE DATA\n",
    "\n",
    "df = df.set_index('cellphone_id').join(data)"
   ]
  },
  {
   "cell_type": "code",
   "execution_count": 214,
   "metadata": {},
   "outputs": [
    {
     "data": {
      "text/html": [
       "<div>\n",
       "<style scoped>\n",
       "    .dataframe tbody tr th:only-of-type {\n",
       "        vertical-align: middle;\n",
       "    }\n",
       "\n",
       "    .dataframe tbody tr th {\n",
       "        vertical-align: top;\n",
       "    }\n",
       "\n",
       "    .dataframe thead th {\n",
       "        text-align: right;\n",
       "    }\n",
       "</style>\n",
       "<table border=\"1\" class=\"dataframe\">\n",
       "  <thead>\n",
       "    <tr style=\"text-align: right;\">\n",
       "      <th></th>\n",
       "      <th>rating</th>\n",
       "      <th>operating system</th>\n",
       "      <th>price</th>\n",
       "      <th>age</th>\n",
       "      <th>gender</th>\n",
       "      <th>occupation</th>\n",
       "      <th>cellphone_id</th>\n",
       "      <th>brand</th>\n",
       "      <th>model</th>\n",
       "      <th>internal memory</th>\n",
       "      <th>RAM</th>\n",
       "      <th>performance</th>\n",
       "      <th>main camera</th>\n",
       "      <th>selfie camera</th>\n",
       "      <th>battery size</th>\n",
       "      <th>screen size</th>\n",
       "      <th>weight</th>\n",
       "      <th>release date</th>\n",
       "    </tr>\n",
       "    <tr>\n",
       "      <th>cellphone_id</th>\n",
       "      <th></th>\n",
       "      <th></th>\n",
       "      <th></th>\n",
       "      <th></th>\n",
       "      <th></th>\n",
       "      <th></th>\n",
       "      <th></th>\n",
       "      <th></th>\n",
       "      <th></th>\n",
       "      <th></th>\n",
       "      <th></th>\n",
       "      <th></th>\n",
       "      <th></th>\n",
       "      <th></th>\n",
       "      <th></th>\n",
       "      <th></th>\n",
       "      <th></th>\n",
       "      <th></th>\n",
       "    </tr>\n",
       "  </thead>\n",
       "  <tbody>\n",
       "    <tr>\n",
       "      <th>0.9985725283622742</th>\n",
       "      <td>7.0</td>\n",
       "      <td>23.0</td>\n",
       "      <td>690.0</td>\n",
       "      <td>20.0</td>\n",
       "      <td>1.0</td>\n",
       "      <td>9.0</td>\n",
       "      <td>NaN</td>\n",
       "      <td>NaN</td>\n",
       "      <td>NaN</td>\n",
       "      <td>NaN</td>\n",
       "      <td>NaN</td>\n",
       "      <td>NaN</td>\n",
       "      <td>NaN</td>\n",
       "      <td>NaN</td>\n",
       "      <td>NaN</td>\n",
       "      <td>NaN</td>\n",
       "      <td>NaN</td>\n",
       "      <td>NaN</td>\n",
       "    </tr>\n",
       "  </tbody>\n",
       "</table>\n",
       "</div>"
      ],
      "text/plain": [
       "                    rating  operating system  price   age  gender  occupation  \\\n",
       "cellphone_id                                                                    \n",
       "0.9985725283622742     7.0              23.0  690.0  20.0     1.0         9.0   \n",
       "\n",
       "                    cellphone_id brand model  internal memory  RAM  \\\n",
       "cellphone_id                                                         \n",
       "0.9985725283622742           NaN   NaN   NaN              NaN  NaN   \n",
       "\n",
       "                    performance  main camera  selfie camera  battery size  \\\n",
       "cellphone_id                                                                \n",
       "0.9985725283622742          NaN          NaN            NaN           NaN   \n",
       "\n",
       "                    screen size  weight release date  \n",
       "cellphone_id                                          \n",
       "0.9985725283622742          NaN     NaN          NaN  "
      ]
     },
     "execution_count": 214,
     "metadata": {},
     "output_type": "execute_result"
    }
   ],
   "source": [
    "df"
   ]
  }
 ],
 "metadata": {
  "kernelspec": {
   "display_name": "Python 3.9.7 ('base')",
   "language": "python",
   "name": "python3"
  },
  "language_info": {
   "codemirror_mode": {
    "name": "ipython",
    "version": 3
   },
   "file_extension": ".py",
   "mimetype": "text/x-python",
   "name": "python",
   "nbconvert_exporter": "python",
   "pygments_lexer": "ipython3",
   "version": "3.9.7"
  },
  "orig_nbformat": 4,
  "vscode": {
   "interpreter": {
    "hash": "651c3b7b3f466eb030aa737f279c846be4db9cba49a2f229278cab5e41121ed5"
   }
  }
 },
 "nbformat": 4,
 "nbformat_minor": 2
}
