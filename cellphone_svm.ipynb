{
 "cells": [
  {
   "cell_type": "code",
   "execution_count": 1068,
   "metadata": {},
   "outputs": [
    {
     "name": "stdout",
     "output_type": "stream",
     "text": [
      "./data/cellphones ratings.csv\n",
      "./data/cellphones data.csv\n",
      "./data/cellphones users.csv\n"
     ]
    }
   ],
   "source": [
    "import numpy as np # linear algebra\n",
    "import pandas as pd # data processing, CSV file I/O (e.g. pd.read_csv)\n",
    "import matplotlib.pyplot as plt # for data visualization\n",
    "import seaborn as sns # for statistical data visualization\n",
    "import pickle\n",
    "%matplotlib inline\n",
    "\n",
    "#print file path that includes in certain directory\n",
    "import os\n",
    "for dirname, _, filenames in os.walk('./data'):\n",
    "    for filename in filenames:\n",
    "        print(os.path.join(dirname, filename))\n",
    "        \n",
    "import warnings\n",
    "warnings.filterwarnings('ignore')"
   ]
  },
  {
   "cell_type": "code",
   "execution_count": 1069,
   "metadata": {},
   "outputs": [],
   "source": [
    "ratings = pd.read_csv('./data/cellphones ratings.csv')"
   ]
  },
  {
   "cell_type": "code",
   "execution_count": 1070,
   "metadata": {},
   "outputs": [],
   "source": [
    "data = pd.read_csv('./data/cellphones data.csv')"
   ]
  },
  {
   "cell_type": "code",
   "execution_count": 1071,
   "metadata": {},
   "outputs": [],
   "source": [
    "users = pd.read_csv('./data/cellphones users.csv')"
   ]
  },
  {
   "cell_type": "code",
   "execution_count": 1072,
   "metadata": {},
   "outputs": [
    {
     "data": {
      "text/html": [
       "<div>\n",
       "<style scoped>\n",
       "    .dataframe tbody tr th:only-of-type {\n",
       "        vertical-align: middle;\n",
       "    }\n",
       "\n",
       "    .dataframe tbody tr th {\n",
       "        vertical-align: top;\n",
       "    }\n",
       "\n",
       "    .dataframe thead th {\n",
       "        text-align: right;\n",
       "    }\n",
       "</style>\n",
       "<table border=\"1\" class=\"dataframe\">\n",
       "  <thead>\n",
       "    <tr style=\"text-align: right;\">\n",
       "      <th></th>\n",
       "      <th>user_id</th>\n",
       "      <th>cellphone_id</th>\n",
       "      <th>rating</th>\n",
       "    </tr>\n",
       "  </thead>\n",
       "  <tbody>\n",
       "    <tr>\n",
       "      <th>0</th>\n",
       "      <td>0</td>\n",
       "      <td>30</td>\n",
       "      <td>1</td>\n",
       "    </tr>\n",
       "    <tr>\n",
       "      <th>1</th>\n",
       "      <td>0</td>\n",
       "      <td>5</td>\n",
       "      <td>3</td>\n",
       "    </tr>\n",
       "    <tr>\n",
       "      <th>2</th>\n",
       "      <td>0</td>\n",
       "      <td>10</td>\n",
       "      <td>9</td>\n",
       "    </tr>\n",
       "    <tr>\n",
       "      <th>3</th>\n",
       "      <td>0</td>\n",
       "      <td>9</td>\n",
       "      <td>3</td>\n",
       "    </tr>\n",
       "    <tr>\n",
       "      <th>4</th>\n",
       "      <td>0</td>\n",
       "      <td>23</td>\n",
       "      <td>2</td>\n",
       "    </tr>\n",
       "  </tbody>\n",
       "</table>\n",
       "</div>"
      ],
      "text/plain": [
       "   user_id  cellphone_id  rating\n",
       "0        0            30       1\n",
       "1        0             5       3\n",
       "2        0            10       9\n",
       "3        0             9       3\n",
       "4        0            23       2"
      ]
     },
     "execution_count": 1072,
     "metadata": {},
     "output_type": "execute_result"
    }
   ],
   "source": [
    "ratings.head()"
   ]
  },
  {
   "cell_type": "code",
   "execution_count": 1073,
   "metadata": {},
   "outputs": [
    {
     "data": {
      "text/html": [
       "<div>\n",
       "<style scoped>\n",
       "    .dataframe tbody tr th:only-of-type {\n",
       "        vertical-align: middle;\n",
       "    }\n",
       "\n",
       "    .dataframe tbody tr th {\n",
       "        vertical-align: top;\n",
       "    }\n",
       "\n",
       "    .dataframe thead th {\n",
       "        text-align: right;\n",
       "    }\n",
       "</style>\n",
       "<table border=\"1\" class=\"dataframe\">\n",
       "  <thead>\n",
       "    <tr style=\"text-align: right;\">\n",
       "      <th></th>\n",
       "      <th>cellphone_id</th>\n",
       "      <th>brand</th>\n",
       "      <th>model</th>\n",
       "      <th>operating system</th>\n",
       "      <th>internal memory</th>\n",
       "      <th>RAM</th>\n",
       "      <th>performance</th>\n",
       "      <th>main camera</th>\n",
       "      <th>selfie camera</th>\n",
       "      <th>battery size</th>\n",
       "      <th>screen size</th>\n",
       "      <th>weight</th>\n",
       "      <th>price</th>\n",
       "      <th>release date</th>\n",
       "    </tr>\n",
       "  </thead>\n",
       "  <tbody>\n",
       "    <tr>\n",
       "      <th>0</th>\n",
       "      <td>0</td>\n",
       "      <td>Apple</td>\n",
       "      <td>iPhone SE (2022)</td>\n",
       "      <td>iOS</td>\n",
       "      <td>128</td>\n",
       "      <td>4</td>\n",
       "      <td>7.23</td>\n",
       "      <td>12</td>\n",
       "      <td>7</td>\n",
       "      <td>2018</td>\n",
       "      <td>4.7</td>\n",
       "      <td>144</td>\n",
       "      <td>429</td>\n",
       "      <td>18/03/2022</td>\n",
       "    </tr>\n",
       "    <tr>\n",
       "      <th>1</th>\n",
       "      <td>1</td>\n",
       "      <td>Apple</td>\n",
       "      <td>iPhone 13 Mini</td>\n",
       "      <td>iOS</td>\n",
       "      <td>128</td>\n",
       "      <td>4</td>\n",
       "      <td>7.72</td>\n",
       "      <td>12</td>\n",
       "      <td>12</td>\n",
       "      <td>2438</td>\n",
       "      <td>5.4</td>\n",
       "      <td>141</td>\n",
       "      <td>699</td>\n",
       "      <td>24/09/2021</td>\n",
       "    </tr>\n",
       "    <tr>\n",
       "      <th>2</th>\n",
       "      <td>2</td>\n",
       "      <td>Apple</td>\n",
       "      <td>iPhone 13</td>\n",
       "      <td>iOS</td>\n",
       "      <td>128</td>\n",
       "      <td>4</td>\n",
       "      <td>7.75</td>\n",
       "      <td>12</td>\n",
       "      <td>12</td>\n",
       "      <td>3240</td>\n",
       "      <td>6.1</td>\n",
       "      <td>174</td>\n",
       "      <td>699</td>\n",
       "      <td>24/09/2021</td>\n",
       "    </tr>\n",
       "    <tr>\n",
       "      <th>3</th>\n",
       "      <td>3</td>\n",
       "      <td>Apple</td>\n",
       "      <td>iPhone 13 Pro</td>\n",
       "      <td>iOS</td>\n",
       "      <td>256</td>\n",
       "      <td>6</td>\n",
       "      <td>7.94</td>\n",
       "      <td>12</td>\n",
       "      <td>12</td>\n",
       "      <td>3065</td>\n",
       "      <td>6.1</td>\n",
       "      <td>204</td>\n",
       "      <td>999</td>\n",
       "      <td>24/09/2021</td>\n",
       "    </tr>\n",
       "    <tr>\n",
       "      <th>4</th>\n",
       "      <td>4</td>\n",
       "      <td>Apple</td>\n",
       "      <td>iPhone 13 Pro Max</td>\n",
       "      <td>iOS</td>\n",
       "      <td>256</td>\n",
       "      <td>6</td>\n",
       "      <td>8.01</td>\n",
       "      <td>12</td>\n",
       "      <td>12</td>\n",
       "      <td>4352</td>\n",
       "      <td>6.7</td>\n",
       "      <td>240</td>\n",
       "      <td>1199</td>\n",
       "      <td>24/09/2021</td>\n",
       "    </tr>\n",
       "  </tbody>\n",
       "</table>\n",
       "</div>"
      ],
      "text/plain": [
       "   cellphone_id  brand              model operating system  internal memory  \\\n",
       "0             0  Apple   iPhone SE (2022)              iOS              128   \n",
       "1             1  Apple     iPhone 13 Mini              iOS              128   \n",
       "2             2  Apple          iPhone 13              iOS              128   \n",
       "3             3  Apple      iPhone 13 Pro              iOS              256   \n",
       "4             4  Apple  iPhone 13 Pro Max              iOS              256   \n",
       "\n",
       "   RAM  performance  main camera  selfie camera  battery size  screen size  \\\n",
       "0    4         7.23           12              7          2018          4.7   \n",
       "1    4         7.72           12             12          2438          5.4   \n",
       "2    4         7.75           12             12          3240          6.1   \n",
       "3    6         7.94           12             12          3065          6.1   \n",
       "4    6         8.01           12             12          4352          6.7   \n",
       "\n",
       "   weight  price release date  \n",
       "0     144    429   18/03/2022  \n",
       "1     141    699   24/09/2021  \n",
       "2     174    699   24/09/2021  \n",
       "3     204    999   24/09/2021  \n",
       "4     240   1199   24/09/2021  "
      ]
     },
     "execution_count": 1073,
     "metadata": {},
     "output_type": "execute_result"
    }
   ],
   "source": [
    "data.head()"
   ]
  },
  {
   "cell_type": "code",
   "execution_count": 1074,
   "metadata": {},
   "outputs": [
    {
     "data": {
      "text/html": [
       "<div>\n",
       "<style scoped>\n",
       "    .dataframe tbody tr th:only-of-type {\n",
       "        vertical-align: middle;\n",
       "    }\n",
       "\n",
       "    .dataframe tbody tr th {\n",
       "        vertical-align: top;\n",
       "    }\n",
       "\n",
       "    .dataframe thead th {\n",
       "        text-align: right;\n",
       "    }\n",
       "</style>\n",
       "<table border=\"1\" class=\"dataframe\">\n",
       "  <thead>\n",
       "    <tr style=\"text-align: right;\">\n",
       "      <th></th>\n",
       "      <th>user_id</th>\n",
       "      <th>age</th>\n",
       "      <th>gender</th>\n",
       "      <th>occupation</th>\n",
       "    </tr>\n",
       "  </thead>\n",
       "  <tbody>\n",
       "    <tr>\n",
       "      <th>0</th>\n",
       "      <td>0</td>\n",
       "      <td>38</td>\n",
       "      <td>Female</td>\n",
       "      <td>Data analyst</td>\n",
       "    </tr>\n",
       "    <tr>\n",
       "      <th>1</th>\n",
       "      <td>1</td>\n",
       "      <td>40</td>\n",
       "      <td>Female</td>\n",
       "      <td>team worker in it</td>\n",
       "    </tr>\n",
       "    <tr>\n",
       "      <th>2</th>\n",
       "      <td>6</td>\n",
       "      <td>55</td>\n",
       "      <td>Female</td>\n",
       "      <td>IT</td>\n",
       "    </tr>\n",
       "    <tr>\n",
       "      <th>3</th>\n",
       "      <td>8</td>\n",
       "      <td>25</td>\n",
       "      <td>Female</td>\n",
       "      <td>Manager</td>\n",
       "    </tr>\n",
       "    <tr>\n",
       "      <th>4</th>\n",
       "      <td>10</td>\n",
       "      <td>23</td>\n",
       "      <td>Male</td>\n",
       "      <td>worker</td>\n",
       "    </tr>\n",
       "  </tbody>\n",
       "</table>\n",
       "</div>"
      ],
      "text/plain": [
       "   user_id  age  gender         occupation\n",
       "0        0   38  Female       Data analyst\n",
       "1        1   40  Female  team worker in it\n",
       "2        6   55  Female                 IT\n",
       "3        8   25  Female            Manager\n",
       "4       10   23    Male             worker"
      ]
     },
     "execution_count": 1074,
     "metadata": {},
     "output_type": "execute_result"
    }
   ],
   "source": [
    "users.head()"
   ]
  },
  {
   "cell_type": "code",
   "execution_count": 1075,
   "metadata": {},
   "outputs": [
    {
     "data": {
      "text/plain": [
       "((990, 3), (33, 14), (99, 4))"
      ]
     },
     "execution_count": 1075,
     "metadata": {},
     "output_type": "execute_result"
    }
   ],
   "source": [
    "ratings.shape, data.shape, users.shape"
   ]
  },
  {
   "cell_type": "code",
   "execution_count": 1076,
   "metadata": {},
   "outputs": [],
   "source": [
    "## JOINING THE THREE DATAFRAMES\n",
    "\n",
    "ratings = ratings.set_index('cellphone_id').join(data)"
   ]
  },
  {
   "cell_type": "code",
   "execution_count": 1077,
   "metadata": {},
   "outputs": [
    {
     "data": {
      "text/html": [
       "<div>\n",
       "<style scoped>\n",
       "    .dataframe tbody tr th:only-of-type {\n",
       "        vertical-align: middle;\n",
       "    }\n",
       "\n",
       "    .dataframe tbody tr th {\n",
       "        vertical-align: top;\n",
       "    }\n",
       "\n",
       "    .dataframe thead th {\n",
       "        text-align: right;\n",
       "    }\n",
       "</style>\n",
       "<table border=\"1\" class=\"dataframe\">\n",
       "  <thead>\n",
       "    <tr style=\"text-align: right;\">\n",
       "      <th></th>\n",
       "      <th>user_id</th>\n",
       "      <th>rating</th>\n",
       "      <th>cellphone_id</th>\n",
       "      <th>brand</th>\n",
       "      <th>model</th>\n",
       "      <th>operating system</th>\n",
       "      <th>internal memory</th>\n",
       "      <th>RAM</th>\n",
       "      <th>performance</th>\n",
       "      <th>main camera</th>\n",
       "      <th>selfie camera</th>\n",
       "      <th>battery size</th>\n",
       "      <th>screen size</th>\n",
       "      <th>weight</th>\n",
       "      <th>price</th>\n",
       "      <th>release date</th>\n",
       "    </tr>\n",
       "  </thead>\n",
       "  <tbody>\n",
       "    <tr>\n",
       "      <th>0</th>\n",
       "      <td>8</td>\n",
       "      <td>5</td>\n",
       "      <td>0</td>\n",
       "      <td>Apple</td>\n",
       "      <td>iPhone SE (2022)</td>\n",
       "      <td>iOS</td>\n",
       "      <td>128</td>\n",
       "      <td>4</td>\n",
       "      <td>7.23</td>\n",
       "      <td>12</td>\n",
       "      <td>7</td>\n",
       "      <td>2018</td>\n",
       "      <td>4.7</td>\n",
       "      <td>144</td>\n",
       "      <td>429</td>\n",
       "      <td>18/03/2022</td>\n",
       "    </tr>\n",
       "    <tr>\n",
       "      <th>0</th>\n",
       "      <td>16</td>\n",
       "      <td>1</td>\n",
       "      <td>0</td>\n",
       "      <td>Apple</td>\n",
       "      <td>iPhone SE (2022)</td>\n",
       "      <td>iOS</td>\n",
       "      <td>128</td>\n",
       "      <td>4</td>\n",
       "      <td>7.23</td>\n",
       "      <td>12</td>\n",
       "      <td>7</td>\n",
       "      <td>2018</td>\n",
       "      <td>4.7</td>\n",
       "      <td>144</td>\n",
       "      <td>429</td>\n",
       "      <td>18/03/2022</td>\n",
       "    </tr>\n",
       "    <tr>\n",
       "      <th>0</th>\n",
       "      <td>30</td>\n",
       "      <td>4</td>\n",
       "      <td>0</td>\n",
       "      <td>Apple</td>\n",
       "      <td>iPhone SE (2022)</td>\n",
       "      <td>iOS</td>\n",
       "      <td>128</td>\n",
       "      <td>4</td>\n",
       "      <td>7.23</td>\n",
       "      <td>12</td>\n",
       "      <td>7</td>\n",
       "      <td>2018</td>\n",
       "      <td>4.7</td>\n",
       "      <td>144</td>\n",
       "      <td>429</td>\n",
       "      <td>18/03/2022</td>\n",
       "    </tr>\n",
       "    <tr>\n",
       "      <th>0</th>\n",
       "      <td>35</td>\n",
       "      <td>6</td>\n",
       "      <td>0</td>\n",
       "      <td>Apple</td>\n",
       "      <td>iPhone SE (2022)</td>\n",
       "      <td>iOS</td>\n",
       "      <td>128</td>\n",
       "      <td>4</td>\n",
       "      <td>7.23</td>\n",
       "      <td>12</td>\n",
       "      <td>7</td>\n",
       "      <td>2018</td>\n",
       "      <td>4.7</td>\n",
       "      <td>144</td>\n",
       "      <td>429</td>\n",
       "      <td>18/03/2022</td>\n",
       "    </tr>\n",
       "    <tr>\n",
       "      <th>0</th>\n",
       "      <td>52</td>\n",
       "      <td>5</td>\n",
       "      <td>0</td>\n",
       "      <td>Apple</td>\n",
       "      <td>iPhone SE (2022)</td>\n",
       "      <td>iOS</td>\n",
       "      <td>128</td>\n",
       "      <td>4</td>\n",
       "      <td>7.23</td>\n",
       "      <td>12</td>\n",
       "      <td>7</td>\n",
       "      <td>2018</td>\n",
       "      <td>4.7</td>\n",
       "      <td>144</td>\n",
       "      <td>429</td>\n",
       "      <td>18/03/2022</td>\n",
       "    </tr>\n",
       "  </tbody>\n",
       "</table>\n",
       "</div>"
      ],
      "text/plain": [
       "   user_id  rating  cellphone_id  brand             model operating system  \\\n",
       "0        8       5             0  Apple  iPhone SE (2022)              iOS   \n",
       "0       16       1             0  Apple  iPhone SE (2022)              iOS   \n",
       "0       30       4             0  Apple  iPhone SE (2022)              iOS   \n",
       "0       35       6             0  Apple  iPhone SE (2022)              iOS   \n",
       "0       52       5             0  Apple  iPhone SE (2022)              iOS   \n",
       "\n",
       "   internal memory  RAM  performance  main camera  selfie camera  \\\n",
       "0              128    4         7.23           12              7   \n",
       "0              128    4         7.23           12              7   \n",
       "0              128    4         7.23           12              7   \n",
       "0              128    4         7.23           12              7   \n",
       "0              128    4         7.23           12              7   \n",
       "\n",
       "   battery size  screen size  weight  price release date  \n",
       "0          2018          4.7     144    429   18/03/2022  \n",
       "0          2018          4.7     144    429   18/03/2022  \n",
       "0          2018          4.7     144    429   18/03/2022  \n",
       "0          2018          4.7     144    429   18/03/2022  \n",
       "0          2018          4.7     144    429   18/03/2022  "
      ]
     },
     "execution_count": 1077,
     "metadata": {},
     "output_type": "execute_result"
    }
   ],
   "source": [
    "ratings.head()"
   ]
  },
  {
   "cell_type": "code",
   "execution_count": 1078,
   "metadata": {},
   "outputs": [
    {
     "data": {
      "text/plain": [
       "(990, 16)"
      ]
     },
     "execution_count": 1078,
     "metadata": {},
     "output_type": "execute_result"
    }
   ],
   "source": [
    "# Now the column is changed to 16\n",
    "ratings.shape"
   ]
  },
  {
   "cell_type": "code",
   "execution_count": 1079,
   "metadata": {},
   "outputs": [],
   "source": [
    "ratings = ratings.set_index('user_id').join(users)"
   ]
  },
  {
   "cell_type": "code",
   "execution_count": 1080,
   "metadata": {},
   "outputs": [
    {
     "data": {
      "text/html": [
       "<div>\n",
       "<style scoped>\n",
       "    .dataframe tbody tr th:only-of-type {\n",
       "        vertical-align: middle;\n",
       "    }\n",
       "\n",
       "    .dataframe tbody tr th {\n",
       "        vertical-align: top;\n",
       "    }\n",
       "\n",
       "    .dataframe thead th {\n",
       "        text-align: right;\n",
       "    }\n",
       "</style>\n",
       "<table border=\"1\" class=\"dataframe\">\n",
       "  <thead>\n",
       "    <tr style=\"text-align: right;\">\n",
       "      <th></th>\n",
       "      <th>rating</th>\n",
       "      <th>cellphone_id</th>\n",
       "      <th>brand</th>\n",
       "      <th>model</th>\n",
       "      <th>operating system</th>\n",
       "      <th>internal memory</th>\n",
       "      <th>RAM</th>\n",
       "      <th>performance</th>\n",
       "      <th>main camera</th>\n",
       "      <th>selfie camera</th>\n",
       "      <th>battery size</th>\n",
       "      <th>screen size</th>\n",
       "      <th>weight</th>\n",
       "      <th>price</th>\n",
       "      <th>release date</th>\n",
       "      <th>user_id</th>\n",
       "      <th>age</th>\n",
       "      <th>gender</th>\n",
       "      <th>occupation</th>\n",
       "    </tr>\n",
       "  </thead>\n",
       "  <tbody>\n",
       "    <tr>\n",
       "      <th>0</th>\n",
       "      <td>10</td>\n",
       "      <td>3</td>\n",
       "      <td>Apple</td>\n",
       "      <td>iPhone 13 Pro</td>\n",
       "      <td>iOS</td>\n",
       "      <td>256</td>\n",
       "      <td>6</td>\n",
       "      <td>7.94</td>\n",
       "      <td>12</td>\n",
       "      <td>12</td>\n",
       "      <td>3065</td>\n",
       "      <td>6.1</td>\n",
       "      <td>204</td>\n",
       "      <td>999</td>\n",
       "      <td>24/09/2021</td>\n",
       "      <td>0.0</td>\n",
       "      <td>38.0</td>\n",
       "      <td>Female</td>\n",
       "      <td>Data analyst</td>\n",
       "    </tr>\n",
       "    <tr>\n",
       "      <th>0</th>\n",
       "      <td>3</td>\n",
       "      <td>5</td>\n",
       "      <td>Apple</td>\n",
       "      <td>iPhone XR</td>\n",
       "      <td>iOS</td>\n",
       "      <td>64</td>\n",
       "      <td>3</td>\n",
       "      <td>4.22</td>\n",
       "      <td>12</td>\n",
       "      <td>7</td>\n",
       "      <td>2942</td>\n",
       "      <td>6.1</td>\n",
       "      <td>194</td>\n",
       "      <td>236</td>\n",
       "      <td>26/10/2018</td>\n",
       "      <td>0.0</td>\n",
       "      <td>38.0</td>\n",
       "      <td>Female</td>\n",
       "      <td>Data analyst</td>\n",
       "    </tr>\n",
       "    <tr>\n",
       "      <th>0</th>\n",
       "      <td>2</td>\n",
       "      <td>8</td>\n",
       "      <td>Samsung</td>\n",
       "      <td>Galaxy A32</td>\n",
       "      <td>Android</td>\n",
       "      <td>64</td>\n",
       "      <td>4</td>\n",
       "      <td>2.20</td>\n",
       "      <td>48</td>\n",
       "      <td>13</td>\n",
       "      <td>5000</td>\n",
       "      <td>6.5</td>\n",
       "      <td>205</td>\n",
       "      <td>199</td>\n",
       "      <td>22/01/2021</td>\n",
       "      <td>0.0</td>\n",
       "      <td>38.0</td>\n",
       "      <td>Female</td>\n",
       "      <td>Data analyst</td>\n",
       "    </tr>\n",
       "    <tr>\n",
       "      <th>0</th>\n",
       "      <td>3</td>\n",
       "      <td>9</td>\n",
       "      <td>Samsung</td>\n",
       "      <td>Galaxy A53</td>\n",
       "      <td>Android</td>\n",
       "      <td>128</td>\n",
       "      <td>6</td>\n",
       "      <td>3.79</td>\n",
       "      <td>64</td>\n",
       "      <td>32</td>\n",
       "      <td>5000</td>\n",
       "      <td>6.5</td>\n",
       "      <td>189</td>\n",
       "      <td>312</td>\n",
       "      <td>24/03/2022</td>\n",
       "      <td>0.0</td>\n",
       "      <td>38.0</td>\n",
       "      <td>Female</td>\n",
       "      <td>Data analyst</td>\n",
       "    </tr>\n",
       "    <tr>\n",
       "      <th>0</th>\n",
       "      <td>9</td>\n",
       "      <td>10</td>\n",
       "      <td>Samsung</td>\n",
       "      <td>Galaxy S22</td>\n",
       "      <td>Android</td>\n",
       "      <td>128</td>\n",
       "      <td>8</td>\n",
       "      <td>8.81</td>\n",
       "      <td>50</td>\n",
       "      <td>10</td>\n",
       "      <td>3700</td>\n",
       "      <td>6.1</td>\n",
       "      <td>167</td>\n",
       "      <td>528</td>\n",
       "      <td>25/02/2022</td>\n",
       "      <td>0.0</td>\n",
       "      <td>38.0</td>\n",
       "      <td>Female</td>\n",
       "      <td>Data analyst</td>\n",
       "    </tr>\n",
       "  </tbody>\n",
       "</table>\n",
       "</div>"
      ],
      "text/plain": [
       "   rating  cellphone_id    brand          model operating system  \\\n",
       "0      10             3    Apple  iPhone 13 Pro              iOS   \n",
       "0       3             5    Apple      iPhone XR              iOS   \n",
       "0       2             8  Samsung     Galaxy A32          Android   \n",
       "0       3             9  Samsung     Galaxy A53          Android   \n",
       "0       9            10  Samsung     Galaxy S22          Android   \n",
       "\n",
       "   internal memory  RAM  performance  main camera  selfie camera  \\\n",
       "0              256    6         7.94           12             12   \n",
       "0               64    3         4.22           12              7   \n",
       "0               64    4         2.20           48             13   \n",
       "0              128    6         3.79           64             32   \n",
       "0              128    8         8.81           50             10   \n",
       "\n",
       "   battery size  screen size  weight  price release date  user_id   age  \\\n",
       "0          3065          6.1     204    999   24/09/2021      0.0  38.0   \n",
       "0          2942          6.1     194    236   26/10/2018      0.0  38.0   \n",
       "0          5000          6.5     205    199   22/01/2021      0.0  38.0   \n",
       "0          5000          6.5     189    312   24/03/2022      0.0  38.0   \n",
       "0          3700          6.1     167    528   25/02/2022      0.0  38.0   \n",
       "\n",
       "   gender    occupation  \n",
       "0  Female  Data analyst  \n",
       "0  Female  Data analyst  \n",
       "0  Female  Data analyst  \n",
       "0  Female  Data analyst  \n",
       "0  Female  Data analyst  "
      ]
     },
     "execution_count": 1080,
     "metadata": {},
     "output_type": "execute_result"
    }
   ],
   "source": [
    "ratings.head()"
   ]
  },
  {
   "cell_type": "code",
   "execution_count": 1081,
   "metadata": {},
   "outputs": [
    {
     "data": {
      "text/plain": [
       "(990, 19)"
      ]
     },
     "execution_count": 1081,
     "metadata": {},
     "output_type": "execute_result"
    }
   ],
   "source": [
    "## The columns is changed to 19 (added 3 columns from users dataframe)\n",
    "ratings.shape"
   ]
  },
  {
   "cell_type": "code",
   "execution_count": 1082,
   "metadata": {},
   "outputs": [],
   "source": [
    "from collections import Counter"
   ]
  },
  {
   "cell_type": "code",
   "execution_count": 1083,
   "metadata": {},
   "outputs": [
    {
     "data": {
      "text/plain": [
       "<bound method NDFrame.describe of      rating  cellphone_id     brand                 model operating system  \\\n",
       "0        10             3     Apple         iPhone 13 Pro              iOS   \n",
       "0         3             5     Apple             iPhone XR              iOS   \n",
       "0         2             8   Samsung            Galaxy A32          Android   \n",
       "0         3             9   Samsung            Galaxy A53          Android   \n",
       "0         9            10   Samsung            Galaxy S22          Android   \n",
       "..      ...           ...       ...                   ...              ...   \n",
       "258       6            24    Xiaomi         Redmi Note 11          Android   \n",
       "258       7            26    Xiaomi                12 Pro          Android   \n",
       "258       8            27    Xiaomi               Poco F4          Android   \n",
       "258       6            29  Motorola  Moto G Stylus (2022)          Android   \n",
       "258       5            31  Motorola           Moto G Pure          Android   \n",
       "\n",
       "     internal memory  RAM  performance  main camera  selfie camera  \\\n",
       "0                256    6         7.94           12             12   \n",
       "0                 64    3         4.22           12              7   \n",
       "0                 64    4         2.20           48             13   \n",
       "0                128    6         3.79           64             32   \n",
       "0                128    8         8.81           50             10   \n",
       "..               ...  ...          ...          ...            ...   \n",
       "258              128    4         2.44           50             13   \n",
       "258              128    8         9.85           50             32   \n",
       "258              128    8         6.98           64             20   \n",
       "258              128    6         2.30           50             16   \n",
       "258               32    3         1.02           13              5   \n",
       "\n",
       "     battery size  screen size  weight  price release date  user_id   age  \\\n",
       "0            3065          6.1     204    999   24/09/2021      0.0  38.0   \n",
       "0            2942          6.1     194    236   26/10/2018      0.0  38.0   \n",
       "0            5000          6.5     205    199   22/01/2021      0.0  38.0   \n",
       "0            5000          6.5     189    312   24/03/2022      0.0  38.0   \n",
       "0            3700          6.1     167    528   25/02/2022      0.0  38.0   \n",
       "..            ...          ...     ...    ...          ...      ...   ...   \n",
       "258          5000          6.4     179    174   09/02/2022      NaN   NaN   \n",
       "258          4600          6.7     204    618   31/12/2021      NaN   NaN   \n",
       "258          4500          6.6     195    428   27/07/2022      NaN   NaN   \n",
       "258          5000          6.8     215    500   27/04/2022      NaN   NaN   \n",
       "258          4000          6.5     188    129   14/10/2021      NaN   NaN   \n",
       "\n",
       "     gender    occupation  \n",
       "0    Female  Data analyst  \n",
       "0    Female  Data analyst  \n",
       "0    Female  Data analyst  \n",
       "0    Female  Data analyst  \n",
       "0    Female  Data analyst  \n",
       "..      ...           ...  \n",
       "258     NaN           NaN  \n",
       "258     NaN           NaN  \n",
       "258     NaN           NaN  \n",
       "258     NaN           NaN  \n",
       "258     NaN           NaN  \n",
       "\n",
       "[990 rows x 19 columns]>"
      ]
     },
     "execution_count": 1083,
     "metadata": {},
     "output_type": "execute_result"
    }
   ],
   "source": [
    "ratings.describe"
   ]
  },
  {
   "cell_type": "code",
   "execution_count": 1084,
   "metadata": {},
   "outputs": [
    {
     "data": {
      "text/plain": [
       "rating                int64\n",
       "cellphone_id          int64\n",
       "brand                object\n",
       "model                object\n",
       "operating system     object\n",
       "internal memory       int64\n",
       "RAM                   int64\n",
       "performance         float64\n",
       "main camera           int64\n",
       "selfie camera         int64\n",
       "battery size          int64\n",
       "screen size         float64\n",
       "weight                int64\n",
       "price                 int64\n",
       "release date         object\n",
       "user_id             float64\n",
       "age                 float64\n",
       "gender               object\n",
       "occupation           object\n",
       "dtype: object"
      ]
     },
     "execution_count": 1084,
     "metadata": {},
     "output_type": "execute_result"
    }
   ],
   "source": [
    "ratings.dtypes"
   ]
  },
  {
   "cell_type": "code",
   "execution_count": 1085,
   "metadata": {},
   "outputs": [
    {
     "data": {
      "text/plain": [
       "Counter({'Apple': 165,\n",
       "         'Samsung': 237,\n",
       "         'Google': 99,\n",
       "         'OnePlus': 112,\n",
       "         'Oppo': 30,\n",
       "         'Vivo': 24,\n",
       "         'Motorola': 132,\n",
       "         'Sony': 26,\n",
       "         'Xiaomi': 135,\n",
       "         'Asus': 30})"
      ]
     },
     "execution_count": 1085,
     "metadata": {},
     "output_type": "execute_result"
    }
   ],
   "source": [
    "Counter(ratings.brand)"
   ]
  },
  {
   "cell_type": "code",
   "execution_count": 1086,
   "metadata": {},
   "outputs": [
    {
     "data": {
      "text/plain": [
       "Counter({'iPhone 13 Pro': 29,\n",
       "         'iPhone XR': 31,\n",
       "         'Galaxy A32': 39,\n",
       "         'Galaxy A53': 29,\n",
       "         'Galaxy S22': 27,\n",
       "         'Pixel 6a': 31,\n",
       "         'Nord 2T': 31,\n",
       "         'Find X5 Pro': 30,\n",
       "         'X80 Pro': 24,\n",
       "         'Moto G Play (2021)': 41,\n",
       "         'iPhone 13 Pro Max': 34,\n",
       "         'Galaxy A13': 29,\n",
       "         'Pixel 6 \\xa0': 38,\n",
       "         'Nord N20': 31,\n",
       "         'Xperia Pro': 26,\n",
       "         'Moto G Pure': 31,\n",
       "         'Moto G Power (2022)': 35,\n",
       "         'iPhone 13 Mini': 24,\n",
       "         'Galaxy Z Flip 3': 32,\n",
       "         'Poco F4': 34,\n",
       "         'iPhone SE (2022)': 20,\n",
       "         'Galaxy S22 Plus': 22,\n",
       "         'Pixel 6 Pro\\xa0': 30,\n",
       "         '10 Pro': 30,\n",
       "         '10T': 20,\n",
       "         '11T Pro': 38,\n",
       "         'Moto G Stylus (2022)': 25,\n",
       "         'Zenfone 8': 30,\n",
       "         'Galaxy S22 Ultra': 32,\n",
       "         'Galaxy Z Fold 3': 27,\n",
       "         'Redmi Note 11': 35,\n",
       "         '12 Pro': 28,\n",
       "         'iPhone 13': 27})"
      ]
     },
     "execution_count": 1086,
     "metadata": {},
     "output_type": "execute_result"
    }
   ],
   "source": [
    "Counter(ratings.model)"
   ]
  },
  {
   "cell_type": "code",
   "execution_count": 1087,
   "metadata": {},
   "outputs": [
    {
     "data": {
      "text/plain": [
       "Counter({'Female': 140, 'Male': 180, nan: 670})"
      ]
     },
     "execution_count": 1087,
     "metadata": {},
     "output_type": "execute_result"
    }
   ],
   "source": [
    "Counter(ratings.gender)"
   ]
  },
  {
   "cell_type": "code",
   "execution_count": 1088,
   "metadata": {},
   "outputs": [],
   "source": [
    "### Separating the target value of prediction\n",
    "ratings_pred = ratings['cellphone_id']\n",
    "ratings = ratings.drop(['cellphone_id'], axis=1)"
   ]
  },
  {
   "cell_type": "code",
   "execution_count": 1089,
   "metadata": {},
   "outputs": [],
   "source": [
    "from sklearn.feature_extraction.text import CountVectorizer"
   ]
  },
  {
   "cell_type": "code",
   "execution_count": 1090,
   "metadata": {},
   "outputs": [],
   "source": [
    "vectorizer = CountVectorizer()"
   ]
  },
  {
   "cell_type": "code",
   "execution_count": 1091,
   "metadata": {},
   "outputs": [
    {
     "data": {
      "text/html": [
       "<div>\n",
       "<style scoped>\n",
       "    .dataframe tbody tr th:only-of-type {\n",
       "        vertical-align: middle;\n",
       "    }\n",
       "\n",
       "    .dataframe tbody tr th {\n",
       "        vertical-align: top;\n",
       "    }\n",
       "\n",
       "    .dataframe thead th {\n",
       "        text-align: right;\n",
       "    }\n",
       "</style>\n",
       "<table border=\"1\" class=\"dataframe\">\n",
       "  <thead>\n",
       "    <tr style=\"text-align: right;\">\n",
       "      <th></th>\n",
       "      <th>rating</th>\n",
       "      <th>brand</th>\n",
       "      <th>model</th>\n",
       "      <th>operating system</th>\n",
       "      <th>internal memory</th>\n",
       "      <th>RAM</th>\n",
       "      <th>performance</th>\n",
       "      <th>main camera</th>\n",
       "      <th>selfie camera</th>\n",
       "      <th>battery size</th>\n",
       "      <th>screen size</th>\n",
       "      <th>weight</th>\n",
       "      <th>price</th>\n",
       "      <th>release date</th>\n",
       "      <th>user_id</th>\n",
       "      <th>age</th>\n",
       "      <th>gender</th>\n",
       "      <th>occupation</th>\n",
       "    </tr>\n",
       "  </thead>\n",
       "  <tbody>\n",
       "    <tr>\n",
       "      <th>0</th>\n",
       "      <td>10</td>\n",
       "      <td>Apple</td>\n",
       "      <td>iPhone 13 Pro</td>\n",
       "      <td>iOS</td>\n",
       "      <td>256</td>\n",
       "      <td>6</td>\n",
       "      <td>7.94</td>\n",
       "      <td>12</td>\n",
       "      <td>12</td>\n",
       "      <td>3065</td>\n",
       "      <td>6.1</td>\n",
       "      <td>204</td>\n",
       "      <td>999</td>\n",
       "      <td>24/09/2021</td>\n",
       "      <td>0.0</td>\n",
       "      <td>38.0</td>\n",
       "      <td>Female</td>\n",
       "      <td>Data analyst</td>\n",
       "    </tr>\n",
       "    <tr>\n",
       "      <th>0</th>\n",
       "      <td>3</td>\n",
       "      <td>Apple</td>\n",
       "      <td>iPhone XR</td>\n",
       "      <td>iOS</td>\n",
       "      <td>64</td>\n",
       "      <td>3</td>\n",
       "      <td>4.22</td>\n",
       "      <td>12</td>\n",
       "      <td>7</td>\n",
       "      <td>2942</td>\n",
       "      <td>6.1</td>\n",
       "      <td>194</td>\n",
       "      <td>236</td>\n",
       "      <td>26/10/2018</td>\n",
       "      <td>0.0</td>\n",
       "      <td>38.0</td>\n",
       "      <td>Female</td>\n",
       "      <td>Data analyst</td>\n",
       "    </tr>\n",
       "    <tr>\n",
       "      <th>0</th>\n",
       "      <td>2</td>\n",
       "      <td>Samsung</td>\n",
       "      <td>Galaxy A32</td>\n",
       "      <td>Android</td>\n",
       "      <td>64</td>\n",
       "      <td>4</td>\n",
       "      <td>2.20</td>\n",
       "      <td>48</td>\n",
       "      <td>13</td>\n",
       "      <td>5000</td>\n",
       "      <td>6.5</td>\n",
       "      <td>205</td>\n",
       "      <td>199</td>\n",
       "      <td>22/01/2021</td>\n",
       "      <td>0.0</td>\n",
       "      <td>38.0</td>\n",
       "      <td>Female</td>\n",
       "      <td>Data analyst</td>\n",
       "    </tr>\n",
       "    <tr>\n",
       "      <th>0</th>\n",
       "      <td>3</td>\n",
       "      <td>Samsung</td>\n",
       "      <td>Galaxy A53</td>\n",
       "      <td>Android</td>\n",
       "      <td>128</td>\n",
       "      <td>6</td>\n",
       "      <td>3.79</td>\n",
       "      <td>64</td>\n",
       "      <td>32</td>\n",
       "      <td>5000</td>\n",
       "      <td>6.5</td>\n",
       "      <td>189</td>\n",
       "      <td>312</td>\n",
       "      <td>24/03/2022</td>\n",
       "      <td>0.0</td>\n",
       "      <td>38.0</td>\n",
       "      <td>Female</td>\n",
       "      <td>Data analyst</td>\n",
       "    </tr>\n",
       "    <tr>\n",
       "      <th>0</th>\n",
       "      <td>9</td>\n",
       "      <td>Samsung</td>\n",
       "      <td>Galaxy S22</td>\n",
       "      <td>Android</td>\n",
       "      <td>128</td>\n",
       "      <td>8</td>\n",
       "      <td>8.81</td>\n",
       "      <td>50</td>\n",
       "      <td>10</td>\n",
       "      <td>3700</td>\n",
       "      <td>6.1</td>\n",
       "      <td>167</td>\n",
       "      <td>528</td>\n",
       "      <td>25/02/2022</td>\n",
       "      <td>0.0</td>\n",
       "      <td>38.0</td>\n",
       "      <td>Female</td>\n",
       "      <td>Data analyst</td>\n",
       "    </tr>\n",
       "  </tbody>\n",
       "</table>\n",
       "</div>"
      ],
      "text/plain": [
       "   rating    brand          model operating system  internal memory  RAM  \\\n",
       "0      10    Apple  iPhone 13 Pro              iOS              256    6   \n",
       "0       3    Apple      iPhone XR              iOS               64    3   \n",
       "0       2  Samsung     Galaxy A32          Android               64    4   \n",
       "0       3  Samsung     Galaxy A53          Android              128    6   \n",
       "0       9  Samsung     Galaxy S22          Android              128    8   \n",
       "\n",
       "   performance  main camera  selfie camera  battery size  screen size  weight  \\\n",
       "0         7.94           12             12          3065          6.1     204   \n",
       "0         4.22           12              7          2942          6.1     194   \n",
       "0         2.20           48             13          5000          6.5     205   \n",
       "0         3.79           64             32          5000          6.5     189   \n",
       "0         8.81           50             10          3700          6.1     167   \n",
       "\n",
       "   price release date  user_id   age  gender    occupation  \n",
       "0    999   24/09/2021      0.0  38.0  Female  Data analyst  \n",
       "0    236   26/10/2018      0.0  38.0  Female  Data analyst  \n",
       "0    199   22/01/2021      0.0  38.0  Female  Data analyst  \n",
       "0    312   24/03/2022      0.0  38.0  Female  Data analyst  \n",
       "0    528   25/02/2022      0.0  38.0  Female  Data analyst  "
      ]
     },
     "execution_count": 1091,
     "metadata": {},
     "output_type": "execute_result"
    }
   ],
   "source": [
    "ratings.head()"
   ]
  },
  {
   "cell_type": "code",
   "execution_count": 1092,
   "metadata": {},
   "outputs": [
    {
     "data": {
      "text/plain": [
       "rating                0\n",
       "brand                 0\n",
       "model                 0\n",
       "operating system      0\n",
       "internal memory       0\n",
       "RAM                   0\n",
       "performance           0\n",
       "main camera           0\n",
       "selfie camera         0\n",
       "battery size          0\n",
       "screen size           0\n",
       "weight                0\n",
       "price                 0\n",
       "release date          0\n",
       "user_id             670\n",
       "age                 670\n",
       "gender              670\n",
       "occupation          670\n",
       "dtype: int64"
      ]
     },
     "execution_count": 1092,
     "metadata": {},
     "output_type": "execute_result"
    }
   ],
   "source": [
    "ratings.isnull().sum()"
   ]
  },
  {
   "cell_type": "code",
   "execution_count": 1093,
   "metadata": {},
   "outputs": [],
   "source": [
    "## Need to check whether one row only contains one brand or not\n",
    "\n",
    "universe = vectorizer.fit_transform(ratings['brand'].values)"
   ]
  },
  {
   "cell_type": "code",
   "execution_count": 1094,
   "metadata": {},
   "outputs": [
    {
     "data": {
      "text/plain": [
       "array([[1, 0, 0, ..., 0, 0, 0],\n",
       "       [1, 0, 0, ..., 0, 0, 0],\n",
       "       [0, 0, 0, ..., 0, 0, 0],\n",
       "       ...,\n",
       "       [0, 0, 0, ..., 0, 0, 1],\n",
       "       [0, 0, 0, ..., 0, 0, 0],\n",
       "       [0, 0, 0, ..., 0, 0, 0]])"
      ]
     },
     "execution_count": 1094,
     "metadata": {},
     "output_type": "execute_result"
    }
   ],
   "source": [
    "universe.toarray()"
   ]
  },
  {
   "cell_type": "code",
   "execution_count": 1095,
   "metadata": {},
   "outputs": [
    {
     "data": {
      "text/plain": [
       "Index(['rating', 'brand', 'model', 'operating system', 'internal memory',\n",
       "       'RAM', 'performance', 'main camera', 'selfie camera', 'battery size',\n",
       "       'screen size', 'weight', 'price', 'release date', 'user_id', 'age',\n",
       "       'gender', 'occupation'],\n",
       "      dtype='object')"
      ]
     },
     "execution_count": 1095,
     "metadata": {},
     "output_type": "execute_result"
    }
   ],
   "source": [
    "ratings.columns"
   ]
  },
  {
   "cell_type": "code",
   "execution_count": 1096,
   "metadata": {},
   "outputs": [],
   "source": [
    "## Dropping the identifier atrrbutes and unrelated ones\n",
    "\n",
    "ratings = ratings.drop(['release date', 'user_id', 'brand', 'model', 'internal memory', 'RAM', 'performance', 'main camera', 'selfie camera', 'battery size', 'screen size', 'weight'],axis=1)"
   ]
  },
  {
   "cell_type": "code",
   "execution_count": 1097,
   "metadata": {},
   "outputs": [],
   "source": [
    "###Dropping the matched data column\n",
    "\n",
    "data = data.drop(['operating system', 'price'], axis = 1)"
   ]
  },
  {
   "cell_type": "code",
   "execution_count": 1098,
   "metadata": {},
   "outputs": [
    {
     "data": {
      "text/html": [
       "<div>\n",
       "<style scoped>\n",
       "    .dataframe tbody tr th:only-of-type {\n",
       "        vertical-align: middle;\n",
       "    }\n",
       "\n",
       "    .dataframe tbody tr th {\n",
       "        vertical-align: top;\n",
       "    }\n",
       "\n",
       "    .dataframe thead th {\n",
       "        text-align: right;\n",
       "    }\n",
       "</style>\n",
       "<table border=\"1\" class=\"dataframe\">\n",
       "  <thead>\n",
       "    <tr style=\"text-align: right;\">\n",
       "      <th></th>\n",
       "      <th>rating</th>\n",
       "      <th>operating system</th>\n",
       "      <th>price</th>\n",
       "      <th>age</th>\n",
       "      <th>gender</th>\n",
       "      <th>occupation</th>\n",
       "    </tr>\n",
       "  </thead>\n",
       "  <tbody>\n",
       "    <tr>\n",
       "      <th>0</th>\n",
       "      <td>10</td>\n",
       "      <td>iOS</td>\n",
       "      <td>999</td>\n",
       "      <td>38.0</td>\n",
       "      <td>Female</td>\n",
       "      <td>Data analyst</td>\n",
       "    </tr>\n",
       "    <tr>\n",
       "      <th>0</th>\n",
       "      <td>3</td>\n",
       "      <td>iOS</td>\n",
       "      <td>236</td>\n",
       "      <td>38.0</td>\n",
       "      <td>Female</td>\n",
       "      <td>Data analyst</td>\n",
       "    </tr>\n",
       "    <tr>\n",
       "      <th>0</th>\n",
       "      <td>2</td>\n",
       "      <td>Android</td>\n",
       "      <td>199</td>\n",
       "      <td>38.0</td>\n",
       "      <td>Female</td>\n",
       "      <td>Data analyst</td>\n",
       "    </tr>\n",
       "    <tr>\n",
       "      <th>0</th>\n",
       "      <td>3</td>\n",
       "      <td>Android</td>\n",
       "      <td>312</td>\n",
       "      <td>38.0</td>\n",
       "      <td>Female</td>\n",
       "      <td>Data analyst</td>\n",
       "    </tr>\n",
       "    <tr>\n",
       "      <th>0</th>\n",
       "      <td>9</td>\n",
       "      <td>Android</td>\n",
       "      <td>528</td>\n",
       "      <td>38.0</td>\n",
       "      <td>Female</td>\n",
       "      <td>Data analyst</td>\n",
       "    </tr>\n",
       "  </tbody>\n",
       "</table>\n",
       "</div>"
      ],
      "text/plain": [
       "   rating operating system  price   age  gender    occupation\n",
       "0      10              iOS    999  38.0  Female  Data analyst\n",
       "0       3              iOS    236  38.0  Female  Data analyst\n",
       "0       2          Android    199  38.0  Female  Data analyst\n",
       "0       3          Android    312  38.0  Female  Data analyst\n",
       "0       9          Android    528  38.0  Female  Data analyst"
      ]
     },
     "execution_count": 1098,
     "metadata": {},
     "output_type": "execute_result"
    }
   ],
   "source": [
    "ratings.head()"
   ]
  },
  {
   "cell_type": "code",
   "execution_count": 1099,
   "metadata": {},
   "outputs": [],
   "source": [
    "def gender_null(gender_clear):\n",
    "    try:\n",
    "        if str(gender_clear).lower() == 'female' :\n",
    "            return 0\n",
    "        elif str(gender_clear).lower() == 'male' :\n",
    "            return 1\n",
    "    except:\n",
    "        return 2"
   ]
  },
  {
   "cell_type": "code",
   "execution_count": 1100,
   "metadata": {},
   "outputs": [],
   "source": [
    "ratings['gender'] = ratings['gender'].apply(gender_null)"
   ]
  },
  {
   "cell_type": "code",
   "execution_count": 1101,
   "metadata": {},
   "outputs": [],
   "source": [
    "ratings['gender'] = ratings['gender'].fillna(2)"
   ]
  },
  {
   "cell_type": "code",
   "execution_count": 1102,
   "metadata": {},
   "outputs": [
    {
     "data": {
      "text/plain": [
       "Counter({0.0: 140, 1.0: 180, 2.0: 670})"
      ]
     },
     "execution_count": 1102,
     "metadata": {},
     "output_type": "execute_result"
    }
   ],
   "source": [
    "Counter(ratings['gender'])"
   ]
  },
  {
   "cell_type": "code",
   "execution_count": 1103,
   "metadata": {},
   "outputs": [],
   "source": [
    "ratings['occupation'] = ratings['occupation'].fillna('jobless')"
   ]
  },
  {
   "cell_type": "code",
   "execution_count": 1104,
   "metadata": {},
   "outputs": [
    {
     "data": {
      "text/plain": [
       "rating                int64\n",
       "operating system     object\n",
       "price                 int64\n",
       "age                 float64\n",
       "gender              float64\n",
       "occupation           object\n",
       "dtype: object"
      ]
     },
     "execution_count": 1104,
     "metadata": {},
     "output_type": "execute_result"
    }
   ],
   "source": [
    "ratings.dtypes"
   ]
  },
  {
   "cell_type": "code",
   "execution_count": 1105,
   "metadata": {},
   "outputs": [],
   "source": [
    "## Changing the object type to integer\n",
    "### There are 3 attributes that happened to be object, which are brand, model, operating system, and occupation\n",
    "\n",
    "object_data = ['operating system', 'occupation']"
   ]
  },
  {
   "cell_type": "code",
   "execution_count": 1106,
   "metadata": {},
   "outputs": [],
   "source": [
    "\n",
    "all_objects = []\n",
    "for rows in ratings[object_data].fillna(\" \").values.tolist():\n",
    "    for phrases in rows:\n",
    "        all_objects.append(phrases)"
   ]
  },
  {
   "cell_type": "code",
   "execution_count": 1107,
   "metadata": {},
   "outputs": [],
   "source": [
    "all_objects = list(set(all_objects))"
   ]
  },
  {
   "cell_type": "code",
   "execution_count": 1108,
   "metadata": {},
   "outputs": [
    {
     "data": {
      "text/plain": [
       "30"
      ]
     },
     "execution_count": 1108,
     "metadata": {},
     "output_type": "execute_result"
    }
   ],
   "source": [
    "## Calculating how many null values in object data type\n",
    "len(all_objects)"
   ]
  },
  {
   "cell_type": "code",
   "execution_count": 1109,
   "metadata": {},
   "outputs": [
    {
     "data": {
      "text/plain": [
       "rating                0\n",
       "operating system      0\n",
       "price                 0\n",
       "age                 670\n",
       "gender                0\n",
       "occupation            0\n",
       "dtype: int64"
      ]
     },
     "execution_count": 1109,
     "metadata": {},
     "output_type": "execute_result"
    }
   ],
   "source": [
    "ratings.isnull().sum()"
   ]
  },
  {
   "cell_type": "code",
   "execution_count": 1110,
   "metadata": {},
   "outputs": [],
   "source": [
    "### Seting the null age with mean age column\n",
    "\n",
    "ratings['age'] = ratings['age'].fillna(ratings['age'].mean())"
   ]
  },
  {
   "cell_type": "code",
   "execution_count": 1111,
   "metadata": {},
   "outputs": [
    {
     "data": {
      "text/html": [
       "<div>\n",
       "<style scoped>\n",
       "    .dataframe tbody tr th:only-of-type {\n",
       "        vertical-align: middle;\n",
       "    }\n",
       "\n",
       "    .dataframe tbody tr th {\n",
       "        vertical-align: top;\n",
       "    }\n",
       "\n",
       "    .dataframe thead th {\n",
       "        text-align: right;\n",
       "    }\n",
       "</style>\n",
       "<table border=\"1\" class=\"dataframe\">\n",
       "  <thead>\n",
       "    <tr style=\"text-align: right;\">\n",
       "      <th></th>\n",
       "      <th>rating</th>\n",
       "      <th>operating system</th>\n",
       "      <th>price</th>\n",
       "      <th>age</th>\n",
       "      <th>gender</th>\n",
       "      <th>occupation</th>\n",
       "    </tr>\n",
       "  </thead>\n",
       "  <tbody>\n",
       "    <tr>\n",
       "      <th>0</th>\n",
       "      <td>10</td>\n",
       "      <td>iOS</td>\n",
       "      <td>999</td>\n",
       "      <td>38.0</td>\n",
       "      <td>0.0</td>\n",
       "      <td>Data analyst</td>\n",
       "    </tr>\n",
       "    <tr>\n",
       "      <th>0</th>\n",
       "      <td>3</td>\n",
       "      <td>iOS</td>\n",
       "      <td>236</td>\n",
       "      <td>38.0</td>\n",
       "      <td>0.0</td>\n",
       "      <td>Data analyst</td>\n",
       "    </tr>\n",
       "    <tr>\n",
       "      <th>0</th>\n",
       "      <td>2</td>\n",
       "      <td>Android</td>\n",
       "      <td>199</td>\n",
       "      <td>38.0</td>\n",
       "      <td>0.0</td>\n",
       "      <td>Data analyst</td>\n",
       "    </tr>\n",
       "    <tr>\n",
       "      <th>0</th>\n",
       "      <td>3</td>\n",
       "      <td>Android</td>\n",
       "      <td>312</td>\n",
       "      <td>38.0</td>\n",
       "      <td>0.0</td>\n",
       "      <td>Data analyst</td>\n",
       "    </tr>\n",
       "    <tr>\n",
       "      <th>0</th>\n",
       "      <td>9</td>\n",
       "      <td>Android</td>\n",
       "      <td>528</td>\n",
       "      <td>38.0</td>\n",
       "      <td>0.0</td>\n",
       "      <td>Data analyst</td>\n",
       "    </tr>\n",
       "  </tbody>\n",
       "</table>\n",
       "</div>"
      ],
      "text/plain": [
       "   rating operating system  price   age  gender    occupation\n",
       "0      10              iOS    999  38.0     0.0  Data analyst\n",
       "0       3              iOS    236  38.0     0.0  Data analyst\n",
       "0       2          Android    199  38.0     0.0  Data analyst\n",
       "0       3          Android    312  38.0     0.0  Data analyst\n",
       "0       9          Android    528  38.0     0.0  Data analyst"
      ]
     },
     "execution_count": 1111,
     "metadata": {},
     "output_type": "execute_result"
    }
   ],
   "source": [
    "ratings.head()"
   ]
  },
  {
   "cell_type": "code",
   "execution_count": 1112,
   "metadata": {},
   "outputs": [
    {
     "data": {
      "text/plain": [
       "(990, 6)"
      ]
     },
     "execution_count": 1112,
     "metadata": {},
     "output_type": "execute_result"
    }
   ],
   "source": [
    "ratings.shape"
   ]
  },
  {
   "cell_type": "code",
   "execution_count": 1113,
   "metadata": {},
   "outputs": [],
   "source": [
    "def alphabet_to_number(x):\n",
    "    try:\n",
    "        return all_objects.index(x)\n",
    "    except:\n",
    "        return 404 # error not found"
   ]
  },
  {
   "cell_type": "code",
   "execution_count": 1114,
   "metadata": {},
   "outputs": [],
   "source": [
    "ratings['occupation'] = ratings['occupation'].apply(alphabet_to_number)"
   ]
  },
  {
   "cell_type": "code",
   "execution_count": 1115,
   "metadata": {},
   "outputs": [
    {
     "data": {
      "text/html": [
       "<div>\n",
       "<style scoped>\n",
       "    .dataframe tbody tr th:only-of-type {\n",
       "        vertical-align: middle;\n",
       "    }\n",
       "\n",
       "    .dataframe tbody tr th {\n",
       "        vertical-align: top;\n",
       "    }\n",
       "\n",
       "    .dataframe thead th {\n",
       "        text-align: right;\n",
       "    }\n",
       "</style>\n",
       "<table border=\"1\" class=\"dataframe\">\n",
       "  <thead>\n",
       "    <tr style=\"text-align: right;\">\n",
       "      <th></th>\n",
       "      <th>rating</th>\n",
       "      <th>operating system</th>\n",
       "      <th>price</th>\n",
       "      <th>age</th>\n",
       "      <th>gender</th>\n",
       "      <th>occupation</th>\n",
       "    </tr>\n",
       "  </thead>\n",
       "  <tbody>\n",
       "    <tr>\n",
       "      <th>0</th>\n",
       "      <td>10</td>\n",
       "      <td>iOS</td>\n",
       "      <td>999</td>\n",
       "      <td>38.0</td>\n",
       "      <td>0.0</td>\n",
       "      <td>12</td>\n",
       "    </tr>\n",
       "    <tr>\n",
       "      <th>0</th>\n",
       "      <td>3</td>\n",
       "      <td>iOS</td>\n",
       "      <td>236</td>\n",
       "      <td>38.0</td>\n",
       "      <td>0.0</td>\n",
       "      <td>12</td>\n",
       "    </tr>\n",
       "    <tr>\n",
       "      <th>0</th>\n",
       "      <td>2</td>\n",
       "      <td>Android</td>\n",
       "      <td>199</td>\n",
       "      <td>38.0</td>\n",
       "      <td>0.0</td>\n",
       "      <td>12</td>\n",
       "    </tr>\n",
       "    <tr>\n",
       "      <th>0</th>\n",
       "      <td>3</td>\n",
       "      <td>Android</td>\n",
       "      <td>312</td>\n",
       "      <td>38.0</td>\n",
       "      <td>0.0</td>\n",
       "      <td>12</td>\n",
       "    </tr>\n",
       "    <tr>\n",
       "      <th>0</th>\n",
       "      <td>9</td>\n",
       "      <td>Android</td>\n",
       "      <td>528</td>\n",
       "      <td>38.0</td>\n",
       "      <td>0.0</td>\n",
       "      <td>12</td>\n",
       "    </tr>\n",
       "  </tbody>\n",
       "</table>\n",
       "</div>"
      ],
      "text/plain": [
       "   rating operating system  price   age  gender  occupation\n",
       "0      10              iOS    999  38.0     0.0          12\n",
       "0       3              iOS    236  38.0     0.0          12\n",
       "0       2          Android    199  38.0     0.0          12\n",
       "0       3          Android    312  38.0     0.0          12\n",
       "0       9          Android    528  38.0     0.0          12"
      ]
     },
     "execution_count": 1115,
     "metadata": {},
     "output_type": "execute_result"
    }
   ],
   "source": [
    "ratings.head()"
   ]
  },
  {
   "cell_type": "code",
   "execution_count": 1116,
   "metadata": {},
   "outputs": [],
   "source": [
    "ratings['operating system'] = ratings['operating system'].apply(alphabet_to_number)"
   ]
  },
  {
   "cell_type": "code",
   "execution_count": 1117,
   "metadata": {},
   "outputs": [
    {
     "data": {
      "text/plain": [
       "rating                int64\n",
       "operating system      int64\n",
       "price                 int64\n",
       "age                 float64\n",
       "gender              float64\n",
       "occupation            int64\n",
       "dtype: object"
      ]
     },
     "execution_count": 1117,
     "metadata": {},
     "output_type": "execute_result"
    }
   ],
   "source": [
    "ratings.dtypes"
   ]
  },
  {
   "cell_type": "code",
   "execution_count": 1118,
   "metadata": {},
   "outputs": [
    {
     "data": {
      "text/html": [
       "<div>\n",
       "<style scoped>\n",
       "    .dataframe tbody tr th:only-of-type {\n",
       "        vertical-align: middle;\n",
       "    }\n",
       "\n",
       "    .dataframe tbody tr th {\n",
       "        vertical-align: top;\n",
       "    }\n",
       "\n",
       "    .dataframe thead th {\n",
       "        text-align: right;\n",
       "    }\n",
       "</style>\n",
       "<table border=\"1\" class=\"dataframe\">\n",
       "  <thead>\n",
       "    <tr style=\"text-align: right;\">\n",
       "      <th></th>\n",
       "      <th>rating</th>\n",
       "      <th>operating system</th>\n",
       "      <th>price</th>\n",
       "      <th>age</th>\n",
       "      <th>gender</th>\n",
       "      <th>occupation</th>\n",
       "    </tr>\n",
       "  </thead>\n",
       "  <tbody>\n",
       "    <tr>\n",
       "      <th>0</th>\n",
       "      <td>10</td>\n",
       "      <td>8</td>\n",
       "      <td>999</td>\n",
       "      <td>38.0</td>\n",
       "      <td>0.0</td>\n",
       "      <td>12</td>\n",
       "    </tr>\n",
       "    <tr>\n",
       "      <th>0</th>\n",
       "      <td>3</td>\n",
       "      <td>8</td>\n",
       "      <td>236</td>\n",
       "      <td>38.0</td>\n",
       "      <td>0.0</td>\n",
       "      <td>12</td>\n",
       "    </tr>\n",
       "    <tr>\n",
       "      <th>0</th>\n",
       "      <td>2</td>\n",
       "      <td>29</td>\n",
       "      <td>199</td>\n",
       "      <td>38.0</td>\n",
       "      <td>0.0</td>\n",
       "      <td>12</td>\n",
       "    </tr>\n",
       "    <tr>\n",
       "      <th>0</th>\n",
       "      <td>3</td>\n",
       "      <td>29</td>\n",
       "      <td>312</td>\n",
       "      <td>38.0</td>\n",
       "      <td>0.0</td>\n",
       "      <td>12</td>\n",
       "    </tr>\n",
       "    <tr>\n",
       "      <th>0</th>\n",
       "      <td>9</td>\n",
       "      <td>29</td>\n",
       "      <td>528</td>\n",
       "      <td>38.0</td>\n",
       "      <td>0.0</td>\n",
       "      <td>12</td>\n",
       "    </tr>\n",
       "  </tbody>\n",
       "</table>\n",
       "</div>"
      ],
      "text/plain": [
       "   rating  operating system  price   age  gender  occupation\n",
       "0      10                 8    999  38.0     0.0          12\n",
       "0       3                 8    236  38.0     0.0          12\n",
       "0       2                29    199  38.0     0.0          12\n",
       "0       3                29    312  38.0     0.0          12\n",
       "0       9                29    528  38.0     0.0          12"
      ]
     },
     "execution_count": 1118,
     "metadata": {},
     "output_type": "execute_result"
    }
   ],
   "source": [
    "ratings.head()"
   ]
  },
  {
   "cell_type": "code",
   "execution_count": 1119,
   "metadata": {},
   "outputs": [],
   "source": [
    "ratings = ratings.astype(np.float32)"
   ]
  },
  {
   "cell_type": "code",
   "execution_count": 1120,
   "metadata": {},
   "outputs": [
    {
     "data": {
      "text/plain": [
       "rating              float32\n",
       "operating system    float32\n",
       "price               float32\n",
       "age                 float32\n",
       "gender              float32\n",
       "occupation          float32\n",
       "dtype: object"
      ]
     },
     "execution_count": 1120,
     "metadata": {},
     "output_type": "execute_result"
    }
   ],
   "source": [
    "ratings.dtypes"
   ]
  },
  {
   "cell_type": "code",
   "execution_count": 1121,
   "metadata": {},
   "outputs": [],
   "source": [
    "import seaborn as sns\n",
    "import matplotlib.pyplot as plt"
   ]
  },
  {
   "cell_type": "code",
   "execution_count": 1122,
   "metadata": {},
   "outputs": [
    {
     "data": {
      "text/plain": [
       "<AxesSubplot:>"
      ]
     },
     "execution_count": 1122,
     "metadata": {},
     "output_type": "execute_result"
    },
    {
     "data": {
      "image/png": "[encoded data removed]",
      "text/plain": [
       "<Figure size 1440x1080 with 2 Axes>"
      ]
     },
     "metadata": {
      "needs_background": "light"
     },
     "output_type": "display_data"
    }
   ],
   "source": [
    "plt.figure(figsize=(20,15))\n",
    "sns.heatmap(ratings.corr(), annot=True)"
   ]
  },
  {
   "cell_type": "code",
   "execution_count": 1123,
   "metadata": {},
   "outputs": [
    {
     "data": {
      "text/plain": [
       "<seaborn.matrix.ClusterGrid at 0x7fd8eec9c430>"
      ]
     },
     "execution_count": 1123,
     "metadata": {},
     "output_type": "execute_result"
    },
    {
     "data": {
      "image/png": "[encoded data removed]",
      "text/plain": [
       "<Figure size 720x720 with 4 Axes>"
      ]
     },
     "metadata": {
      "needs_background": "light"
     },
     "output_type": "display_data"
    }
   ],
   "source": [
    "sns.clustermap(ratings)"
   ]
  },
  {
   "cell_type": "code",
   "execution_count": 1124,
   "metadata": {},
   "outputs": [],
   "source": [
    "## Splitting the data into test and training data\n",
    "from sklearn.model_selection import train_test_split\n",
    "X_train, X_test, y_train, y_test = train_test_split(ratings, ratings_pred, test_size=0.33, random_state=42)"
   ]
  },
  {
   "cell_type": "code",
   "execution_count": 1125,
   "metadata": {},
   "outputs": [
    {
     "name": "stdout",
     "output_type": "stream",
     "text": [
      "Model accuracy score with default hyperparameters: 0.2049\n",
      "Run Time --- 0.17882108688354492 seconds ---\n"
     ]
    }
   ],
   "source": [
    "\n",
    "#import svm from sklearn\n",
    "from sklearn.svm import SVC\n",
    "#import metrics to measure accuracy\n",
    "from sklearn.metrics import accuracy_score\n",
    "##import time to count processing speed\n",
    "import time\n",
    "\n",
    "svc= SVC()\n",
    "\n",
    "#fit training data into classifier\n",
    "svc.fit(X_train, y_train)\n",
    "start_time = time.time()\n",
    "#make prediction on test set\n",
    "y_pred = svc.predict(X_test)\n",
    "\n",
    "# compute and print accuracy score\n",
    "print('Model accuracy score with default hyperparameters: {0:0.4f}'. format(accuracy_score(y_test, y_pred)))\n",
    "print(\"Run Time --- %s seconds ---\" % (time.time() - start_time))"
   ]
  },
  {
   "cell_type": "code",
   "execution_count": 1126,
   "metadata": {},
   "outputs": [
    {
     "name": "stdout",
     "output_type": "stream",
     "text": [
      "Model accuracy score with rbf kernel and C=100.0 : 0.7890\n"
     ]
    }
   ],
   "source": [
    "#Run SVM with rbf kernel and C=100\n",
    "\n",
    "svc=SVC(C=100.0) \n",
    "\n",
    "\n",
    "# fit classifier to training set\n",
    "svc.fit(X_train,y_train)\n",
    "\n",
    "\n",
    "# make predictions on test set\n",
    "y_pred=svc.predict(X_test)\n",
    "\n",
    "\n",
    "# compute and print accuracy score\n",
    "print('Model accuracy score with rbf kernel and C=100.0 : {0:0.4f}'. format(accuracy_score(y_test, y_pred)))"
   ]
  },
  {
   "cell_type": "code",
   "execution_count": 1127,
   "metadata": {},
   "outputs": [
    {
     "name": "stdout",
     "output_type": "stream",
     "text": [
      "Model accuracy score with rbf kernel and C=1000.0 : 0.9021\n"
     ]
    }
   ],
   "source": [
    "#Run SVM with rbf kernel and C=1000\n",
    "\n",
    "# instantiate classifier with rbf kernel and C=1000\n",
    "svc=SVC(C=1000.0) \n",
    "\n",
    "\n",
    "# fit classifier to training set\n",
    "svc.fit(X_train,y_train)\n",
    "\n",
    "\n",
    "# make predictions on test set\n",
    "y_pred=svc.predict(X_test)\n",
    "\n",
    "\n",
    "# compute and print accuracy score\n",
    "print('Model accuracy score with rbf kernel and C=1000.0 : {0:0.4f}'. format(accuracy_score(y_test, y_pred)))"
   ]
  },
  {
   "cell_type": "code",
   "execution_count": 1128,
   "metadata": {},
   "outputs": [
    {
     "name": "stdout",
     "output_type": "stream",
     "text": [
      "Model accuracy score with linear kernel and C=1.0 : 0.9419\n"
     ]
    }
   ],
   "source": [
    "#Run SVM with linear kernel and C=1\n",
    "\n",
    "# instantiate classifier with linear kernel and C=1.0\n",
    "\n",
    "# import metrics to compute accuracy\n",
    "from sklearn.metrics import accuracy_score\n",
    "linear_svc=SVC(kernel='linear', C=1.0) \n",
    "\n",
    "\n",
    "# fit classifier to training set\n",
    "linear_svc.fit(X_train,y_train)\n",
    "\n",
    "\n",
    "# make predictions on test set\n",
    "y_pred_test=linear_svc.predict(X_test)\n",
    "\n",
    "\n",
    "# compute and print accuracy score\n",
    "print('Model accuracy score with linear kernel and C=1.0 : {0:0.4f}'. format(accuracy_score(y_test, y_pred_test)))"
   ]
  },
  {
   "cell_type": "code",
   "execution_count": 1129,
   "metadata": {},
   "outputs": [
    {
     "name": "stdout",
     "output_type": "stream",
     "text": [
      "Model accuracy score with linear kernel and C=100.0 : 0.9388\n"
     ]
    }
   ],
   "source": [
    "#Run SVM with linear kernel and C=100\n",
    "# instantiate classifier with linear kernel and C=100.0\n",
    "linear_svc100=SVC(kernel='linear', C=100.0) \n",
    "\n",
    "\n",
    "# fit classifier to training set\n",
    "linear_svc100.fit(X_train, y_train)\n",
    "\n",
    "\n",
    "# make predictions on test set\n",
    "y_pred=linear_svc100.predict(X_test)\n",
    "\n",
    "\n",
    "# compute and print accuracy score\n",
    "print('Model accuracy score with linear kernel and C=100.0 : {0:0.4f}'. format(accuracy_score(y_test, y_pred)))"
   ]
  },
  {
   "cell_type": "code",
   "execution_count": 1130,
   "metadata": {},
   "outputs": [
    {
     "name": "stdout",
     "output_type": "stream",
     "text": [
      "Model accuracy score with linear kernel and C=1000.0 : 0.9480\n"
     ]
    }
   ],
   "source": [
    "#Run SVM with linear kernel and C=1000\n",
    "\n",
    "# instantiate classifier with linear kernel and C=1000.0\n",
    "linear_svc1000=SVC(kernel='linear', C=1000.0) \n",
    "\n",
    "\n",
    "# fit classifier to training set\n",
    "linear_svc1000.fit(X_train, y_train)\n",
    "\n",
    "\n",
    "# make predictions on test set\n",
    "y_pred=linear_svc1000.predict(X_test)\n",
    "\n",
    "\n",
    "# compute and print accuracy score\n",
    "print('Model accuracy score with linear kernel and C=1000.0 : {0:0.4f}'. format(accuracy_score(y_test, y_pred)))"
   ]
  },
  {
   "cell_type": "code",
   "execution_count": 1131,
   "metadata": {},
   "outputs": [],
   "source": [
    "pickle.dump(linear_svc1000, open(\"svm.pkl\", \"wb\"))"
   ]
  },
  {
   "cell_type": "code",
   "execution_count": 1132,
   "metadata": {},
   "outputs": [
    {
     "name": "stdout",
     "output_type": "stream",
     "text": [
      "Model accuracy score with polynomial kernel and C=1.0 : 0.2844\n"
     ]
    }
   ],
   "source": [
    "#Run SVM with polynomial kernel and C=1.0\n",
    "# instantiate classifier with polynomial kernel and C=1.0\n",
    "poly_svc=SVC(kernel='poly', C=1.0) \n",
    "\n",
    "\n",
    "# fit classifier to training set\n",
    "poly_svc.fit(X_train,y_train)\n",
    "\n",
    "\n",
    "# make predictions on test set\n",
    "y_pred=poly_svc.predict(X_test)\n",
    "\n",
    "\n",
    "# compute and print accuracy score\n",
    "print('Model accuracy score with polynomial kernel and C=1.0 : {0:0.4f}'. format(accuracy_score(y_test, y_pred)))"
   ]
  },
  {
   "cell_type": "code",
   "execution_count": 1133,
   "metadata": {},
   "outputs": [
    {
     "name": "stdout",
     "output_type": "stream",
     "text": [
      "Model accuracy score with polynomial kernel and C=100.0 : 0.5902\n"
     ]
    }
   ],
   "source": [
    "#Run SVM with polynomial kernel and C=100.0\n",
    "# instantiate classifier with polynomial kernel and C=100.0\n",
    "poly_svc100=SVC(kernel='poly', C=100.0) \n",
    "\n",
    "\n",
    "# fit classifier to training set\n",
    "poly_svc100.fit(X_train, y_train)\n",
    "\n",
    "\n",
    "# make predictions on test set\n",
    "y_pred=poly_svc100.predict(X_test)\n",
    "\n",
    "\n",
    "# compute and print accuracy score\n",
    "print('Model accuracy score with polynomial kernel and C=100.0 : {0:0.4f}'. format(accuracy_score(y_test, y_pred)))"
   ]
  },
  {
   "cell_type": "code",
   "execution_count": 1134,
   "metadata": {},
   "outputs": [
    {
     "name": "stdout",
     "output_type": "stream",
     "text": [
      "Model accuracy score with sigmoid kernel and C=1.0 : 0.0612\n"
     ]
    }
   ],
   "source": [
    "#Run SVM with sigmoid kernel and C=1.0\n",
    "# instantiate classifier with sigmoid kernel and C=1.0\n",
    "sigmoid_svc=SVC(kernel='sigmoid', C=1.0) \n",
    "\n",
    "\n",
    "# fit classifier to training set\n",
    "sigmoid_svc.fit(X_train,y_train)\n",
    "\n",
    "\n",
    "# make predictions on test set\n",
    "y_pred=sigmoid_svc.predict(X_test)\n",
    "\n",
    "\n",
    "# compute and print accuracy score\n",
    "print('Model accuracy score with sigmoid kernel and C=1.0 : {0:0.4f}'. format(accuracy_score(y_test, y_pred)))"
   ]
  },
  {
   "cell_type": "code",
   "execution_count": 1135,
   "metadata": {},
   "outputs": [
    {
     "name": "stdout",
     "output_type": "stream",
     "text": [
      "Model accuracy score with sigmoid kernel and C=100.0 : 0.1988\n"
     ]
    }
   ],
   "source": [
    "#Run SVM with sigmoid kernel and C=100.0\n",
    "# instantiate classifier with sigmoid kernel and C=100.0\n",
    "sigmoid_svc100=SVC(kernel='sigmoid', C=100.0) \n",
    "\n",
    "\n",
    "# fit classifier to training set\n",
    "sigmoid_svc100.fit(X_train,y_train)\n",
    "\n",
    "\n",
    "# make predictions on test set\n",
    "y_pred=sigmoid_svc100.predict(X_test)\n",
    "\n",
    "\n",
    "# compute and print accuracy score\n",
    "print('Model accuracy score with sigmoid kernel and C=100.0 : {0:0.4f}'. format(accuracy_score(y_test, y_pred)))"
   ]
  },
  {
   "cell_type": "code",
   "execution_count": 1136,
   "metadata": {},
   "outputs": [],
   "source": [
    "X_test['cellphone_id'] = y_pred"
   ]
  },
  {
   "cell_type": "code",
   "execution_count": 1137,
   "metadata": {},
   "outputs": [],
   "source": [
    "## JOINING THE DATA\n",
    "\n",
    "X_test = X_test.set_index('cellphone_id').join(data)"
   ]
  },
  {
   "cell_type": "code",
   "execution_count": 1138,
   "metadata": {},
   "outputs": [
    {
     "data": {
      "text/html": [
       "<div>\n",
       "<style scoped>\n",
       "    .dataframe tbody tr th:only-of-type {\n",
       "        vertical-align: middle;\n",
       "    }\n",
       "\n",
       "    .dataframe tbody tr th {\n",
       "        vertical-align: top;\n",
       "    }\n",
       "\n",
       "    .dataframe thead th {\n",
       "        text-align: right;\n",
       "    }\n",
       "</style>\n",
       "<table border=\"1\" class=\"dataframe\">\n",
       "  <thead>\n",
       "    <tr style=\"text-align: right;\">\n",
       "      <th></th>\n",
       "      <th>rating</th>\n",
       "      <th>operating system</th>\n",
       "      <th>price</th>\n",
       "      <th>age</th>\n",
       "      <th>gender</th>\n",
       "      <th>occupation</th>\n",
       "      <th>cellphone_id</th>\n",
       "      <th>brand</th>\n",
       "      <th>model</th>\n",
       "      <th>internal memory</th>\n",
       "      <th>RAM</th>\n",
       "      <th>performance</th>\n",
       "      <th>main camera</th>\n",
       "      <th>selfie camera</th>\n",
       "      <th>battery size</th>\n",
       "      <th>screen size</th>\n",
       "      <th>weight</th>\n",
       "      <th>release date</th>\n",
       "    </tr>\n",
       "  </thead>\n",
       "  <tbody>\n",
       "    <tr>\n",
       "      <th>4</th>\n",
       "      <td>4.0</td>\n",
       "      <td>29.0</td>\n",
       "      <td>449.0</td>\n",
       "      <td>32.84375</td>\n",
       "      <td>2.0</td>\n",
       "      <td>9.0</td>\n",
       "      <td>4</td>\n",
       "      <td>Apple</td>\n",
       "      <td>iPhone 13 Pro Max</td>\n",
       "      <td>256</td>\n",
       "      <td>6</td>\n",
       "      <td>8.01</td>\n",
       "      <td>12</td>\n",
       "      <td>12</td>\n",
       "      <td>4352</td>\n",
       "      <td>6.7</td>\n",
       "      <td>240</td>\n",
       "      <td>24/09/2021</td>\n",
       "    </tr>\n",
       "    <tr>\n",
       "      <th>4</th>\n",
       "      <td>8.0</td>\n",
       "      <td>29.0</td>\n",
       "      <td>528.0</td>\n",
       "      <td>32.84375</td>\n",
       "      <td>2.0</td>\n",
       "      <td>9.0</td>\n",
       "      <td>4</td>\n",
       "      <td>Apple</td>\n",
       "      <td>iPhone 13 Pro Max</td>\n",
       "      <td>256</td>\n",
       "      <td>6</td>\n",
       "      <td>8.01</td>\n",
       "      <td>12</td>\n",
       "      <td>12</td>\n",
       "      <td>4352</td>\n",
       "      <td>6.7</td>\n",
       "      <td>240</td>\n",
       "      <td>24/09/2021</td>\n",
       "    </tr>\n",
       "    <tr>\n",
       "      <th>4</th>\n",
       "      <td>7.0</td>\n",
       "      <td>29.0</td>\n",
       "      <td>449.0</td>\n",
       "      <td>32.84375</td>\n",
       "      <td>2.0</td>\n",
       "      <td>9.0</td>\n",
       "      <td>4</td>\n",
       "      <td>Apple</td>\n",
       "      <td>iPhone 13 Pro Max</td>\n",
       "      <td>256</td>\n",
       "      <td>6</td>\n",
       "      <td>8.01</td>\n",
       "      <td>12</td>\n",
       "      <td>12</td>\n",
       "      <td>4352</td>\n",
       "      <td>6.7</td>\n",
       "      <td>240</td>\n",
       "      <td>24/09/2021</td>\n",
       "    </tr>\n",
       "    <tr>\n",
       "      <th>4</th>\n",
       "      <td>3.0</td>\n",
       "      <td>29.0</td>\n",
       "      <td>528.0</td>\n",
       "      <td>32.84375</td>\n",
       "      <td>2.0</td>\n",
       "      <td>9.0</td>\n",
       "      <td>4</td>\n",
       "      <td>Apple</td>\n",
       "      <td>iPhone 13 Pro Max</td>\n",
       "      <td>256</td>\n",
       "      <td>6</td>\n",
       "      <td>8.01</td>\n",
       "      <td>12</td>\n",
       "      <td>12</td>\n",
       "      <td>4352</td>\n",
       "      <td>6.7</td>\n",
       "      <td>240</td>\n",
       "      <td>24/09/2021</td>\n",
       "    </tr>\n",
       "    <tr>\n",
       "      <th>4</th>\n",
       "      <td>2.0</td>\n",
       "      <td>29.0</td>\n",
       "      <td>528.0</td>\n",
       "      <td>32.84375</td>\n",
       "      <td>2.0</td>\n",
       "      <td>9.0</td>\n",
       "      <td>4</td>\n",
       "      <td>Apple</td>\n",
       "      <td>iPhone 13 Pro Max</td>\n",
       "      <td>256</td>\n",
       "      <td>6</td>\n",
       "      <td>8.01</td>\n",
       "      <td>12</td>\n",
       "      <td>12</td>\n",
       "      <td>4352</td>\n",
       "      <td>6.7</td>\n",
       "      <td>240</td>\n",
       "      <td>24/09/2021</td>\n",
       "    </tr>\n",
       "    <tr>\n",
       "      <th>...</th>\n",
       "      <td>...</td>\n",
       "      <td>...</td>\n",
       "      <td>...</td>\n",
       "      <td>...</td>\n",
       "      <td>...</td>\n",
       "      <td>...</td>\n",
       "      <td>...</td>\n",
       "      <td>...</td>\n",
       "      <td>...</td>\n",
       "      <td>...</td>\n",
       "      <td>...</td>\n",
       "      <td>...</td>\n",
       "      <td>...</td>\n",
       "      <td>...</td>\n",
       "      <td>...</td>\n",
       "      <td>...</td>\n",
       "      <td>...</td>\n",
       "      <td>...</td>\n",
       "    </tr>\n",
       "    <tr>\n",
       "      <th>31</th>\n",
       "      <td>2.0</td>\n",
       "      <td>29.0</td>\n",
       "      <td>129.0</td>\n",
       "      <td>32.84375</td>\n",
       "      <td>2.0</td>\n",
       "      <td>9.0</td>\n",
       "      <td>31</td>\n",
       "      <td>Motorola</td>\n",
       "      <td>Moto G Pure</td>\n",
       "      <td>32</td>\n",
       "      <td>3</td>\n",
       "      <td>1.02</td>\n",
       "      <td>13</td>\n",
       "      <td>5</td>\n",
       "      <td>4000</td>\n",
       "      <td>6.5</td>\n",
       "      <td>188</td>\n",
       "      <td>14/10/2021</td>\n",
       "    </tr>\n",
       "    <tr>\n",
       "      <th>31</th>\n",
       "      <td>7.0</td>\n",
       "      <td>29.0</td>\n",
       "      <td>129.0</td>\n",
       "      <td>32.84375</td>\n",
       "      <td>2.0</td>\n",
       "      <td>9.0</td>\n",
       "      <td>31</td>\n",
       "      <td>Motorola</td>\n",
       "      <td>Moto G Pure</td>\n",
       "      <td>32</td>\n",
       "      <td>3</td>\n",
       "      <td>1.02</td>\n",
       "      <td>13</td>\n",
       "      <td>5</td>\n",
       "      <td>4000</td>\n",
       "      <td>6.5</td>\n",
       "      <td>188</td>\n",
       "      <td>14/10/2021</td>\n",
       "    </tr>\n",
       "    <tr>\n",
       "      <th>31</th>\n",
       "      <td>1.0</td>\n",
       "      <td>29.0</td>\n",
       "      <td>129.0</td>\n",
       "      <td>32.84375</td>\n",
       "      <td>2.0</td>\n",
       "      <td>9.0</td>\n",
       "      <td>31</td>\n",
       "      <td>Motorola</td>\n",
       "      <td>Moto G Pure</td>\n",
       "      <td>32</td>\n",
       "      <td>3</td>\n",
       "      <td>1.02</td>\n",
       "      <td>13</td>\n",
       "      <td>5</td>\n",
       "      <td>4000</td>\n",
       "      <td>6.5</td>\n",
       "      <td>188</td>\n",
       "      <td>14/10/2021</td>\n",
       "    </tr>\n",
       "    <tr>\n",
       "      <th>31</th>\n",
       "      <td>8.0</td>\n",
       "      <td>29.0</td>\n",
       "      <td>129.0</td>\n",
       "      <td>39.00000</td>\n",
       "      <td>1.0</td>\n",
       "      <td>28.0</td>\n",
       "      <td>31</td>\n",
       "      <td>Motorola</td>\n",
       "      <td>Moto G Pure</td>\n",
       "      <td>32</td>\n",
       "      <td>3</td>\n",
       "      <td>1.02</td>\n",
       "      <td>13</td>\n",
       "      <td>5</td>\n",
       "      <td>4000</td>\n",
       "      <td>6.5</td>\n",
       "      <td>188</td>\n",
       "      <td>14/10/2021</td>\n",
       "    </tr>\n",
       "    <tr>\n",
       "      <th>31</th>\n",
       "      <td>7.0</td>\n",
       "      <td>29.0</td>\n",
       "      <td>129.0</td>\n",
       "      <td>32.84375</td>\n",
       "      <td>2.0</td>\n",
       "      <td>9.0</td>\n",
       "      <td>31</td>\n",
       "      <td>Motorola</td>\n",
       "      <td>Moto G Pure</td>\n",
       "      <td>32</td>\n",
       "      <td>3</td>\n",
       "      <td>1.02</td>\n",
       "      <td>13</td>\n",
       "      <td>5</td>\n",
       "      <td>4000</td>\n",
       "      <td>6.5</td>\n",
       "      <td>188</td>\n",
       "      <td>14/10/2021</td>\n",
       "    </tr>\n",
       "  </tbody>\n",
       "</table>\n",
       "<p>327 rows × 18 columns</p>\n",
       "</div>"
      ],
      "text/plain": [
       "    rating  operating system  price       age  gender  occupation  \\\n",
       "4      4.0              29.0  449.0  32.84375     2.0         9.0   \n",
       "4      8.0              29.0  528.0  32.84375     2.0         9.0   \n",
       "4      7.0              29.0  449.0  32.84375     2.0         9.0   \n",
       "4      3.0              29.0  528.0  32.84375     2.0         9.0   \n",
       "4      2.0              29.0  528.0  32.84375     2.0         9.0   \n",
       "..     ...               ...    ...       ...     ...         ...   \n",
       "31     2.0              29.0  129.0  32.84375     2.0         9.0   \n",
       "31     7.0              29.0  129.0  32.84375     2.0         9.0   \n",
       "31     1.0              29.0  129.0  32.84375     2.0         9.0   \n",
       "31     8.0              29.0  129.0  39.00000     1.0        28.0   \n",
       "31     7.0              29.0  129.0  32.84375     2.0         9.0   \n",
       "\n",
       "    cellphone_id     brand              model  internal memory  RAM  \\\n",
       "4              4     Apple  iPhone 13 Pro Max              256    6   \n",
       "4              4     Apple  iPhone 13 Pro Max              256    6   \n",
       "4              4     Apple  iPhone 13 Pro Max              256    6   \n",
       "4              4     Apple  iPhone 13 Pro Max              256    6   \n",
       "4              4     Apple  iPhone 13 Pro Max              256    6   \n",
       "..           ...       ...                ...              ...  ...   \n",
       "31            31  Motorola        Moto G Pure               32    3   \n",
       "31            31  Motorola        Moto G Pure               32    3   \n",
       "31            31  Motorola        Moto G Pure               32    3   \n",
       "31            31  Motorola        Moto G Pure               32    3   \n",
       "31            31  Motorola        Moto G Pure               32    3   \n",
       "\n",
       "    performance  main camera  selfie camera  battery size  screen size  \\\n",
       "4          8.01           12             12          4352          6.7   \n",
       "4          8.01           12             12          4352          6.7   \n",
       "4          8.01           12             12          4352          6.7   \n",
       "4          8.01           12             12          4352          6.7   \n",
       "4          8.01           12             12          4352          6.7   \n",
       "..          ...          ...            ...           ...          ...   \n",
       "31         1.02           13              5          4000          6.5   \n",
       "31         1.02           13              5          4000          6.5   \n",
       "31         1.02           13              5          4000          6.5   \n",
       "31         1.02           13              5          4000          6.5   \n",
       "31         1.02           13              5          4000          6.5   \n",
       "\n",
       "    weight release date  \n",
       "4      240   24/09/2021  \n",
       "4      240   24/09/2021  \n",
       "4      240   24/09/2021  \n",
       "4      240   24/09/2021  \n",
       "4      240   24/09/2021  \n",
       "..     ...          ...  \n",
       "31     188   14/10/2021  \n",
       "31     188   14/10/2021  \n",
       "31     188   14/10/2021  \n",
       "31     188   14/10/2021  \n",
       "31     188   14/10/2021  \n",
       "\n",
       "[327 rows x 18 columns]"
      ]
     },
     "execution_count": 1138,
     "metadata": {},
     "output_type": "execute_result"
    }
   ],
   "source": [
    "X_test"
   ]
  },
  {
   "cell_type": "code",
   "execution_count": 1139,
   "metadata": {},
   "outputs": [
    {
     "ename": "ValueError",
     "evalue": "invalid literal for int() with base 10: ''",
     "output_type": "error",
     "traceback": [
      "\u001b[0;31m---------------------------------------------------------------------------\u001b[0m",
      "\u001b[0;31mValueError\u001b[0m                                Traceback (most recent call last)",
      "\u001b[0;32m/var/folders/_f/d8nhyzj14p18s7x96b0pv2bm0000gn/T/ipykernel_32360/11952261.py\u001b[0m in \u001b[0;36m<module>\u001b[0;34m\u001b[0m\n\u001b[1;32m      1\u001b[0m \u001b[0mdf\u001b[0m \u001b[0;34m=\u001b[0m \u001b[0mpd\u001b[0m\u001b[0;34m.\u001b[0m\u001b[0mDataFrame\u001b[0m\u001b[0;34m(\u001b[0m\u001b[0mcolumns\u001b[0m\u001b[0;34m=\u001b[0m\u001b[0;34m[\u001b[0m\u001b[0;34m'rating'\u001b[0m\u001b[0;34m,\u001b[0m\u001b[0;34m'operating system'\u001b[0m\u001b[0;34m,\u001b[0m \u001b[0;34m'price'\u001b[0m\u001b[0;34m,\u001b[0m \u001b[0;34m'age'\u001b[0m\u001b[0;34m,\u001b[0m \u001b[0;34m'gender'\u001b[0m\u001b[0;34m,\u001b[0m \u001b[0;34m'occupation'\u001b[0m\u001b[0;34m]\u001b[0m\u001b[0;34m)\u001b[0m\u001b[0;34m\u001b[0m\u001b[0;34m\u001b[0m\u001b[0m\n\u001b[0;32m----> 2\u001b[0;31m \u001b[0mparts\u001b[0m \u001b[0;34m=\u001b[0m \u001b[0mint\u001b[0m\u001b[0;34m(\u001b[0m\u001b[0minput\u001b[0m\u001b[0;34m(\u001b[0m\u001b[0;34m\"Enter the number of cellphones:\"\u001b[0m\u001b[0;34m)\u001b[0m\u001b[0;34m)\u001b[0m\u001b[0;34m\u001b[0m\u001b[0;34m\u001b[0m\u001b[0m\n\u001b[0m\u001b[1;32m      3\u001b[0m \u001b[0;34m\u001b[0m\u001b[0m\n\u001b[1;32m      4\u001b[0m \u001b[0;32mfor\u001b[0m \u001b[0m_\u001b[0m \u001b[0;32min\u001b[0m \u001b[0mrange\u001b[0m\u001b[0;34m(\u001b[0m\u001b[0mparts\u001b[0m\u001b[0;34m)\u001b[0m\u001b[0;34m:\u001b[0m\u001b[0;34m\u001b[0m\u001b[0;34m\u001b[0m\u001b[0m\n\u001b[1;32m      5\u001b[0m     \u001b[0mrate\u001b[0m \u001b[0;34m=\u001b[0m \u001b[0mint\u001b[0m\u001b[0;34m(\u001b[0m\u001b[0minput\u001b[0m\u001b[0;34m(\u001b[0m\u001b[0;34m\"Enter your dream phone's rating (1-10) : \"\u001b[0m\u001b[0;34m)\u001b[0m\u001b[0;34m)\u001b[0m\u001b[0;34m\u001b[0m\u001b[0;34m\u001b[0m\u001b[0m\n",
      "\u001b[0;31mValueError\u001b[0m: invalid literal for int() with base 10: ''"
     ]
    }
   ],
   "source": [
    "df = pd.DataFrame(columns=['rating','operating system', 'price', 'age', 'gender', 'occupation'])\n",
    "parts = int(input(\"Enter the number of cellphones:\"))\n",
    "\n",
    "for _ in range(parts):\n",
    "    rate = int(input(\"Enter your dream phone's rating (1-10) : \"))\n",
    "    os = input(\"Enter your operating system :\")\n",
    "    bd = float(input(\"Enter your budget (in USD) :\"))\n",
    "    ag = int(input(\"Enter your age :\"))\n",
    "    gd = input(\"Enter your gender:\")\n",
    "    oc = input(\"Enter your occupation\")\n",
    "    df1 = pd.DataFrame(data=[[rate,os,bd,ag,gd,oc]],columns=['rating','operating system', 'price', 'age', 'gender', 'occupation'])\n",
    "    df = pd.concat([df,df1], axis=0)\n",
    "\n",
    "df.index = range(len(df.index))"
   ]
  },
  {
   "cell_type": "code",
   "execution_count": null,
   "metadata": {},
   "outputs": [
    {
     "data": {
      "text/html": [
       "<div>\n",
       "<style scoped>\n",
       "    .dataframe tbody tr th:only-of-type {\n",
       "        vertical-align: middle;\n",
       "    }\n",
       "\n",
       "    .dataframe tbody tr th {\n",
       "        vertical-align: top;\n",
       "    }\n",
       "\n",
       "    .dataframe thead th {\n",
       "        text-align: right;\n",
       "    }\n",
       "</style>\n",
       "<table border=\"1\" class=\"dataframe\">\n",
       "  <thead>\n",
       "    <tr style=\"text-align: right;\">\n",
       "      <th></th>\n",
       "      <th>rating</th>\n",
       "      <th>operating system</th>\n",
       "      <th>price</th>\n",
       "      <th>age</th>\n",
       "      <th>gender</th>\n",
       "      <th>occupation</th>\n",
       "    </tr>\n",
       "  </thead>\n",
       "  <tbody>\n",
       "    <tr>\n",
       "      <th>0</th>\n",
       "      <td>8</td>\n",
       "      <td>iOS</td>\n",
       "      <td>690.0</td>\n",
       "      <td>22</td>\n",
       "      <td>female</td>\n",
       "      <td>Data analyst</td>\n",
       "    </tr>\n",
       "  </tbody>\n",
       "</table>\n",
       "</div>"
      ],
      "text/plain": [
       "  rating operating system  price age  gender    occupation\n",
       "0      8              iOS  690.0  22  female  Data analyst"
      ]
     },
     "execution_count": 1054,
     "metadata": {},
     "output_type": "execute_result"
    }
   ],
   "source": [
    "df"
   ]
  },
  {
   "cell_type": "code",
   "execution_count": null,
   "metadata": {},
   "outputs": [
    {
     "data": {
      "text/plain": [
       "rating               object\n",
       "operating system     object\n",
       "price               float64\n",
       "age                  object\n",
       "gender               object\n",
       "occupation           object\n",
       "dtype: object"
      ]
     },
     "execution_count": 1055,
     "metadata": {},
     "output_type": "execute_result"
    }
   ],
   "source": [
    "df.dtypes"
   ]
  },
  {
   "cell_type": "code",
   "execution_count": null,
   "metadata": {},
   "outputs": [],
   "source": [
    "df['occupation'] = df['occupation'].fillna('jobless')\n",
    "df['operating system'] = df['operating system'].fillna('Android')\n",
    "df['gender'] = df['gender'].fillna(2)\n",
    "df['rating'] = df['rating'].fillna(10)\n",
    "df['age'] = df['age'].fillna(ratings['age'].mean())\n",
    "df['price'] = df['price'].fillna(ratings['price'].mean())"
   ]
  },
  {
   "cell_type": "code",
   "execution_count": null,
   "metadata": {},
   "outputs": [],
   "source": [
    "df['operating system'] = df['operating system'].apply(alphabet_to_number)"
   ]
  },
  {
   "cell_type": "code",
   "execution_count": null,
   "metadata": {},
   "outputs": [],
   "source": [
    "df['occupation'] = df['occupation'].apply(alphabet_to_number)"
   ]
  },
  {
   "cell_type": "code",
   "execution_count": null,
   "metadata": {},
   "outputs": [],
   "source": [
    "df['gender'] = df['gender'].apply(gender_null)"
   ]
  },
  {
   "cell_type": "code",
   "execution_count": null,
   "metadata": {},
   "outputs": [],
   "source": [
    "object_data = ['operating system', 'occupation']\n",
    "all_objects = []\n",
    "for rows in ratings[object_data].fillna(\" \").values.tolist():\n",
    "    for phrases in rows:\n",
    "        all_objects.append(phrases)\n",
    "all_objects = list(set(all_objects))"
   ]
  },
  {
   "cell_type": "code",
   "execution_count": null,
   "metadata": {},
   "outputs": [
    {
     "data": {
      "text/html": [
       "<div>\n",
       "<style scoped>\n",
       "    .dataframe tbody tr th:only-of-type {\n",
       "        vertical-align: middle;\n",
       "    }\n",
       "\n",
       "    .dataframe tbody tr th {\n",
       "        vertical-align: top;\n",
       "    }\n",
       "\n",
       "    .dataframe thead th {\n",
       "        text-align: right;\n",
       "    }\n",
       "</style>\n",
       "<table border=\"1\" class=\"dataframe\">\n",
       "  <thead>\n",
       "    <tr style=\"text-align: right;\">\n",
       "      <th></th>\n",
       "      <th>rating</th>\n",
       "      <th>operating system</th>\n",
       "      <th>price</th>\n",
       "      <th>age</th>\n",
       "      <th>gender</th>\n",
       "      <th>occupation</th>\n",
       "    </tr>\n",
       "  </thead>\n",
       "  <tbody>\n",
       "    <tr>\n",
       "      <th>0</th>\n",
       "      <td>8</td>\n",
       "      <td>8</td>\n",
       "      <td>690.0</td>\n",
       "      <td>22</td>\n",
       "      <td>0</td>\n",
       "      <td>12</td>\n",
       "    </tr>\n",
       "  </tbody>\n",
       "</table>\n",
       "</div>"
      ],
      "text/plain": [
       "   rating  operating system  price  age  gender  occupation\n",
       "0       8                 8  690.0   22       0          12"
      ]
     },
     "execution_count": 1061,
     "metadata": {},
     "output_type": "execute_result"
    }
   ],
   "source": [
    "df"
   ]
  },
  {
   "cell_type": "code",
   "execution_count": null,
   "metadata": {},
   "outputs": [],
   "source": [
    "df = df.astype(np.float32)"
   ]
  },
  {
   "cell_type": "code",
   "execution_count": null,
   "metadata": {},
   "outputs": [
    {
     "data": {
      "text/plain": [
       "rating              float32\n",
       "operating system    float32\n",
       "price               float32\n",
       "age                 float32\n",
       "gender              float32\n",
       "occupation          float32\n",
       "dtype: object"
      ]
     },
     "execution_count": 1063,
     "metadata": {},
     "output_type": "execute_result"
    }
   ],
   "source": [
    "df.dtypes"
   ]
  },
  {
   "cell_type": "code",
   "execution_count": null,
   "metadata": {},
   "outputs": [],
   "source": [
    "df_pred = linear_svc1000.predict(df)"
   ]
  },
  {
   "cell_type": "code",
   "execution_count": null,
   "metadata": {},
   "outputs": [],
   "source": [
    "df['cellphone_id'] = df_pred"
   ]
  },
  {
   "cell_type": "code",
   "execution_count": null,
   "metadata": {},
   "outputs": [],
   "source": [
    "## JOINING THE DATA\n",
    "\n",
    "df = df.set_index('cellphone_id').join(data)"
   ]
  },
  {
   "cell_type": "code",
   "execution_count": null,
   "metadata": {},
   "outputs": [
    {
     "data": {
      "text/html": [
       "<div>\n",
       "<style scoped>\n",
       "    .dataframe tbody tr th:only-of-type {\n",
       "        vertical-align: middle;\n",
       "    }\n",
       "\n",
       "    .dataframe tbody tr th {\n",
       "        vertical-align: top;\n",
       "    }\n",
       "\n",
       "    .dataframe thead th {\n",
       "        text-align: right;\n",
       "    }\n",
       "</style>\n",
       "<table border=\"1\" class=\"dataframe\">\n",
       "  <thead>\n",
       "    <tr style=\"text-align: right;\">\n",
       "      <th></th>\n",
       "      <th>rating</th>\n",
       "      <th>operating system</th>\n",
       "      <th>price</th>\n",
       "      <th>age</th>\n",
       "      <th>gender</th>\n",
       "      <th>occupation</th>\n",
       "      <th>cellphone_id</th>\n",
       "      <th>brand</th>\n",
       "      <th>model</th>\n",
       "      <th>internal memory</th>\n",
       "      <th>RAM</th>\n",
       "      <th>performance</th>\n",
       "      <th>main camera</th>\n",
       "      <th>selfie camera</th>\n",
       "      <th>battery size</th>\n",
       "      <th>screen size</th>\n",
       "      <th>weight</th>\n",
       "      <th>release date</th>\n",
       "    </tr>\n",
       "    <tr>\n",
       "      <th>cellphone_id</th>\n",
       "      <th></th>\n",
       "      <th></th>\n",
       "      <th></th>\n",
       "      <th></th>\n",
       "      <th></th>\n",
       "      <th></th>\n",
       "      <th></th>\n",
       "      <th></th>\n",
       "      <th></th>\n",
       "      <th></th>\n",
       "      <th></th>\n",
       "      <th></th>\n",
       "      <th></th>\n",
       "      <th></th>\n",
       "      <th></th>\n",
       "      <th></th>\n",
       "      <th></th>\n",
       "      <th></th>\n",
       "    </tr>\n",
       "  </thead>\n",
       "  <tbody>\n",
       "    <tr>\n",
       "      <th>1</th>\n",
       "      <td>8.0</td>\n",
       "      <td>8.0</td>\n",
       "      <td>690.0</td>\n",
       "      <td>22.0</td>\n",
       "      <td>0.0</td>\n",
       "      <td>12.0</td>\n",
       "      <td>1</td>\n",
       "      <td>Apple</td>\n",
       "      <td>iPhone 13 Mini</td>\n",
       "      <td>128</td>\n",
       "      <td>4</td>\n",
       "      <td>7.72</td>\n",
       "      <td>12</td>\n",
       "      <td>12</td>\n",
       "      <td>2438</td>\n",
       "      <td>5.4</td>\n",
       "      <td>141</td>\n",
       "      <td>24/09/2021</td>\n",
       "    </tr>\n",
       "  </tbody>\n",
       "</table>\n",
       "</div>"
      ],
      "text/plain": [
       "              rating  operating system  price   age  gender  occupation  \\\n",
       "cellphone_id                                                              \n",
       "1                8.0               8.0  690.0  22.0     0.0        12.0   \n",
       "\n",
       "              cellphone_id  brand           model  internal memory  RAM  \\\n",
       "cellphone_id                                                              \n",
       "1                        1  Apple  iPhone 13 Mini              128    4   \n",
       "\n",
       "              performance  main camera  selfie camera  battery size  \\\n",
       "cellphone_id                                                          \n",
       "1                    7.72           12             12          2438   \n",
       "\n",
       "              screen size  weight release date  \n",
       "cellphone_id                                    \n",
       "1                     5.4     141   24/09/2021  "
      ]
     },
     "execution_count": 1067,
     "metadata": {},
     "output_type": "execute_result"
    }
   ],
   "source": [
    "df"
   ]
  }
 ],
 "metadata": {
  "kernelspec": {
   "display_name": "Python 3.9.7 ('base')",
   "language": "python",
   "name": "python3"
  },
  "language_info": {
   "codemirror_mode": {
    "name": "ipython",
    "version": 3
   },
   "file_extension": ".py",
   "mimetype": "text/x-python",
   "name": "python",
   "nbconvert_exporter": "python",
   "pygments_lexer": "ipython3",
   "version": "3.9.7"
  },
  "orig_nbformat": 4,
  "vscode": {
   "interpreter": {
    "hash": "651c3b7b3f466eb030aa737f279c846be4db9cba49a2f229278cab5e41121ed5"
   }
  }
 },
 "nbformat": 4,
 "nbformat_minor": 2
}
